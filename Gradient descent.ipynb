{
 "cells": [
  {
   "cell_type": "raw",
   "source": [
    "z = 13x^3 - 7xy + y^2 + 2y^3 - 97\n",
    "z' = 39x^2 - 7x - 7y + 2y + 6y^2\n",
    "For x: 39x^2 - 7y\n",
    "For y: -7x + 2y + 6y^2"
   ],
   "metadata": {
    "collapsed": false
   },
   "id": "bea829281a2c9893"
  },
  {
   "cell_type": "code",
   "execution_count": 2,
   "outputs": [],
   "source": [
    "# this class counts next values after iteration and gradient of a given function\n",
    "class Function:\n",
    "    def __init__(self,x,y):\n",
    "        self.x=x\n",
    "        self.y=y\n",
    "    def grad_x(self):\n",
    "        return 39*(self.x**2)-7*self.y\n",
    "    def grad_y(self):\n",
    "        return -7*self.x+2*self.y+6*(self.y**2)\n",
    "    def iteration(self,learning_rate):\n",
    "        return self.x - learning_rate * self.grad_x(), self.y - learning_rate * self.grad_y()\n",
    "        "
   ],
   "metadata": {
    "collapsed": false,
    "ExecuteTime": {
     "end_time": "2023-10-29T08:27:23.696790Z",
     "start_time": "2023-10-29T08:27:23.693262Z"
    }
   },
   "id": "eacf3eca1a88683f"
  },
  {
   "cell_type": "code",
   "execution_count": 4,
   "outputs": [
    {
     "name": "stdout",
     "output_type": "stream",
     "text": [
      "603 32\n",
      "(-56.300000000000004, -0.20000000000000018)\n"
     ]
    }
   ],
   "source": [
    "x_0,y_0=(4,3)\n",
    "fn=Function(x_0,y_0)\n",
    "print(fn.grad_x(),fn.grad_y())\n",
    "print(fn.iteration(learning_rate=0.1))"
   ],
   "metadata": {
    "collapsed": false,
    "ExecuteTime": {
     "end_time": "2023-10-29T08:27:34.309807Z",
     "start_time": "2023-10-29T08:27:34.303091Z"
    }
   },
   "id": "13512218c75cfab8"
  },
  {
   "cell_type": "raw",
   "source": [
    "a(x)=2x+3 is a solution for linear regression. Input data is (x,y) = (3,8),(0,3),(2,6),(1,5). Task is to compute loss."
   ],
   "metadata": {
    "collapsed": false
   },
   "id": "a5dfe78c4db2f7fd"
  },
  {
   "cell_type": "code",
   "execution_count": 9,
   "outputs": [
    {
     "name": "stdout",
     "output_type": "stream",
     "text": [
      "4 10\n",
      "1.0 2.5\n"
     ]
    }
   ],
   "source": [
    "import numpy as np\n",
    "w1=2\n",
    "w0=3\n",
    "x=[3,0,2,1]\n",
    "y=[8,3,6,5]\n",
    "x_ans=0\n",
    "y_ans=0\n",
    "for i in range(len(x)):\n",
    "    x_ans+=2*(w0+w1*x[i]-y[i])\n",
    "    y_ans+=2*(w1*(x[i]**2)+w0*x[i]-x[i]*y[i])\n",
    "print(x_ans,y_ans)\n",
    "print(x_ans/len(x),y_ans/len(x))"
   ],
   "metadata": {
    "collapsed": false,
    "ExecuteTime": {
     "end_time": "2023-10-29T08:39:22.187919Z",
     "start_time": "2023-10-29T08:39:22.184091Z"
    }
   },
   "id": "f541373e852d7ae4"
  },
  {
   "cell_type": "raw",
   "source": [
    "gradient_descent(func,start_point,gamma,epsilon,steps):\n",
    "\n",
    "func\n",
    "callable объект, который является дифференцируемой функцией\n",
    "\n",
    "start_point ->\n",
    "\n",
    "точка, с которой необходимо начать градиентный спуск\n",
    "\n",
    "\n",
    "gamma ->\n",
    "параметр (learning rate)\n",
    "\n",
    "epsilon ->\n",
    "параметр epsion (досрочная остановка при условии f(x ^ (k+1)) - f(x ^ k) < epsilon)\n",
    "\n",
    "steps ->\n",
    "количество шагов. Если указано 0, то ориентируемся на критерий остановки, если указано ненулевое значение, то выполняем ровно steps шагов."
   ],
   "metadata": {
    "collapsed": false
   },
   "id": "8d4a11ba77a4c647"
  },
  {
   "cell_type": "code",
   "execution_count": 56,
   "outputs": [],
   "source": [
    "import numpy as np\n",
    "# this function computes gradient descent on random function \n",
    "\n",
    "def gradient_descent(function, start_point, gamma, epsilon, steps):\n",
    "    gradient_history = []\n",
    "    delta_x = 1e-9\n",
    "\n",
    "    def derivative_of_function(curr_point_):\n",
    "        # get derivative of a function\n",
    "        return (function(curr_point_ + delta_x) - function(curr_point_)) / delta_x\n",
    "\n",
    "    def iteration(curr_point_):\n",
    "        # compute new start point for next iteration\n",
    "        next_point = curr_point_ - gamma * derivative_of_function(curr_point_)\n",
    "        gradient_history.append(next_point)\n",
    "\n",
    "    # add first point to gradient history\n",
    "    if len(gradient_history) == 0:\n",
    "        gradient_history.append(start_point)\n",
    "    for step_ in range(steps):\n",
    "        current_point = gradient_history[-1]\n",
    "\n",
    "        # compute new start point for next iteration\n",
    "        iteration(current_point)\n",
    "    if steps == 0:\n",
    "\n",
    "        # do one iteration to fill the history\n",
    "        current_point = gradient_history[-1]\n",
    "        iteration(current_point)\n",
    "        difference = np.abs(function(gradient_history[-1]) - function(gradient_history[-2]))\n",
    "        # \n",
    "        while difference >= epsilon:\n",
    "            current_point = gradient_history[-1]\n",
    "            iteration(current_point)\n",
    "            newest_point = gradient_history[-1]\n",
    "            difference = np.abs(function(newest_point) - function(current_point))\n",
    "    #     \n",
    "    gradient_history = np.array(np.round(gradient_history, decimals=3))\n",
    "    return gradient_history.reshape(-1, 1)\n"
   ],
   "metadata": {
    "collapsed": false,
    "ExecuteTime": {
     "end_time": "2023-10-29T10:20:29.071782Z",
     "start_time": "2023-10-29T10:20:29.068199Z"
    }
   },
   "id": "169ae87b4be8cd0f"
  },
  {
   "cell_type": "code",
   "execution_count": 57,
   "outputs": [
    {
     "name": "stdout",
     "output_type": "stream",
     "text": [
      "[[1.6  ]\n",
      " [0.96 ]\n",
      " [0.576]\n",
      " [0.346]\n",
      " [0.207]\n",
      " [0.124]\n",
      " [0.075]]\n",
      "7\n"
     ]
    }
   ],
   "source": [
    "# function=lambda x:x**2\n",
    "start_poin = 1.6\n",
    "gamm=0.2\n",
    "epsilo=0.01\n",
    "step=6\n",
    "function=lambda x:x**2\n",
    "print(gradient_descent(function,start_poin,gamm,epsilo,step))\n",
    "print(len(gradient_descent(function,start_poin,gamm,epsilo,step)))"
   ],
   "metadata": {
    "collapsed": false,
    "ExecuteTime": {
     "end_time": "2023-10-29T10:20:29.475707Z",
     "start_time": "2023-10-29T10:20:29.467223Z"
    }
   },
   "id": "488bdcac431b5695"
  },
  {
   "cell_type": "code",
   "execution_count": null,
   "outputs": [],
   "source": [],
   "metadata": {
    "collapsed": false
   },
   "id": "6022ea44d04e31f1"
  }
 ],
 "metadata": {
  "kernelspec": {
   "display_name": "Python 3",
   "language": "python",
   "name": "python3"
  },
  "language_info": {
   "codemirror_mode": {
    "name": "ipython",
    "version": 2
   },
   "file_extension": ".py",
   "mimetype": "text/x-python",
   "name": "python",
   "nbconvert_exporter": "python",
   "pygments_lexer": "ipython2",
   "version": "2.7.6"
  }
 },
 "nbformat": 4,
 "nbformat_minor": 5
}
