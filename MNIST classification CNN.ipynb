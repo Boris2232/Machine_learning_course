{
 "cells": [
  {
   "cell_type": "code",
   "execution_count": 378,
   "id": "initial_id",
   "metadata": {
    "collapsed": true,
    "ExecuteTime": {
     "end_time": "2023-11-19T08:41:38.566268Z",
     "start_time": "2023-11-19T08:41:38.551341Z"
    }
   },
   "outputs": [],
   "source": [
    "import torch.nn as nn\n",
    "from torch import optim\n",
    "import tensorflow as tf\n",
    "from torch.utils.data import DataLoader\n",
    "import torch\n",
    "from torchvision import datasets\n",
    "import numpy as np\n",
    "from sklearn.metrics import ConfusionMatrixDisplay\n",
    "from matplotlib import pyplot as plt\n",
    "from sklearn.metrics import precision_score, recall_score,f1_score\n",
    "import torch.functional as F"
   ]
  },
  {
   "cell_type": "code",
   "execution_count": 379,
   "outputs": [],
   "source": [
    "# image normalization\n",
    "def normalize_images(imgs):\n",
    "    return imgs/255."
   ],
   "metadata": {
    "collapsed": false,
    "ExecuteTime": {
     "end_time": "2023-11-19T08:41:38.729715Z",
     "start_time": "2023-11-19T08:41:38.724707Z"
    }
   },
   "id": "9160873c3ef89661"
  },
  {
   "cell_type": "code",
   "execution_count": 380,
   "outputs": [],
   "source": [
    "class Dataset:\n",
    "    def __init__(self,train_or_test):\n",
    "        data=datasets.MNIST(root='mnist', download=True,train=train_or_test)\n",
    "        self.x,self.y=data.data,np.array(data.targets)\n",
    "        self.x=normalize_images(self.x)\n",
    "        # self.y=onehot_encoding(self.y)\n",
    "    def __len__(self):\n",
    "        return self.x.shape[0]\n",
    "    def __getitem__(self, item):\n",
    "        return self.x[item],self.y[item]"
   ],
   "metadata": {
    "collapsed": false,
    "ExecuteTime": {
     "end_time": "2023-11-19T08:41:38.894695Z",
     "start_time": "2023-11-19T08:41:38.890727Z"
    }
   },
   "id": "c7d1bdd698628933"
  },
  {
   "cell_type": "code",
   "execution_count": 381,
   "outputs": [],
   "source": [
    "# Create a PYTORCH dataset with one-hot encoding + normalization\n",
    "# (Dataset's labels are already provedided in the appropriate form.)"
   ],
   "metadata": {
    "collapsed": false,
    "ExecuteTime": {
     "end_time": "2023-11-19T08:41:39.081528Z",
     "start_time": "2023-11-19T08:41:39.076479Z"
    }
   },
   "id": "b65a4e11089e5cf9"
  },
  {
   "cell_type": "code",
   "execution_count": 382,
   "outputs": [
    {
     "data": {
      "text/plain": "torch.Size([28, 28])"
     },
     "execution_count": 382,
     "metadata": {},
     "output_type": "execute_result"
    }
   ],
   "source": [
    "# loading dataset\n",
    "train=Dataset(train_or_test=True)\n",
    "test=Dataset(train_or_test=False)\n",
    "# answers\n",
    "test.x[0].size()"
   ],
   "metadata": {
    "collapsed": false,
    "ExecuteTime": {
     "end_time": "2023-11-19T08:41:39.343826Z",
     "start_time": "2023-11-19T08:41:39.278433Z"
    }
   },
   "id": "5e87e4d3cfc508f2"
  },
  {
   "cell_type": "code",
   "execution_count": 383,
   "outputs": [],
   "source": [
    "# take a view on our dataset\n",
    "def show_dataset(dataset_,dataset_labels_):\n",
    "    # to show labels in convenient format\n",
    "    figure = plt.figure(figsize=(6, 6))\n",
    "    cols, rows = 3, 3\n",
    "    for i in range(1, cols * rows + 1):\n",
    "        # to pick random images\n",
    "        sample_idx = tf.random.uniform(shape=(1,), minval=0, maxval=len(dataset_), dtype=tf.int64).numpy()[0]\n",
    "        # retrieve image name and it's labels\n",
    "        img, label = dataset_[sample_idx],dataset_labels_[sample_idx]\n",
    "        figure.add_subplot(rows, cols, i)\n",
    "        plt.title(label)\n",
    "        plt.axis(\"off\")\n",
    "        plt.imshow(img.squeeze(), cmap=\"gray\")\n",
    "    plt.show()"
   ],
   "metadata": {
    "collapsed": false,
    "ExecuteTime": {
     "end_time": "2023-11-19T08:41:39.492571Z",
     "start_time": "2023-11-19T08:41:39.486213Z"
    }
   },
   "id": "fd6edab4b681a709"
  },
  {
   "cell_type": "code",
   "execution_count": 384,
   "outputs": [
    {
     "data": {
      "text/plain": "<Figure size 600x600 with 9 Axes>",
      "image/png": "[encoded data removed]"
     },
     "metadata": {},
     "output_type": "display_data"
    }
   ],
   "source": [
    "# take a view on dataset\n",
    "show_dataset(train.x,train.y)"
   ],
   "metadata": {
    "collapsed": false,
    "ExecuteTime": {
     "end_time": "2023-11-19T08:41:39.991054Z",
     "start_time": "2023-11-19T08:41:39.800922Z"
    }
   },
   "id": "6ca55bb46f9e87b2"
  },
  {
   "cell_type": "code",
   "execution_count": 385,
   "outputs": [],
   "source": [
    "# batch_size=64\n",
    "train_loader,test_loader=DataLoader(train,shuffle=True),DataLoader(test,shuffle=True)"
   ],
   "metadata": {
    "collapsed": false,
    "ExecuteTime": {
     "end_time": "2023-11-19T08:41:40.129984Z",
     "start_time": "2023-11-19T08:41:40.124636Z"
    }
   },
   "id": "c2ded41608acda0f"
  },
  {
   "cell_type": "code",
   "execution_count": 386,
   "outputs": [],
   "source": [
    "loss_type=nn.CrossEntropyLoss()"
   ],
   "metadata": {
    "collapsed": false,
    "ExecuteTime": {
     "end_time": "2023-11-19T08:41:40.559477Z",
     "start_time": "2023-11-19T08:41:40.553334Z"
    }
   },
   "id": "ab7aeb6c333c24cf"
  },
  {
   "cell_type": "code",
   "execution_count": 387,
   "outputs": [],
   "source": [
    "# We have confusion matrix, where it is easy to identify true_positives, false_positives, true negatives.\n",
    "# True Positives_A: The number of samples correctly classified as class A.\n",
    "# False Positives_A: The number of samples that are not of class A but are incorrectly classified as class A.(numbers in rows)\n",
    "# False Negatives_A: The number of samples of class A that are incorrectly classified as not being of class A.(numbers in columns)\n",
    "# \n",
    "# True_positives              False_positives\n",
    "# \n",
    "# False negatives             True negatives"
   ],
   "metadata": {
    "collapsed": false,
    "ExecuteTime": {
     "end_time": "2023-11-19T08:41:40.951192Z",
     "start_time": "2023-11-19T08:41:40.875748Z"
    }
   },
   "id": "938306100c1703d5"
  },
  {
   "cell_type": "code",
   "execution_count": 388,
   "outputs": [],
   "source": [
    "def compute_precision_recall(matrix_):\n",
    "    y_true,y_pred=[i[0] for i in matrix_],[i[1] for i in matrix_]\n",
    "    # average = 'macro' => mеtrics are calculated across all classes for entire classification task\n",
    "    precision=precision_score(y_true=y_true,y_pred=y_pred,average='macro')\n",
    "    recall=recall_score(y_true=y_true,y_pred=y_pred,average='macro')\n",
    "    f1_score_=f1_score(y_true=y_true,y_pred=y_pred,average='macro')\n",
    "    return precision,recall,f1_score_"
   ],
   "metadata": {
    "collapsed": false,
    "ExecuteTime": {
     "end_time": "2023-11-19T08:41:41.142537Z",
     "start_time": "2023-11-19T08:41:41.137012Z"
    }
   },
   "id": "b0832032121b0169"
  },
  {
   "cell_type": "code",
   "execution_count": 389,
   "outputs": [],
   "source": [
    "# drawing Confusion matrix for statistical analysis\n",
    "def final_matrix(matrix,leng):\n",
    "    my_matrix=torch.zeros(leng,leng,dtype=torch.int32).tolist()\n",
    "    # fill the confusion matrix with values\n",
    "    for i in matrix:\n",
    "        my_matrix[i[0]][i[1]]+=1\n",
    "    my_matrix=np.array(my_matrix)\n",
    "    my_matrix=(my_matrix.T/my_matrix.sum(axis=1)).T\n",
    "    my_matrix=np.round(my_matrix, 3)\n",
    "    plt.figure(figsize=(30,36))\n",
    "    # display matrix in blue colors\n",
    "    disp = ConfusionMatrixDisplay(confusion_matrix=my_matrix, display_labels=range(10))\n",
    "    disp.plot(cmap='Blues')\n",
    "    # save to a folder\n",
    "    plt.show()"
   ],
   "metadata": {
    "collapsed": false,
    "ExecuteTime": {
     "end_time": "2023-11-19T08:41:41.619905Z",
     "start_time": "2023-11-19T08:41:41.614738Z"
    }
   },
   "id": "d1fe9a965fa956ee"
  },
  {
   "cell_type": "code",
   "execution_count": 390,
   "outputs": [],
   "source": [
    "def draw_plots(train_accuracy, test_accuracy, train_loss_, test_loss_):\n",
    "    # To draw plots of accuracy and loss of train and test datasets\n",
    "    plt.figure(figsize=(10, 7))\n",
    "    plt.plot(train_accuracy, color='blue', linestyle='--',\n",
    "             label='train accuracy')\n",
    "    plt.plot(test_accuracy, color='red', linestyle='--',\n",
    "             label='test accuracy')\n",
    "    plt.ylabel = 'Accuracy'\n",
    "    plt.xlabel = 'Epochs' \n",
    "    plt.legend()\n",
    "    plt.show() \n",
    "    # Loss plot\n",
    "    plt.figure(figsize=(10, 7))\n",
    "    plt.plot(np.array(train_loss_), color='blue', linestyle='--',\n",
    "             label='train loss')\n",
    "    plt.plot(np.array(test_loss_), color='red', linestyle='--',\n",
    "             label='test loss')\n",
    "    plt.ylabel = 'Loss'     \n",
    "    plt.xlabel = 'Epochs'   \n",
    "    plt.legend()\n",
    "    plt.show()  "
   ],
   "metadata": {
    "collapsed": false,
    "ExecuteTime": {
     "end_time": "2023-11-19T08:41:41.921328Z",
     "start_time": "2023-11-19T08:41:41.916415Z"
    }
   },
   "id": "3f722f1e482f969c"
  },
  {
   "cell_type": "code",
   "execution_count": 391,
   "outputs": [],
   "source": [
    "from tqdm import tqdm\n",
    "\n",
    "def training_process(loader, my_model, optimizer, loss):\n",
    "    # Turn on the training mode\n",
    "    my_model.train()\n",
    "    running_correct, epoch_loss = 0, 0\n",
    "\n",
    "    for i, (images, labels) in tqdm(enumerate(loader), total=len(loader)):\n",
    "        # Gradients are reset to zero\n",
    "        optimizer.zero_grad()\n",
    "        outputs = my_model(images)\n",
    "        _, predictions = torch.max(outputs.data, 1)\n",
    "        loss_val = loss(outputs, labels)\n",
    "        # Backward pass\n",
    "        loss_val.backward()\n",
    "        optimizer.step()\n",
    "\n",
    "        # Accumulate statistics over the entire epoch\n",
    "        epoch_loss += loss_val.item()\n",
    "        running_correct += (labels == predictions).sum().item()\n",
    "\n",
    "    # Calculate accuracy and average loss for the entire epoch\n",
    "    accuracy = 100. * (running_correct / len(loader.dataset))\n",
    "    epoch_loss /= len(loader)\n",
    "\n",
    "    return epoch_loss, accuracy"
   ],
   "metadata": {
    "collapsed": false,
    "ExecuteTime": {
     "end_time": "2023-11-19T08:41:42.414249Z",
     "start_time": "2023-11-19T08:41:42.409126Z"
    }
   },
   "id": "ff6a85637bb19b5e"
  },
  {
   "cell_type": "code",
   "execution_count": 392,
   "outputs": [],
   "source": [
    "def evaluating_perfomance(loader_test,my_model,loss,last_epoch=False):\n",
    "        with torch.no_grad():\n",
    "            # variables to draw confusion matrix\n",
    "            Confusion_list=[]\n",
    "            running_correct,epoch_loss=0,0\n",
    "            total=0\n",
    "        # no updating loss\n",
    "            for images,labels in loader_test:\n",
    "                # flatten image to use it in the model\n",
    "                outputs=my_model(images)        \n",
    "                # compute loss on test dataset\n",
    "                loss_val=loss(outputs,labels)\n",
    "                # compute the loss and divide by the size of test dataset (10000)\n",
    "                epoch_loss=loss_val/len(loader_test)\n",
    "                for index,i in enumerate(outputs):\n",
    "                    # torch.argmax(i) -> from the array of predictions extract the biggest one \n",
    "                    if torch.argmax(i)==labels[index]:\n",
    "                        running_correct+=1\n",
    "                    total+=1\n",
    "                _,predicted_labels=torch.max(outputs.data,1)\n",
    "                # after last epoch prepare data for Confusion matrix and graphs\n",
    "                if last_epoch:\n",
    "                    predicted_data=list(zip(labels.tolist(),predicted_labels.tolist()))\n",
    "                    Confusion_list.extend(predicted_data)\n",
    "            # if it is the last epoch --> return the list for confusion matrix\n",
    "            if not last_epoch:\n",
    "                return epoch_loss,100.*round(running_correct/total,6),[]\n",
    "            else:\n",
    "                return epoch_loss,100.*round(running_correct/total,6),Confusion_list"
   ],
   "metadata": {
    "collapsed": false,
    "ExecuteTime": {
     "end_time": "2023-11-19T08:41:42.826695Z",
     "start_time": "2023-11-19T08:41:42.822089Z"
    }
   },
   "id": "ac767a9b675f6166"
  },
  {
   "cell_type": "code",
   "execution_count": 393,
   "outputs": [],
   "source": [
    "def run_epochs(learning_rate=0.001,epochs=10,model_type=None):\n",
    "    optimizer=optim.SGD(model_type.parameters(),lr=learning_rate)\n",
    "    criterion=nn.CrossEntropyLoss()\n",
    "    train_loss,testing_loss=[],[]\n",
    "    train_acc,testing_acc=[],[]\n",
    "    last_epoch=False\n",
    "    confusion__matrix=[]\n",
    "    for epoch in range(1,epochs+1):\n",
    "            if epoch==epochs:\n",
    "                last_epoch=True\n",
    "            print(f\"Epoch number: {epoch}\")\n",
    "            print()\n",
    "            print('Training..')\n",
    "            loss_,accuracy=training_process(loader=train_loader,my_model=model_type,loss=criterion,optimizer=optimizer)\n",
    "            train_loss.append(loss_)\n",
    "            train_acc.append(accuracy)\n",
    "            print(f'Training_Loss: {loss_} and Training_Accuracy: {accuracy} %')\n",
    "            print('Testing..')\n",
    "            loss_test,accuracy_test,confusion__matrix=evaluating_perfomance(loader_test=test_loader,my_model=model_type,loss=criterion,last_epoch=last_epoch)\n",
    "            testing_loss.append(loss_test)\n",
    "            testing_acc.append(accuracy_test)\n",
    "            print(f'Testing_Loss: {loss_test} and Testing_Accuracy: {accuracy_test} %')\n",
    "            print()\n",
    "            print('-'*80)\n",
    "            print()\n",
    "    final_matrix(matrix=confusion__matrix,leng=10)\n",
    "    train_loss,testing_loss=[float(i) for i in train_loss],[float(i) for i in testing_loss]\n",
    "    draw_plots(train_accuracy=train_acc,train_loss_=np.array(train_loss),test_loss_=np.array(testing_loss),test_accuracy=testing_acc)\n",
    "    # call function to compute precision and recall, f1 score\n",
    "    precision,recall,f1_score_=compute_precision_recall(confusion__matrix)\n",
    "    return {'precision':precision,'recall':recall,'f1_score':f1_score_,'accuracy':testing_acc[-1],'min_loss':min(testing_loss)}"
   ],
   "metadata": {
    "collapsed": false,
    "ExecuteTime": {
     "end_time": "2023-11-19T08:41:43.272870Z",
     "start_time": "2023-11-19T08:41:43.269692Z"
    }
   },
   "id": "c84a6c15afdaf0eb"
  },
  {
   "cell_type": "code",
   "execution_count": 398,
   "outputs": [],
   "source": [
    "class Model(nn.Module):\n",
    "    def __init__(self):\n",
    "        super(Model, self).__init__()\n",
    "        # 1 input channel (grey images), 16 output channels, kernel size 3x3, padding = 1 to save dimension of the image\n",
    "        self.conv1 = nn.Conv2d(1, 16, kernel_size=3, stride=1, padding=1)\n",
    "        # Max pooling with kernel size 2x2 and stride 2\n",
    "        self.pool = nn.MaxPool2d(kernel_size=2, stride=2) \n",
    "        # dimension : 16 x 14 x 14\n",
    "        # second convolutional layer\n",
    "        self.conv2=nn.Conv2d(16 , 32,kernel_size=3,stride=1,padding=1)\n",
    "        # Conv2 + self.pool   => dimension = 32 x 7 x 7\n",
    "        self.relu=nn.ReLU()\n",
    "        self.softmax=nn.Softmax()\n",
    "        # Fully connected layer\n",
    "        self.fc1 = nn.Linear(32 * 7 * 7, 10)\n",
    "\n",
    "    def forward(self, x):\n",
    "        # Apply convolutional layer\n",
    "        x = self.relu(self.conv1(x))\n",
    "        # Apply max pooling\n",
    "        x = self.pool(x)\n",
    "        x=self.conv2(x)\n",
    "        x=self.pool(x)\n",
    "        # Reshape the tensor for fully connected layer\n",
    "        x = x.view(-1, 32 * 7 * 7)\n",
    "        # Fully connected layer\n",
    "        x = self.fc1(x)\n",
    "        return self.softmax(x)\n"
   ],
   "metadata": {
    "collapsed": false,
    "ExecuteTime": {
     "end_time": "2023-11-19T08:46:21.745132Z",
     "start_time": "2023-11-19T08:46:21.737790Z"
    }
   },
   "id": "6c0cb9e00c7b7598"
  },
  {
   "cell_type": "code",
   "execution_count": 399,
   "outputs": [
    {
     "data": {
      "text/plain": "Model(\n  (conv1): Conv2d(1, 16, kernel_size=(3, 3), stride=(1, 1), padding=(1, 1))\n  (pool): MaxPool2d(kernel_size=2, stride=2, padding=0, dilation=1, ceil_mode=False)\n  (conv2): Conv2d(16, 32, kernel_size=(3, 3), stride=(1, 1), padding=(1, 1))\n  (relu): ReLU()\n  (softmax): Softmax(dim=None)\n  (fc1): Linear(in_features=1568, out_features=10, bias=True)\n)"
     },
     "execution_count": 399,
     "metadata": {},
     "output_type": "execute_result"
    }
   ],
   "source": [
    "model=Model()\n",
    "model"
   ],
   "metadata": {
    "collapsed": false,
    "ExecuteTime": {
     "end_time": "2023-11-19T08:46:22.062343Z",
     "start_time": "2023-11-19T08:46:22.054483Z"
    }
   },
   "id": "2b26adc5a20b9c76"
  },
  {
   "cell_type": "code",
   "execution_count": 400,
   "outputs": [
    {
     "name": "stdout",
     "output_type": "stream",
     "text": [
      "Epoch number: 1\n",
      "\n",
      "Training..\n"
     ]
    },
    {
     "name": "stderr",
     "output_type": "stream",
     "text": [
      "  0%|          | 0/60000 [00:00<?, ?it/s]/Users/boris/PycharmProjects/Programming/Yandex_liceum/lib/python3.9/site-packages/torch/nn/modules/module.py:1518: UserWarning: Implicit dimension choice for softmax has been deprecated. Change the call to include dim=X as an argument.\n",
      "  return self._call_impl(*args, **kwargs)\n",
      "100%|██████████| 60000/60000 [00:57<00:00, 1052.61it/s]\n"
     ]
    },
    {
     "name": "stdout",
     "output_type": "stream",
     "text": [
      "Training_Loss: 1.801343147267898 and Training_Accuracy: 67.45833333333333 %\n",
      "Testing..\n",
      "Testing_Loss: 0.00014618082786910236 and Testing_Accuracy: 89.33 %\n",
      "\n",
      "--------------------------------------------------------------------------------\n",
      "\n",
      "Epoch number: 2\n",
      "\n",
      "Training..\n"
     ]
    },
    {
     "name": "stderr",
     "output_type": "stream",
     "text": [
      "100%|██████████| 60000/60000 [00:56<00:00, 1055.06it/s]\n"
     ]
    },
    {
     "name": "stdout",
     "output_type": "stream",
     "text": [
      "Training_Loss: 1.557416178425153 and Training_Accuracy: 91.015 %\n",
      "Testing..\n",
      "Testing_Loss: 0.00015013638767413795 and Testing_Accuracy: 92.99 %\n",
      "\n",
      "--------------------------------------------------------------------------------\n",
      "\n",
      "Epoch number: 3\n",
      "\n",
      "Training..\n"
     ]
    },
    {
     "name": "stderr",
     "output_type": "stream",
     "text": [
      "100%|██████████| 60000/60000 [00:56<00:00, 1055.27it/s]\n"
     ]
    },
    {
     "name": "stdout",
     "output_type": "stream",
     "text": [
      "Training_Loss: 1.5334749747474987 and Training_Accuracy: 93.12 %\n",
      "Testing..\n",
      "Testing_Loss: 0.0001532283058622852 and Testing_Accuracy: 94.73 %\n",
      "\n",
      "--------------------------------------------------------------------------------\n",
      "\n",
      "Epoch number: 4\n",
      "\n",
      "Training..\n"
     ]
    },
    {
     "name": "stderr",
     "output_type": "stream",
     "text": [
      "100%|██████████| 60000/60000 [00:56<00:00, 1061.08it/s]\n"
     ]
    },
    {
     "name": "stdout",
     "output_type": "stream",
     "text": [
      "Training_Loss: 1.5175011242171128 and Training_Accuracy: 94.72500000000001 %\n",
      "Testing..\n",
      "Testing_Loss: 0.00014611505321227014 and Testing_Accuracy: 95.87 %\n",
      "\n",
      "--------------------------------------------------------------------------------\n",
      "\n",
      "Epoch number: 5\n",
      "\n",
      "Training..\n"
     ]
    },
    {
     "name": "stderr",
     "output_type": "stream",
     "text": [
      "100%|██████████| 60000/60000 [00:56<00:00, 1061.08it/s]\n"
     ]
    },
    {
     "name": "stdout",
     "output_type": "stream",
     "text": [
      "Training_Loss: 1.5068442462424436 and Training_Accuracy: 95.78 %\n",
      "Testing..\n",
      "Testing_Loss: 0.0002442523546051234 and Testing_Accuracy: 96.39999999999999 %\n",
      "\n",
      "--------------------------------------------------------------------------------\n",
      "\n",
      "Epoch number: 6\n",
      "\n",
      "Training..\n"
     ]
    },
    {
     "name": "stderr",
     "output_type": "stream",
     "text": [
      "100%|██████████| 60000/60000 [00:57<00:00, 1036.90it/s]\n"
     ]
    },
    {
     "name": "stdout",
     "output_type": "stream",
     "text": [
      "Training_Loss: 1.499714843839407 and Training_Accuracy: 96.44666666666667 %\n",
      "Testing..\n",
      "Testing_Loss: 0.0001461160136386752 and Testing_Accuracy: 96.78 %\n",
      "\n",
      "--------------------------------------------------------------------------------\n",
      "\n",
      "Epoch number: 7\n",
      "\n",
      "Training..\n"
     ]
    },
    {
     "name": "stderr",
     "output_type": "stream",
     "text": [
      "100%|██████████| 60000/60000 [00:56<00:00, 1060.88it/s]\n"
     ]
    },
    {
     "name": "stdout",
     "output_type": "stream",
     "text": [
      "Training_Loss: 1.4947484755595526 and Training_Accuracy: 96.98166666666667 %\n",
      "Testing..\n",
      "Testing_Loss: 0.00014611506776418537 and Testing_Accuracy: 97.31 %\n",
      "\n",
      "--------------------------------------------------------------------------------\n",
      "\n",
      "Epoch number: 8\n",
      "\n",
      "Training..\n"
     ]
    },
    {
     "name": "stderr",
     "output_type": "stream",
     "text": [
      "100%|██████████| 60000/60000 [00:56<00:00, 1060.90it/s]\n"
     ]
    },
    {
     "name": "stdout",
     "output_type": "stream",
     "text": [
      "Training_Loss: 1.4912576978663603 and Training_Accuracy: 97.28666666666666 %\n",
      "Testing..\n",
      "Testing_Loss: 0.00014611502410843968 and Testing_Accuracy: 97.41 %\n",
      "\n",
      "--------------------------------------------------------------------------------\n",
      "\n",
      "Epoch number: 9\n",
      "\n",
      "Training..\n"
     ]
    },
    {
     "name": "stderr",
     "output_type": "stream",
     "text": [
      "100%|██████████| 60000/60000 [00:57<00:00, 1037.98it/s]\n"
     ]
    },
    {
     "name": "stdout",
     "output_type": "stream",
     "text": [
      "Training_Loss: 1.4887748074948788 and Training_Accuracy: 97.52666666666666 %\n",
      "Testing..\n",
      "Testing_Loss: 0.00014611502410843968 and Testing_Accuracy: 97.28 %\n",
      "\n",
      "--------------------------------------------------------------------------------\n",
      "\n",
      "Epoch number: 10\n",
      "\n",
      "Training..\n"
     ]
    },
    {
     "name": "stderr",
     "output_type": "stream",
     "text": [
      "100%|██████████| 60000/60000 [00:56<00:00, 1061.37it/s]\n"
     ]
    },
    {
     "name": "stdout",
     "output_type": "stream",
     "text": [
      "Training_Loss: 1.4873275938729444 and Training_Accuracy: 97.64166666666667 %\n",
      "Testing..\n",
      "Testing_Loss: 0.00014611854567192495 and Testing_Accuracy: 97.59 %\n",
      "\n",
      "--------------------------------------------------------------------------------\n"
     ]
    },
    {
     "data": {
      "text/plain": "<Figure size 3000x3600 with 0 Axes>"
     },
     "metadata": {},
     "output_type": "display_data"
    },
    {
     "data": {
      "text/plain": "<Figure size 640x480 with 2 Axes>",
      "image/png": "[encoded data removed]"
     },
     "metadata": {},
     "output_type": "display_data"
    },
    {
     "data": {
      "text/plain": "<Figure size 1000x700 with 1 Axes>",
      "image/png": "[encoded data removed]"
     },
     "metadata": {},
     "output_type": "display_data"
    },
    {
     "data": {
      "text/plain": "<Figure size 1000x700 with 1 Axes>",
      "image/png": "[encoded data removed]"
     },
     "metadata": {},
     "output_type": "display_data"
    },
    {
     "name": "stdout",
     "output_type": "stream",
     "text": [
      "{'precision': 0.9761397174627744, 'recall': 0.9757599121841629, 'f1_score': 0.9757518343641278, 'accuracy': 97.59, 'min_loss': 0.00014611502410843968}\n"
     ]
    }
   ],
   "source": [
    "scores = run_epochs(model_type=model)\n",
    "print(scores)"
   ],
   "metadata": {
    "collapsed": false,
    "ExecuteTime": {
     "end_time": "2023-11-19T08:56:32.229972Z",
     "start_time": "2023-11-19T08:46:22.468792Z"
    }
   },
   "id": "69078885067d3263"
  },
  {
   "cell_type": "raw",
   "source": [
    "Вывод\n",
    "Процесс обучения данной модели занял значительно больше времени. Согласно графикам точности, переобучения не просиходит, модель может достигнуть еще большей точности при продолжении обучения. Минимальный лосс стал больше, максимальная точность так же увеличилась. CNN модель подходит для классификации MNIST лучше."
   ],
   "metadata": {
    "collapsed": false
   },
   "id": "4b2b825e10530d24"
  }
 ],
 "metadata": {
  "kernelspec": {
   "display_name": "Python 3",
   "language": "python",
   "name": "python3"
  },
  "language_info": {
   "codemirror_mode": {
    "name": "ipython",
    "version": 2
   },
   "file_extension": ".py",
   "mimetype": "text/x-python",
   "name": "python",
   "nbconvert_exporter": "python",
   "pygments_lexer": "ipython2",
   "version": "2.7.6"
  }
 },
 "nbformat": 4,
 "nbformat_minor": 5
}
