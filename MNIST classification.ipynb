{
 "cells": [
  {
   "cell_type": "code",
   "execution_count": 61,
   "id": "initial_id",
   "metadata": {
    "collapsed": true,
    "ExecuteTime": {
     "end_time": "2023-11-07T06:10:51.790394Z",
     "start_time": "2023-11-07T06:10:51.771759Z"
    }
   },
   "outputs": [],
   "source": [
    "import os\n",
    "\n",
    "import torch\n",
    "import torch.nn as nn\n",
    "from torch import optim\n",
    "import tensorflow as tf\n",
    "from tqdm import tqdm\n",
    "from torch.utils.data import TensorDataset, DataLoader\n",
    "import torch\n",
    "from torchvision import transforms\n",
    "from torchvision import datasets\n",
    "from tensorflow import keras\n",
    "import numpy as np\n",
    "from sklearn.metrics import confusion_matrix, ConfusionMatrixDisplay\n",
    "from matplotlib import pyplot as plt\n",
    "from sklearn.metrics import precision_score, recall_score,f1_score\n",
    "import csv"
   ]
  },
  {
   "cell_type": "code",
   "execution_count": 62,
   "outputs": [],
   "source": [
    "# function below is a manual implementation of a one hot encoding\n",
    "def onehot_encoding(x, column_name=None):\n",
    "    classes_set = sorted(list(set(x)))\n",
    "    classes_dict = dict()\n",
    "    classes = 0\n",
    "    for i in classes_set:\n",
    "        if i not in classes_dict.keys():\n",
    "            classes_dict[i] = classes\n",
    "            classes += 1\n",
    "    one_hot = np.zeros(shape=(len(x), classes))\n",
    "    for i in range(len(x)):\n",
    "        one_hot[i][classes_dict[x[i]]] = 1\n",
    "    one_hot_column_names = np.array(one_hot.astype('float'))\n",
    "    # encoded categorical features\n",
    "    return one_hot_column_names\n",
    "# image normalization\n",
    "def normalize_images(imgs):\n",
    "    return imgs/255."
   ],
   "metadata": {
    "collapsed": false,
    "ExecuteTime": {
     "end_time": "2023-11-07T06:10:52.887918Z",
     "start_time": "2023-11-07T06:10:52.883759Z"
    }
   },
   "id": "3723c15f0e11cd65"
  },
  {
   "cell_type": "code",
   "execution_count": 63,
   "outputs": [],
   "source": [
    "class Dataset:\n",
    "    def __init__(self,train_or_test):\n",
    "        data=datasets.MNIST(root='mnist', download=True,train=train_or_test)\n",
    "        self.x,self.y=data.data,np.array(data.targets)\n",
    "        self.x=normalize_images(self.x)\n",
    "        # self.y=onehot_encoding(self.y)\n",
    "    def __len__(self):\n",
    "        return self.x.shape[0]\n",
    "    def __getitem__(self, item):\n",
    "        return self.x[item],self.y[item]"
   ],
   "metadata": {
    "collapsed": false,
    "ExecuteTime": {
     "end_time": "2023-11-07T06:10:53.387035Z",
     "start_time": "2023-11-07T06:10:53.382098Z"
    }
   },
   "id": "c7d1bdd698628933"
  },
  {
   "cell_type": "code",
   "execution_count": null,
   "outputs": [],
   "source": [
    "# Create a PYTORCH dataset with one-hot encoding + normalization\n",
    "# (Dataset's labels are already provedided in the appropriate form.)"
   ],
   "metadata": {
    "collapsed": false
   },
   "id": "b65a4e11089e5cf9"
  },
  {
   "cell_type": "code",
   "execution_count": 64,
   "outputs": [
    {
     "name": "stdout",
     "output_type": "stream",
     "text": [
      "Downloading http://yann.lecun.com/exdb/mnist/train-images-idx3-ubyte.gz\n",
      "Downloading http://yann.lecun.com/exdb/mnist/train-images-idx3-ubyte.gz to mnist/MNIST/raw/train-images-idx3-ubyte.gz\n"
     ]
    },
    {
     "name": "stderr",
     "output_type": "stream",
     "text": [
      "100%|██████████| 9912422/9912422 [00:00<00:00, 43826370.68it/s]\n"
     ]
    },
    {
     "name": "stdout",
     "output_type": "stream",
     "text": [
      "Extracting mnist/MNIST/raw/train-images-idx3-ubyte.gz to mnist/MNIST/raw\n",
      "\n",
      "Downloading http://yann.lecun.com/exdb/mnist/train-labels-idx1-ubyte.gz\n",
      "Downloading http://yann.lecun.com/exdb/mnist/train-labels-idx1-ubyte.gz to mnist/MNIST/raw/train-labels-idx1-ubyte.gz\n"
     ]
    },
    {
     "name": "stderr",
     "output_type": "stream",
     "text": [
      "100%|██████████| 28881/28881 [00:00<00:00, 12338123.23it/s]"
     ]
    },
    {
     "name": "stdout",
     "output_type": "stream",
     "text": [
      "Extracting mnist/MNIST/raw/train-labels-idx1-ubyte.gz to mnist/MNIST/raw\n",
      "\n",
      "Downloading http://yann.lecun.com/exdb/mnist/t10k-images-idx3-ubyte.gz\n"
     ]
    },
    {
     "name": "stderr",
     "output_type": "stream",
     "text": [
      "\n"
     ]
    },
    {
     "name": "stdout",
     "output_type": "stream",
     "text": [
      "Downloading http://yann.lecun.com/exdb/mnist/t10k-images-idx3-ubyte.gz to mnist/MNIST/raw/t10k-images-idx3-ubyte.gz\n"
     ]
    },
    {
     "name": "stderr",
     "output_type": "stream",
     "text": [
      "100%|██████████| 1648877/1648877 [00:00<00:00, 41819196.24it/s]"
     ]
    },
    {
     "name": "stdout",
     "output_type": "stream",
     "text": [
      "Extracting mnist/MNIST/raw/t10k-images-idx3-ubyte.gz to mnist/MNIST/raw\n",
      "\n",
      "Downloading http://yann.lecun.com/exdb/mnist/t10k-labels-idx1-ubyte.gz\n"
     ]
    },
    {
     "name": "stderr",
     "output_type": "stream",
     "text": [
      "\n"
     ]
    },
    {
     "name": "stdout",
     "output_type": "stream",
     "text": [
      "Downloading http://yann.lecun.com/exdb/mnist/t10k-labels-idx1-ubyte.gz to mnist/MNIST/raw/t10k-labels-idx1-ubyte.gz\n"
     ]
    },
    {
     "name": "stderr",
     "output_type": "stream",
     "text": [
      "100%|██████████| 4542/4542 [00:00<00:00, 9421626.49it/s]"
     ]
    },
    {
     "name": "stdout",
     "output_type": "stream",
     "text": [
      "Extracting mnist/MNIST/raw/t10k-labels-idx1-ubyte.gz to mnist/MNIST/raw\n"
     ]
    },
    {
     "name": "stderr",
     "output_type": "stream",
     "text": [
      "\n"
     ]
    },
    {
     "data": {
      "text/plain": "array([7, 2, 1, ..., 4, 5, 6])"
     },
     "execution_count": 64,
     "metadata": {},
     "output_type": "execute_result"
    }
   ],
   "source": [
    "# loading dataset\n",
    "train=Dataset(train_or_test=True)\n",
    "test=Dataset(train_or_test=False)\n",
    "# answers\n",
    "test.y"
   ],
   "metadata": {
    "collapsed": false,
    "ExecuteTime": {
     "end_time": "2023-11-07T06:10:57.228403Z",
     "start_time": "2023-11-07T06:10:54.782177Z"
    }
   },
   "id": "5e87e4d3cfc508f2"
  },
  {
   "cell_type": "code",
   "execution_count": 65,
   "outputs": [],
   "source": [
    "# take a view on our dataset\n",
    "def show_dataset(dataset_,dataset_labels_):\n",
    "    # to show labels in convenient format\n",
    "    figure = plt.figure(figsize=(6, 6))\n",
    "    cols, rows = 3, 3\n",
    "    for i in range(1, cols * rows + 1):\n",
    "        # to pick random images\n",
    "        sample_idx = tf.random.uniform(shape=(1,), minval=0, maxval=len(dataset_), dtype=tf.int64).numpy()[0]\n",
    "        # retrieve image name and it's labels\n",
    "        img, label = dataset_[sample_idx],dataset_labels_[sample_idx]\n",
    "        figure.add_subplot(rows, cols, i)\n",
    "        plt.title(label)\n",
    "        plt.axis(\"off\")\n",
    "        plt.imshow(img.squeeze(), cmap=\"gray\")\n",
    "    plt.show()"
   ],
   "metadata": {
    "collapsed": false,
    "ExecuteTime": {
     "end_time": "2023-11-07T06:11:00.297990Z",
     "start_time": "2023-11-07T06:11:00.284504Z"
    }
   },
   "id": "fd6edab4b681a709"
  },
  {
   "cell_type": "code",
   "execution_count": 66,
   "outputs": [
    {
     "data": {
      "text/plain": "<Figure size 600x600 with 9 Axes>",
      "image/png": "[encoded data removed]"
     },
     "metadata": {},
     "output_type": "display_data"
    }
   ],
   "source": [
    "# take a view on dataset\n",
    "show_dataset(train.x,train.y)"
   ],
   "metadata": {
    "collapsed": false,
    "ExecuteTime": {
     "end_time": "2023-11-07T06:11:01.329327Z",
     "start_time": "2023-11-07T06:11:01.148019Z"
    }
   },
   "id": "6ca55bb46f9e87b2"
  },
  {
   "cell_type": "code",
   "execution_count": 67,
   "outputs": [],
   "source": [
    "# batch_size=64\n",
    "train_loader,test_loader=DataLoader(train,shuffle=True),DataLoader(test,shuffle=True)"
   ],
   "metadata": {
    "collapsed": false,
    "ExecuteTime": {
     "end_time": "2023-11-07T06:11:02.279292Z",
     "start_time": "2023-11-07T06:11:02.273352Z"
    }
   },
   "id": "c2ded41608acda0f"
  },
  {
   "cell_type": "code",
   "execution_count": 68,
   "outputs": [],
   "source": [
    "loss_type=nn.CrossEntropyLoss()"
   ],
   "metadata": {
    "collapsed": false,
    "ExecuteTime": {
     "end_time": "2023-11-07T06:11:02.905390Z",
     "start_time": "2023-11-07T06:11:02.899446Z"
    }
   },
   "id": "ab7aeb6c333c24cf"
  },
  {
   "cell_type": "code",
   "execution_count": null,
   "outputs": [],
   "source": [
    "# We have confusion matrix, where it is easy to identify true_positives, false_positives, true negatives.\n",
    "# True Positives_A: The number of samples correctly classified as class A.\n",
    "# False Positives_A: The number of samples that are not of class A but are incorrectly classified as class A.(numbers in rows)\n",
    "# False Negatives_A: The number of samples of class A that are incorrectly classified as not being of class A.(numbers in columns)\n",
    "# \n",
    "# True_positives              False_positives\n",
    "# \n",
    "# False negatives             True negatives"
   ],
   "metadata": {
    "collapsed": false
   },
   "id": "938306100c1703d5"
  },
  {
   "cell_type": "code",
   "execution_count": 69,
   "outputs": [],
   "source": [
    "def compute_precision_recall(matrix_):\n",
    "    y_true,y_pred=[i[0] for i in matrix_],[i[1] for i in matrix_]\n",
    "    # average = 'macro' => matrics are calculated across all classes for entire classification task\n",
    "    precision=precision_score(y_true=y_true,y_pred=y_pred,average='macro')\n",
    "    recall=recall_score(y_true=y_true,y_pred=y_pred,average='macro')\n",
    "    f1_score_=f1_score(y_true=y_true,y_pred=y_pred,average='macro')\n",
    "    return precision,recall,f1_score_"
   ],
   "metadata": {
    "collapsed": false,
    "ExecuteTime": {
     "end_time": "2023-11-07T06:11:03.739777Z",
     "start_time": "2023-11-07T06:11:03.710361Z"
    }
   },
   "id": "b0832032121b0169"
  },
  {
   "cell_type": "code",
   "execution_count": 70,
   "outputs": [],
   "source": [
    "# drawing Confusion matrix for statistical analysis\n",
    "def final_matrix(matrix,experiment,leng):\n",
    "    my_matrix=torch.zeros(leng,leng,dtype=torch.int32).tolist()\n",
    "    # fill the confusion matrix with values\n",
    "    for i in matrix:\n",
    "        my_matrix[i[0]][i[1]]+=1\n",
    "    my_matrix=np.array(my_matrix)\n",
    "    my_matrix=(my_matrix.T/my_matrix.sum(axis=1)).T\n",
    "    my_matrix=np.round(my_matrix, 3)\n",
    "    plt.figure(figsize=(30,36))\n",
    "    # display matrix in blue colors\n",
    "    disp = ConfusionMatrixDisplay(confusion_matrix=my_matrix, display_labels=range(10))\n",
    "    disp.plot(cmap='Blues')\n",
    "    # save to a folder\n",
    "    plt.savefig(f'./Model_scores{experiment}/Confusion_matrix.jpg')\n",
    "    plt.close()"
   ],
   "metadata": {
    "collapsed": false,
    "ExecuteTime": {
     "end_time": "2023-11-07T06:11:04.406317Z",
     "start_time": "2023-11-07T06:11:04.400502Z"
    }
   },
   "id": "d1fe9a965fa956ee"
  },
  {
   "cell_type": "code",
   "execution_count": 71,
   "outputs": [],
   "source": [
    "def draw_plots(experiment,train_accuracy, test_accuracy, train_loss_, test_loss_):\n",
    "    # To draw plots of accuracy and loss of train and test datasets\n",
    "    plt.figure(figsize=(10, 7))\n",
    "    plt.plot(train_accuracy, color='blue', linestyle='--',\n",
    "             label='train accuracy')\n",
    "    plt.plot(test_accuracy, color='red', linestyle='--',\n",
    "             label='test accuracy')\n",
    "    plt.ylabel = 'Accuracy'\n",
    "    plt.xlabel = 'Epochs' \n",
    "    plt.legend()\n",
    "    plt.savefig(f'./Model_scores{experiment}/accuracy.jpg')\n",
    "    plt.close() \n",
    "    # Loss plot\n",
    "    plt.figure(figsize=(10, 7))\n",
    "    plt.plot(np.array(train_loss_), color='blue', linestyle='--',\n",
    "             label='train loss')\n",
    "    plt.plot(np.array(test_loss_), color='red', linestyle='--',\n",
    "             label='test loss')\n",
    "    plt.ylabel = 'Loss'     \n",
    "    plt.xlabel = 'Epochs'   \n",
    "    plt.legend()\n",
    "    plt.savefig(f'./Model_scores{experiment}/loss.jpg')\n",
    "    plt.close()    "
   ],
   "metadata": {
    "collapsed": false,
    "ExecuteTime": {
     "end_time": "2023-11-07T06:11:04.983228Z",
     "start_time": "2023-11-07T06:11:04.978846Z"
    }
   },
   "id": "3f722f1e482f969c"
  },
  {
   "cell_type": "code",
   "execution_count": 72,
   "outputs": [],
   "source": [
    "def training_process(loader,my_model,optimize,loss,batch_size=1,):\n",
    "    # turn on the training mode\n",
    "    my_model.train()\n",
    "    running_correct,epoch_loss=0,0\n",
    "    epoch_accuracy=0\n",
    "    for i, (images,labels) in tqdm(enumerate(loader), total=len(loader)):\n",
    "            # gradients are reset to zero \n",
    "            optimize.zero_grad()\n",
    "            outputs=my_model(images.view(-1,784))\n",
    "            _,predictions=torch.max(outputs.data,1)\n",
    "            loss_val=loss(outputs,labels)\n",
    "            # backward pass \n",
    "            loss_val.backward()\n",
    "            optimize.step()\n",
    "            epoch_loss=loss_val/len(loader)\n",
    "            running_correct+=(labels==predictions).sum().item()\n",
    "            epoch_accuracy=100.*(running_correct/len(loader))\n",
    "    return epoch_loss,round(epoch_accuracy/batch_size,6)"
   ],
   "metadata": {
    "collapsed": false,
    "ExecuteTime": {
     "end_time": "2023-11-07T06:11:05.534360Z",
     "start_time": "2023-11-07T06:11:05.530335Z"
    }
   },
   "id": "ff6a85637bb19b5e"
  },
  {
   "cell_type": "code",
   "execution_count": 73,
   "outputs": [],
   "source": [
    "def evaluating_perfomance(loader_test,my_model,loss,last_epoch=False):\n",
    "        with torch.no_grad():\n",
    "            # variables to draw confusion matrix\n",
    "            Confusion_list=[]\n",
    "            running_correct,epoch_loss=0,0\n",
    "            total=0\n",
    "        #no updating loss\n",
    "            for images,labels in loader_test:\n",
    "                # flatten image to use it in the model\n",
    "                outputs=my_model(images.view(-1,784))\n",
    "                # compute loss on test dataset\n",
    "                loss_val=loss(outputs,labels)\n",
    "                # compute the loss and divide by the size of test dataset (10000)\n",
    "                epoch_loss=loss_val/len(loader_test)\n",
    "                for index,i in enumerate(outputs):\n",
    "                    # torch.argmax(i) -> from the array of predictions extract the biggest one \n",
    "                    if torch.argmax(i)==labels[index]:\n",
    "                        running_correct+=1\n",
    "                    total+=1\n",
    "                _,predicted_labels=torch.max(outputs.data,1)\n",
    "                # after last epoch prepare data for Confusion matrix and graphs\n",
    "                if last_epoch:\n",
    "                    predicted_data=list(zip(labels.tolist(),predicted_labels.tolist()))\n",
    "                    Confusion_list.extend(predicted_data)\n",
    "            # if it is the last epoch --> return the list for confusion matrix\n",
    "            if not last_epoch:\n",
    "                return epoch_loss,100.*round(running_correct/total,6),[]\n",
    "            else:\n",
    "                return epoch_loss,100.*round(running_correct/total,6),Confusion_list"
   ],
   "metadata": {
    "collapsed": false,
    "ExecuteTime": {
     "end_time": "2023-11-07T06:11:06.109465Z",
     "start_time": "2023-11-07T06:11:06.105723Z"
    }
   },
   "id": "ac767a9b675f6166"
  },
  {
   "cell_type": "code",
   "execution_count": 74,
   "outputs": [],
   "source": [
    "def make_directory(experiment):\n",
    "    if f'Model_scores{experiment}' not in os.listdir('./'):\n",
    "        os.mkdir(f\"./Model_scores{experiment}\")"
   ],
   "metadata": {
    "collapsed": false,
    "ExecuteTime": {
     "end_time": "2023-11-07T06:11:06.812256Z",
     "start_time": "2023-11-07T06:11:06.807029Z"
    }
   },
   "id": "f5bbfc3200fc4894"
  },
  {
   "cell_type": "code",
   "execution_count": 75,
   "outputs": [],
   "source": [
    "def run_epochs(learning_rate=0.001,epochs=10,experiment_number=None,model_type=None,batch_size=1):\n",
    "    optimizer=optim.SGD(model_type.parameters(),lr=learning_rate)\n",
    "    criterion=nn.CrossEntropyLoss()\n",
    "    train_loss,testing_loss=[],[]\n",
    "    train_acc,testing_acc=[],[]\n",
    "    last_epoch=False\n",
    "    for epoch in range(1,epochs+1):\n",
    "            if epoch==epochs:\n",
    "                last_epoch=True\n",
    "            print(f\"Epoch number: {epoch}\")\n",
    "            print()\n",
    "            print('Training..')\n",
    "            loss_,accuracy=training_process(loader=train_loader,my_model=model_type,optimize=optimizer,loss=criterion,batch_size=batch_size)\n",
    "            train_loss.append(loss_)\n",
    "            train_acc.append(accuracy)\n",
    "            print(f'Training_Loss: {loss_} and Training_Accuracy: {accuracy} %')\n",
    "            print('Testing..')\n",
    "            loss_test,accuracy_test,confusion__matrix=evaluating_perfomance(loader_test=test_loader,my_model=model_type,loss=criterion,last_epoch=last_epoch)\n",
    "            testing_loss.append(loss_test)\n",
    "            testing_acc.append(accuracy_test)\n",
    "            print(f'Testing_Loss: {loss_test} and Testing_Accuracy: {accuracy_test} %')\n",
    "            print()\n",
    "            print('-'*80)\n",
    "            print()\n",
    "    make_directory(experiment_number)\n",
    "    final_matrix(confusion__matrix,experiment_number,leng=10)\n",
    "    train_loss,testing_loss=[float(i) for i in train_loss],[float(i) for i in testing_loss]\n",
    "    draw_plots(experiment_number,train_accuracy=train_acc,train_loss_=np.array(train_loss),test_loss_=np.array(testing_loss),test_accuracy=testing_acc)\n",
    "    # call function to compute precision and recall, f1 score\n",
    "    precision,recall,f1_score_=compute_precision_recall(confusion__matrix)\n",
    "    return {'precision':precision,'recall':recall,'f1_score':f1_score_,'accuracy':testing_acc[-1],'min_loss':min(testing_loss)}"
   ],
   "metadata": {
    "collapsed": false,
    "ExecuteTime": {
     "end_time": "2023-11-07T06:11:07.292855Z",
     "start_time": "2023-11-07T06:11:07.281384Z"
    }
   },
   "id": "c84a6c15afdaf0eb"
  },
  {
   "cell_type": "code",
   "execution_count": null,
   "outputs": [],
   "source": [
    "# Now i wil conduct couple experiments changing model's architecture. Each experiment will have distinct folder where all graphs and confusion matrix will be displayed. After each experiment i will give short summary and print accuracy and other scores."
   ],
   "metadata": {
    "collapsed": false
   },
   "id": "4af7242fe933be62"
  },
  {
   "cell_type": "code",
   "execution_count": 76,
   "outputs": [],
   "source": [
    "# prepare csv file\n",
    "file_name = \"table.csv\"\n",
    "header = 'No\\tModel_Number\\tMin_Loss\\tAccuracy\\tprecision\\trecall\\tf1_score'\n",
    "with open(file_name, 'w', newline='') as file_csv:\n",
    "    file_csv.write(header + '\\n')"
   ],
   "metadata": {
    "collapsed": false,
    "ExecuteTime": {
     "end_time": "2023-11-07T06:11:08.173684Z",
     "start_time": "2023-11-07T06:11:08.168782Z"
    }
   },
   "id": "e00afc19027a5d3a"
  },
  {
   "cell_type": "code",
   "execution_count": 77,
   "outputs": [],
   "source": [
    "class Model(nn.Module):\n",
    "    def __init__(self):\n",
    "        super(Model,self).__init__()\n",
    "        self.linear1 = nn.Linear(28*28, 50) \n",
    "        self.final = nn.Linear(50, 10)\n",
    "        self.relu = nn.ReLU()\n",
    "\n",
    "    def forward(self, img): #convert + flatten\n",
    "        x = img.view(-1, 28*28)\n",
    "        x = self.relu(self.linear1(x))\n",
    "        x = self.final(x)\n",
    "        return x"
   ],
   "metadata": {
    "collapsed": false,
    "ExecuteTime": {
     "end_time": "2023-11-07T06:11:08.561317Z",
     "start_time": "2023-11-07T06:11:08.556631Z"
    }
   },
   "id": "6c0cb9e00c7b7598"
  },
  {
   "cell_type": "code",
   "execution_count": 78,
   "outputs": [
    {
     "data": {
      "text/plain": "Model(\n  (linear1): Linear(in_features=784, out_features=50, bias=True)\n  (final): Linear(in_features=50, out_features=10, bias=True)\n  (relu): ReLU()\n)"
     },
     "execution_count": 78,
     "metadata": {},
     "output_type": "execute_result"
    }
   ],
   "source": [
    "model1=Model()\n",
    "model1"
   ],
   "metadata": {
    "collapsed": false,
    "ExecuteTime": {
     "end_time": "2023-11-07T06:11:08.898042Z",
     "start_time": "2023-11-07T06:11:08.890170Z"
    }
   },
   "id": "2b26adc5a20b9c76"
  },
  {
   "cell_type": "code",
   "execution_count": 79,
   "outputs": [
    {
     "name": "stdout",
     "output_type": "stream",
     "text": [
      "Epoch number: 1\n",
      "\n",
      "Training..\n"
     ]
    },
    {
     "name": "stderr",
     "output_type": "stream",
     "text": [
      "100%|██████████| 60000/60000 [00:14<00:00, 4274.72it/s]\n"
     ]
    },
    {
     "name": "stdout",
     "output_type": "stream",
     "text": [
      "Training_Loss: 1.9603905911935726e-06 and Training_Accuracy: 86.383333 %\n",
      "Testing..\n",
      "Testing_Loss: 4.169392923358828e-05 and Testing_Accuracy: 91.17 %\n",
      "\n",
      "--------------------------------------------------------------------------------\n",
      "\n",
      "Epoch number: 2\n",
      "\n",
      "Training..\n"
     ]
    },
    {
     "name": "stderr",
     "output_type": "stream",
     "text": [
      "100%|██████████| 60000/60000 [00:14<00:00, 4242.27it/s]\n"
     ]
    },
    {
     "name": "stdout",
     "output_type": "stream",
     "text": [
      "Training_Loss: 2.0500972652826022e-07 and Training_Accuracy: 91.866667 %\n",
      "Testing..\n",
      "Testing_Loss: 5.6489241728741035e-08 and Testing_Accuracy: 92.96 %\n",
      "\n",
      "--------------------------------------------------------------------------------\n",
      "\n",
      "Epoch number: 3\n",
      "\n",
      "Training..\n"
     ]
    },
    {
     "name": "stderr",
     "output_type": "stream",
     "text": [
      "100%|██████████| 60000/60000 [00:13<00:00, 4312.41it/s]\n"
     ]
    },
    {
     "name": "stdout",
     "output_type": "stream",
     "text": [
      "Training_Loss: 3.9935028439685993e-07 and Training_Accuracy: 93.325 %\n",
      "Testing..\n",
      "Testing_Loss: 1.21338580356678e-05 and Testing_Accuracy: 93.82000000000001 %\n",
      "\n",
      "--------------------------------------------------------------------------------\n",
      "\n",
      "Epoch number: 4\n",
      "\n",
      "Training..\n"
     ]
    },
    {
     "name": "stderr",
     "output_type": "stream",
     "text": [
      "100%|██████████| 60000/60000 [00:13<00:00, 4292.79it/s]\n"
     ]
    },
    {
     "name": "stdout",
     "output_type": "stream",
     "text": [
      "Training_Loss: 9.138859446977676e-09 and Training_Accuracy: 94.253333 %\n",
      "Testing..\n",
      "Testing_Loss: 2.0877963891052786e-07 and Testing_Accuracy: 94.69 %\n",
      "\n",
      "--------------------------------------------------------------------------------\n",
      "\n",
      "Epoch number: 5\n",
      "\n",
      "Training..\n"
     ]
    },
    {
     "name": "stderr",
     "output_type": "stream",
     "text": [
      "100%|██████████| 60000/60000 [00:13<00:00, 4420.65it/s]\n"
     ]
    },
    {
     "name": "stdout",
     "output_type": "stream",
     "text": [
      "Training_Loss: 6.320867385056772e-09 and Training_Accuracy: 95.07 %\n",
      "Testing..\n",
      "Testing_Loss: 1.2157390301581472e-05 and Testing_Accuracy: 95.11 %\n",
      "\n",
      "--------------------------------------------------------------------------------\n",
      "\n",
      "Epoch number: 6\n",
      "\n",
      "Training..\n"
     ]
    },
    {
     "name": "stderr",
     "output_type": "stream",
     "text": [
      "100%|██████████| 60000/60000 [00:13<00:00, 4427.48it/s]\n"
     ]
    },
    {
     "name": "stdout",
     "output_type": "stream",
     "text": [
      "Training_Loss: 8.860681191436015e-06 and Training_Accuracy: 95.706667 %\n",
      "Testing..\n",
      "Testing_Loss: 3.476966639937018e-06 and Testing_Accuracy: 95.57 %\n",
      "\n",
      "--------------------------------------------------------------------------------\n",
      "\n",
      "Epoch number: 7\n",
      "\n",
      "Training..\n"
     ]
    },
    {
     "name": "stderr",
     "output_type": "stream",
     "text": [
      "100%|██████████| 60000/60000 [00:13<00:00, 4443.55it/s]\n"
     ]
    },
    {
     "name": "stdout",
     "output_type": "stream",
     "text": [
      "Training_Loss: 4.712074730406357e-09 and Training_Accuracy: 96.185 %\n",
      "Testing..\n",
      "Testing_Loss: 8.904037258616881e-07 and Testing_Accuracy: 96.05 %\n",
      "\n",
      "--------------------------------------------------------------------------------\n",
      "\n",
      "Epoch number: 8\n",
      "\n",
      "Training..\n"
     ]
    },
    {
     "name": "stderr",
     "output_type": "stream",
     "text": [
      "100%|██████████| 60000/60000 [00:13<00:00, 4448.10it/s]\n"
     ]
    },
    {
     "name": "stdout",
     "output_type": "stream",
     "text": [
      "Training_Loss: 2.2297085067179978e-08 and Training_Accuracy: 96.495 %\n",
      "Testing..\n",
      "Testing_Loss: 1.0784635378513485e-05 and Testing_Accuracy: 96.19 %\n",
      "\n",
      "--------------------------------------------------------------------------------\n",
      "\n",
      "Epoch number: 9\n",
      "\n",
      "Training..\n"
     ]
    },
    {
     "name": "stderr",
     "output_type": "stream",
     "text": [
      "100%|██████████| 60000/60000 [00:13<00:00, 4454.53it/s]\n"
     ]
    },
    {
     "name": "stdout",
     "output_type": "stream",
     "text": [
      "Training_Loss: 4.423544197607043e-08 and Training_Accuracy: 96.83 %\n",
      "Testing..\n",
      "Testing_Loss: 2.0207001227845467e-07 and Testing_Accuracy: 96.47 %\n",
      "\n",
      "--------------------------------------------------------------------------------\n",
      "\n",
      "Epoch number: 10\n",
      "\n",
      "Training..\n"
     ]
    },
    {
     "name": "stderr",
     "output_type": "stream",
     "text": [
      "100%|██████████| 60000/60000 [00:13<00:00, 4470.55it/s]\n"
     ]
    },
    {
     "name": "stdout",
     "output_type": "stream",
     "text": [
      "Training_Loss: 1.76673840002195e-08 and Training_Accuracy: 97.056667 %\n",
      "Testing..\n",
      "Testing_Loss: 8.916606930142734e-06 and Testing_Accuracy: 96.73 %\n",
      "\n",
      "--------------------------------------------------------------------------------\n",
      "{'precision': 0.967087827288152, 'recall': 0.9670487224337141, 'f1_score': 0.967052181964695, 'accuracy': 96.73, 'min_loss': 5.6489241728741035e-08}\n"
     ]
    },
    {
     "data": {
      "text/plain": "<Figure size 3000x3600 with 0 Axes>"
     },
     "metadata": {},
     "output_type": "display_data"
    }
   ],
   "source": [
    "scores = run_epochs(experiment_number=1,model_type=model1)\n",
    "print(scores)\n",
    "experiment_number=1"
   ],
   "metadata": {
    "collapsed": false,
    "ExecuteTime": {
     "end_time": "2023-11-07T06:13:33.997408Z",
     "start_time": "2023-11-07T06:11:09.337618Z"
    }
   },
   "id": "69078885067d3263"
  },
  {
   "cell_type": "code",
   "execution_count": 80,
   "outputs": [],
   "source": [
    "with open(file_name,'a',newline='') as file_csv:\n",
    "    writer_ = csv.DictWriter(file_csv, fieldnames=header.split('\\t'),delimiter='\\t')\n",
    "    writer_.writerow({'No':experiment_number,'Model_Number':f'model{experiment_number}','Min_Loss':scores['min_loss'],'Accuracy':scores['accuracy']/100,'precision':scores['precision'],'recall':scores['recall'],'f1_score':scores['f1_score']})"
   ],
   "metadata": {
    "collapsed": false,
    "ExecuteTime": {
     "end_time": "2023-11-07T06:13:34.001337Z",
     "start_time": "2023-11-07T06:13:33.998775Z"
    }
   },
   "id": "6afb94be022e356c"
  },
  {
   "cell_type": "code",
   "execution_count": 81,
   "outputs": [],
   "source": [
    "# try to add one more hidden layer\n",
    "class Model(nn.Module):\n",
    "    def __init__(self):\n",
    "        super(Model,self).__init__()\n",
    "        self.linear1 = nn.Linear(28*28, 50) \n",
    "        self.linear2 = nn.Linear(50, 30) \n",
    "        self.final = nn.Linear(30, 10)\n",
    "        self.relu = nn.ReLU()\n",
    "\n",
    "    def forward(self, img): #convert + flatten\n",
    "        x = img.view(-1, 28*28)\n",
    "        x = self.relu(self.linear1(x))\n",
    "        x = self.relu(self.linear2(x))\n",
    "        x = self.final(x)\n",
    "        return x"
   ],
   "metadata": {
    "collapsed": false,
    "ExecuteTime": {
     "end_time": "2023-11-07T06:13:34.005812Z",
     "start_time": "2023-11-07T06:13:34.003159Z"
    }
   },
   "id": "52f31797cc9cbfda"
  },
  {
   "cell_type": "code",
   "execution_count": 82,
   "outputs": [
    {
     "data": {
      "text/plain": "Model(\n  (linear1): Linear(in_features=784, out_features=50, bias=True)\n  (linear2): Linear(in_features=50, out_features=30, bias=True)\n  (final): Linear(in_features=30, out_features=10, bias=True)\n  (relu): ReLU()\n)"
     },
     "execution_count": 82,
     "metadata": {},
     "output_type": "execute_result"
    }
   ],
   "source": [
    "model2=Model()\n",
    "model2"
   ],
   "metadata": {
    "collapsed": false,
    "ExecuteTime": {
     "end_time": "2023-11-07T06:13:34.010922Z",
     "start_time": "2023-11-07T06:13:34.006965Z"
    }
   },
   "id": "2ace14d772d45fe3"
  },
  {
   "cell_type": "code",
   "execution_count": 83,
   "outputs": [
    {
     "name": "stdout",
     "output_type": "stream",
     "text": [
      "Epoch number: 1\n",
      "\n",
      "Training..\n"
     ]
    },
    {
     "name": "stderr",
     "output_type": "stream",
     "text": [
      "100%|██████████| 60000/60000 [00:15<00:00, 3906.74it/s]\n"
     ]
    },
    {
     "name": "stdout",
     "output_type": "stream",
     "text": [
      "Training_Loss: 1.4402642989352898e-07 and Training_Accuracy: 82.146667 %\n",
      "Testing..\n",
      "Testing_Loss: 0.000352340197423473 and Testing_Accuracy: 91.60000000000001 %\n",
      "\n",
      "--------------------------------------------------------------------------------\n",
      "\n",
      "Epoch number: 2\n",
      "\n",
      "Training..\n"
     ]
    },
    {
     "name": "stderr",
     "output_type": "stream",
     "text": [
      "100%|██████████| 60000/60000 [00:15<00:00, 3944.51it/s]\n"
     ]
    },
    {
     "name": "stdout",
     "output_type": "stream",
     "text": [
      "Training_Loss: 1.1421950318890595e-07 and Training_Accuracy: 92.37 %\n",
      "Testing..\n",
      "Testing_Loss: 4.661407899675396e-07 and Testing_Accuracy: 93.92 %\n",
      "\n",
      "--------------------------------------------------------------------------------\n",
      "\n",
      "Epoch number: 3\n",
      "\n",
      "Training..\n"
     ]
    },
    {
     "name": "stderr",
     "output_type": "stream",
     "text": [
      "100%|██████████| 60000/60000 [00:15<00:00, 3946.92it/s]\n"
     ]
    },
    {
     "name": "stdout",
     "output_type": "stream",
     "text": [
      "Training_Loss: 4.332483740654425e-07 and Training_Accuracy: 94.208333 %\n",
      "Testing..\n",
      "Testing_Loss: 6.6158967193530316e-09 and Testing_Accuracy: 94.91000000000001 %\n",
      "\n",
      "--------------------------------------------------------------------------------\n",
      "\n",
      "Epoch number: 4\n",
      "\n",
      "Training..\n"
     ]
    },
    {
     "name": "stderr",
     "output_type": "stream",
     "text": [
      "100%|██████████| 60000/60000 [00:15<00:00, 3940.78it/s]\n"
     ]
    },
    {
     "name": "stdout",
     "output_type": "stream",
     "text": [
      "Training_Loss: 2.900734097366353e-10 and Training_Accuracy: 95.281667 %\n",
      "Testing..\n",
      "Testing_Loss: 0.0005876166978850961 and Testing_Accuracy: 95.33 %\n",
      "\n",
      "--------------------------------------------------------------------------------\n",
      "\n",
      "Epoch number: 5\n",
      "\n",
      "Training..\n"
     ]
    },
    {
     "name": "stderr",
     "output_type": "stream",
     "text": [
      "100%|██████████| 60000/60000 [00:15<00:00, 3946.64it/s]\n"
     ]
    },
    {
     "name": "stdout",
     "output_type": "stream",
     "text": [
      "Training_Loss: 6.635851867997644e-10 and Training_Accuracy: 95.986667 %\n",
      "Testing..\n",
      "Testing_Loss: 3.0632736525149085e-07 and Testing_Accuracy: 96.05 %\n",
      "\n",
      "--------------------------------------------------------------------------------\n",
      "\n",
      "Epoch number: 6\n",
      "\n",
      "Training..\n"
     ]
    },
    {
     "name": "stderr",
     "output_type": "stream",
     "text": [
      "100%|██████████| 60000/60000 [00:15<00:00, 3933.14it/s]\n"
     ]
    },
    {
     "name": "stdout",
     "output_type": "stream",
     "text": [
      "Training_Loss: 9.63658308705817e-08 and Training_Accuracy: 96.501667 %\n",
      "Testing..\n",
      "Testing_Loss: 1.4018030292106687e-08 and Testing_Accuracy: 96.05 %\n",
      "\n",
      "--------------------------------------------------------------------------------\n",
      "\n",
      "Epoch number: 7\n",
      "\n",
      "Training..\n"
     ]
    },
    {
     "name": "stderr",
     "output_type": "stream",
     "text": [
      "100%|██████████| 60000/60000 [00:15<00:00, 3930.99it/s]\n"
     ]
    },
    {
     "name": "stdout",
     "output_type": "stream",
     "text": [
      "Training_Loss: 1.2797725901236845e-07 and Training_Accuracy: 96.921667 %\n",
      "Testing..\n",
      "Testing_Loss: 1.3669915460923221e-05 and Testing_Accuracy: 96.34 %\n",
      "\n",
      "--------------------------------------------------------------------------------\n",
      "\n",
      "Epoch number: 8\n",
      "\n",
      "Training..\n"
     ]
    },
    {
     "name": "stderr",
     "output_type": "stream",
     "text": [
      "100%|██████████| 60000/60000 [00:15<00:00, 3937.62it/s]\n"
     ]
    },
    {
     "name": "stdout",
     "output_type": "stream",
     "text": [
      "Training_Loss: 3.301209972050856e-08 and Training_Accuracy: 97.173333 %\n",
      "Testing..\n",
      "Testing_Loss: 3.218645627800498e-10 and Testing_Accuracy: 96.61 %\n",
      "\n",
      "--------------------------------------------------------------------------------\n",
      "\n",
      "Epoch number: 9\n",
      "\n",
      "Training..\n"
     ]
    },
    {
     "name": "stderr",
     "output_type": "stream",
     "text": [
      "100%|██████████| 60000/60000 [00:15<00:00, 3938.68it/s]\n"
     ]
    },
    {
     "name": "stdout",
     "output_type": "stream",
     "text": [
      "Training_Loss: 2.9230298181914804e-08 and Training_Accuracy: 97.443333 %\n",
      "Testing..\n",
      "Testing_Loss: 1.3219437100531195e-08 and Testing_Accuracy: 96.88 %\n",
      "\n",
      "--------------------------------------------------------------------------------\n",
      "\n",
      "Epoch number: 10\n",
      "\n",
      "Training..\n"
     ]
    },
    {
     "name": "stderr",
     "output_type": "stream",
     "text": [
      "100%|██████████| 60000/60000 [00:15<00:00, 3933.31it/s]\n"
     ]
    },
    {
     "name": "stdout",
     "output_type": "stream",
     "text": [
      "Training_Loss: 1.8568131565643853e-07 and Training_Accuracy: 97.65 %\n",
      "Testing..\n",
      "Testing_Loss: 2.5193724013661267e-06 and Testing_Accuracy: 97.08 %\n",
      "\n",
      "--------------------------------------------------------------------------------\n",
      "{'precision': 0.9705278637372375, 'recall': 0.970528261156689, 'f1_score': 0.9704800236323141, 'accuracy': 97.08, 'min_loss': 3.218645627800498e-10}\n"
     ]
    },
    {
     "data": {
      "text/plain": "<Figure size 3000x3600 with 0 Axes>"
     },
     "metadata": {},
     "output_type": "display_data"
    }
   ],
   "source": [
    "scores = run_epochs(experiment_number=2,model_type=model2)\n",
    "print(scores)\n",
    "experiment_number=2"
   ],
   "metadata": {
    "collapsed": false,
    "ExecuteTime": {
     "end_time": "2023-11-07T06:16:14.520911Z",
     "start_time": "2023-11-07T06:13:34.011432Z"
    }
   },
   "id": "3413568c0c14012b"
  },
  {
   "cell_type": "code",
   "execution_count": 84,
   "outputs": [],
   "source": [
    "with open(file_name,'a',newline='') as file_csv:\n",
    "    writer_ = csv.DictWriter(file_csv, fieldnames=header.split('\\t'),delimiter='\\t')\n",
    "    writer_.writerow({'No':experiment_number,'Model_Number':f'model{experiment_number}','Min_Loss':scores['min_loss'],'Accuracy':scores['accuracy']/100,'precision':scores['precision'],'recall':scores['recall'],'f1_score':scores['f1_score']})"
   ],
   "metadata": {
    "collapsed": false,
    "ExecuteTime": {
     "end_time": "2023-11-07T06:16:14.528417Z",
     "start_time": "2023-11-07T06:16:14.523827Z"
    }
   },
   "id": "a37a02d35c35f2f7"
  },
  {
   "cell_type": "code",
   "execution_count": 85,
   "outputs": [],
   "source": [
    "# let's add one more layer + increase the number of neurons in each layer\n",
    "class Model(nn.Module):\n",
    "    def __init__(self):\n",
    "        super(Model,self).__init__()\n",
    "        self.linear1 = nn.Linear(28*28, 100) \n",
    "        self.linear2 = nn.Linear(100, 50) \n",
    "        self.final = nn.Linear(50, 10)\n",
    "        self.relu = nn.ReLU()\n",
    "\n",
    "    def forward(self, img): #convert + flatten\n",
    "        x = img.view(-1, 28*28)\n",
    "        x = self.relu(self.linear1(x))\n",
    "        x = self.relu(self.linear2(x))\n",
    "        x = self.final(x)\n",
    "        return x"
   ],
   "metadata": {
    "collapsed": false,
    "ExecuteTime": {
     "end_time": "2023-11-07T06:16:14.535784Z",
     "start_time": "2023-11-07T06:16:14.526840Z"
    }
   },
   "id": "bce820c33e412f08"
  },
  {
   "cell_type": "code",
   "execution_count": 86,
   "outputs": [
    {
     "data": {
      "text/plain": "Model(\n  (linear1): Linear(in_features=784, out_features=100, bias=True)\n  (linear2): Linear(in_features=100, out_features=50, bias=True)\n  (final): Linear(in_features=50, out_features=10, bias=True)\n  (relu): ReLU()\n)"
     },
     "execution_count": 86,
     "metadata": {},
     "output_type": "execute_result"
    }
   ],
   "source": [
    "model3=Model()\n",
    "model3"
   ],
   "metadata": {
    "collapsed": false,
    "ExecuteTime": {
     "end_time": "2023-11-07T06:16:14.538603Z",
     "start_time": "2023-11-07T06:16:14.531687Z"
    }
   },
   "id": "6740a0d53ecf72c0"
  },
  {
   "cell_type": "code",
   "execution_count": 87,
   "outputs": [
    {
     "name": "stdout",
     "output_type": "stream",
     "text": [
      "Epoch number: 1\n",
      "\n",
      "Training..\n"
     ]
    },
    {
     "name": "stderr",
     "output_type": "stream",
     "text": [
      "100%|██████████| 60000/60000 [00:17<00:00, 3517.80it/s]\n"
     ]
    },
    {
     "name": "stdout",
     "output_type": "stream",
     "text": [
      "Training_Loss: 2.0406572787123878e-07 and Training_Accuracy: 82.773333 %\n",
      "Testing..\n",
      "Testing_Loss: 4.45495516032679e-06 and Testing_Accuracy: 91.84 %\n",
      "\n",
      "--------------------------------------------------------------------------------\n",
      "\n",
      "Epoch number: 2\n",
      "\n",
      "Training..\n"
     ]
    },
    {
     "name": "stderr",
     "output_type": "stream",
     "text": [
      "100%|██████████| 60000/60000 [00:17<00:00, 3508.65it/s]\n"
     ]
    },
    {
     "name": "stdout",
     "output_type": "stream",
     "text": [
      "Training_Loss: 1.837789653791333e-08 and Training_Accuracy: 92.71 %\n",
      "Testing..\n",
      "Testing_Loss: 4.185656871413812e-05 and Testing_Accuracy: 93.97 %\n",
      "\n",
      "--------------------------------------------------------------------------------\n",
      "\n",
      "Epoch number: 3\n",
      "\n",
      "Training..\n"
     ]
    },
    {
     "name": "stderr",
     "output_type": "stream",
     "text": [
      "100%|██████████| 60000/60000 [00:17<00:00, 3524.19it/s]\n"
     ]
    },
    {
     "name": "stdout",
     "output_type": "stream",
     "text": [
      "Training_Loss: 2.5787295498957974e-07 and Training_Accuracy: 94.516667 %\n",
      "Testing..\n",
      "Testing_Loss: 3.943172123399563e-05 and Testing_Accuracy: 95.09 %\n",
      "\n",
      "--------------------------------------------------------------------------------\n",
      "\n",
      "Epoch number: 4\n",
      "\n",
      "Training..\n"
     ]
    },
    {
     "name": "stderr",
     "output_type": "stream",
     "text": [
      "100%|██████████| 60000/60000 [00:17<00:00, 3507.48it/s]\n"
     ]
    },
    {
     "name": "stdout",
     "output_type": "stream",
     "text": [
      "Training_Loss: 5.615793270408176e-06 and Training_Accuracy: 95.731667 %\n",
      "Testing..\n",
      "Testing_Loss: 6.331585211682977e-08 and Testing_Accuracy: 95.76 %\n",
      "\n",
      "--------------------------------------------------------------------------------\n",
      "\n",
      "Epoch number: 5\n",
      "\n",
      "Training..\n"
     ]
    },
    {
     "name": "stderr",
     "output_type": "stream",
     "text": [
      "100%|██████████| 60000/60000 [00:17<00:00, 3524.14it/s]\n"
     ]
    },
    {
     "name": "stdout",
     "output_type": "stream",
     "text": [
      "Training_Loss: 5.129183744401189e-09 and Training_Accuracy: 96.433333 %\n",
      "Testing..\n",
      "Testing_Loss: 1.6212332587528522e-09 and Testing_Accuracy: 96.36 %\n",
      "\n",
      "--------------------------------------------------------------------------------\n",
      "\n",
      "Epoch number: 6\n",
      "\n",
      "Training..\n"
     ]
    },
    {
     "name": "stderr",
     "output_type": "stream",
     "text": [
      "100%|██████████| 60000/60000 [00:17<00:00, 3517.62it/s]\n"
     ]
    },
    {
     "name": "stdout",
     "output_type": "stream",
     "text": [
      "Training_Loss: 8.862849654178717e-08 and Training_Accuracy: 96.993333 %\n",
      "Testing..\n",
      "Testing_Loss: 3.701955009205449e-08 and Testing_Accuracy: 96.72 %\n",
      "\n",
      "--------------------------------------------------------------------------------\n",
      "\n",
      "Epoch number: 7\n",
      "\n",
      "Training..\n"
     ]
    },
    {
     "name": "stderr",
     "output_type": "stream",
     "text": [
      "100%|██████████| 60000/60000 [00:17<00:00, 3523.17it/s]\n"
     ]
    },
    {
     "name": "stdout",
     "output_type": "stream",
     "text": [
      "Training_Loss: 2.900506945735515e-09 and Training_Accuracy: 97.42 %\n",
      "Testing..\n",
      "Testing_Loss: 3.4528895298535645e-07 and Testing_Accuracy: 97.04 %\n",
      "\n",
      "--------------------------------------------------------------------------------\n",
      "\n",
      "Epoch number: 8\n",
      "\n",
      "Training..\n"
     ]
    },
    {
     "name": "stderr",
     "output_type": "stream",
     "text": [
      "100%|██████████| 60000/60000 [00:17<00:00, 3524.82it/s]\n"
     ]
    },
    {
     "name": "stdout",
     "output_type": "stream",
     "text": [
      "Training_Loss: 1.3863639480860002e-07 and Training_Accuracy: 97.748333 %\n",
      "Testing..\n",
      "Testing_Loss: 5.340433428813185e-09 and Testing_Accuracy: 97.28999999999999 %\n",
      "\n",
      "--------------------------------------------------------------------------------\n",
      "\n",
      "Epoch number: 9\n",
      "\n",
      "Training..\n"
     ]
    },
    {
     "name": "stderr",
     "output_type": "stream",
     "text": [
      "100%|██████████| 60000/60000 [00:17<00:00, 3335.36it/s]\n"
     ]
    },
    {
     "name": "stdout",
     "output_type": "stream",
     "text": [
      "Training_Loss: 2.7332851004757686e-07 and Training_Accuracy: 97.988333 %\n",
      "Testing..\n",
      "Testing_Loss: 2.578164526312321e-08 and Testing_Accuracy: 97.28999999999999 %\n",
      "\n",
      "--------------------------------------------------------------------------------\n",
      "\n",
      "Epoch number: 10\n",
      "\n",
      "Training..\n"
     ]
    },
    {
     "name": "stderr",
     "output_type": "stream",
     "text": [
      "100%|██████████| 60000/60000 [00:17<00:00, 3420.94it/s]\n"
     ]
    },
    {
     "name": "stdout",
     "output_type": "stream",
     "text": [
      "Training_Loss: 1.0838559383330448e-08 and Training_Accuracy: 98.218333 %\n",
      "Testing..\n",
      "Testing_Loss: 8.987976585217439e-09 and Testing_Accuracy: 97.39999999999999 %\n",
      "\n",
      "--------------------------------------------------------------------------------\n",
      "\n",
      "Epoch number: 11\n",
      "\n",
      "Training..\n"
     ]
    },
    {
     "name": "stderr",
     "output_type": "stream",
     "text": [
      "100%|██████████| 60000/60000 [00:17<00:00, 3480.32it/s]\n"
     ]
    },
    {
     "name": "stdout",
     "output_type": "stream",
     "text": [
      "Training_Loss: 5.88133133305746e-08 and Training_Accuracy: 98.415 %\n",
      "Testing..\n",
      "Testing_Loss: 7.722727605141699e-05 and Testing_Accuracy: 97.24000000000001 %\n",
      "\n",
      "--------------------------------------------------------------------------------\n",
      "{'precision': 0.9725575912144265, 'recall': 0.9719738884283435, 'f1_score': 0.9721241875375203, 'accuracy': 97.24000000000001, 'min_loss': 1.6212332587528522e-09}\n"
     ]
    },
    {
     "data": {
      "text/plain": "<Figure size 3000x3600 with 0 Axes>"
     },
     "metadata": {},
     "output_type": "display_data"
    }
   ],
   "source": [
    "scores = run_epochs(experiment_number=3,model_type=model3,epochs = 11)\n",
    "print(scores)\n",
    "experiment_number=3"
   ],
   "metadata": {
    "collapsed": false,
    "ExecuteTime": {
     "end_time": "2023-11-07T06:19:32.872692Z",
     "start_time": "2023-11-07T06:16:14.537051Z"
    }
   },
   "id": "608539463b5b1875"
  },
  {
   "cell_type": "code",
   "execution_count": 88,
   "outputs": [],
   "source": [
    "with open(file_name,'a',newline='') as file_csv:\n",
    "    writer_ = csv.DictWriter(file_csv, fieldnames=header.split('\\t'),delimiter='\\t')\n",
    "    writer_.writerow({'No':experiment_number,'Model_Number':f'model{experiment_number}','Min_Loss':scores['min_loss'],'Accuracy':scores['accuracy']/100,'precision':scores['precision'],'recall':scores['recall'],'f1_score':scores['f1_score']})"
   ],
   "metadata": {
    "collapsed": false,
    "ExecuteTime": {
     "end_time": "2023-11-07T06:19:32.885219Z",
     "start_time": "2023-11-07T06:19:32.875467Z"
    }
   },
   "id": "32247fe3883f7278"
  },
  {
   "cell_type": "code",
   "execution_count": 89,
   "outputs": [],
   "source": [
    "# implement dropout technique\n",
    "class Model(nn.Module):\n",
    "    def __init__(self):\n",
    "        super(Model,self).__init__()\n",
    "        self.linear1 = nn.Linear(28*28, 100) \n",
    "        self.linear2 = nn.Linear(100, 50) \n",
    "        self.dropout=nn.Dropout(0.2)\n",
    "        self.final = nn.Linear(50, 10)\n",
    "        self.relu = nn.ReLU()\n",
    "\n",
    "    def forward(self, img): #convert + flatten\n",
    "        x = img.view(-1, 28*28)\n",
    "        x = self.relu(self.linear1(x))\n",
    "        x = self.relu(self.dropout(self.linear2(x)))\n",
    "        x = self.final(x)\n",
    "        return x"
   ],
   "metadata": {
    "collapsed": false,
    "ExecuteTime": {
     "end_time": "2023-11-07T06:19:32.885398Z",
     "start_time": "2023-11-07T06:19:32.881454Z"
    }
   },
   "id": "1141264a09b9a9e9"
  },
  {
   "cell_type": "code",
   "execution_count": 90,
   "outputs": [
    {
     "data": {
      "text/plain": "Model(\n  (linear1): Linear(in_features=784, out_features=100, bias=True)\n  (linear2): Linear(in_features=100, out_features=50, bias=True)\n  (dropout): Dropout(p=0.2, inplace=False)\n  (final): Linear(in_features=50, out_features=10, bias=True)\n  (relu): ReLU()\n)"
     },
     "execution_count": 90,
     "metadata": {},
     "output_type": "execute_result"
    }
   ],
   "source": [
    "model4=Model()\n",
    "model4"
   ],
   "metadata": {
    "collapsed": false,
    "ExecuteTime": {
     "end_time": "2023-11-07T06:19:32.893968Z",
     "start_time": "2023-11-07T06:19:32.885007Z"
    }
   },
   "id": "9ae6c20fa2513fe8"
  },
  {
   "cell_type": "code",
   "execution_count": 91,
   "outputs": [
    {
     "name": "stdout",
     "output_type": "stream",
     "text": [
      "Epoch number: 1\n",
      "\n",
      "Training..\n"
     ]
    },
    {
     "name": "stderr",
     "output_type": "stream",
     "text": [
      "100%|██████████| 60000/60000 [00:18<00:00, 3262.52it/s]\n"
     ]
    },
    {
     "name": "stdout",
     "output_type": "stream",
     "text": [
      "Training_Loss: 2.1457534360447283e-10 and Training_Accuracy: 79.33 %\n",
      "Testing..\n",
      "Testing_Loss: 1.8921786249848083e-05 and Testing_Accuracy: 90.42999999999999 %\n",
      "\n",
      "--------------------------------------------------------------------------------\n",
      "\n",
      "Epoch number: 2\n",
      "\n",
      "Training..\n"
     ]
    },
    {
     "name": "stderr",
     "output_type": "stream",
     "text": [
      "100%|██████████| 60000/60000 [00:18<00:00, 3276.87it/s]\n"
     ]
    },
    {
     "name": "stdout",
     "output_type": "stream",
     "text": [
      "Training_Loss: 3.2541470318392385e-07 and Training_Accuracy: 91.485 %\n",
      "Testing..\n",
      "Testing_Loss: 8.949289167503593e-07 and Testing_Accuracy: 93.27 %\n",
      "\n",
      "--------------------------------------------------------------------------------\n",
      "\n",
      "Epoch number: 3\n",
      "\n",
      "Training..\n"
     ]
    },
    {
     "name": "stderr",
     "output_type": "stream",
     "text": [
      "100%|██████████| 60000/60000 [00:18<00:00, 3289.68it/s]\n"
     ]
    },
    {
     "name": "stdout",
     "output_type": "stream",
     "text": [
      "Training_Loss: 5.442700512503507e-06 and Training_Accuracy: 93.761667 %\n",
      "Testing..\n",
      "Testing_Loss: 4.0021808445089846e-07 and Testing_Accuracy: 93.97 %\n",
      "\n",
      "--------------------------------------------------------------------------------\n",
      "\n",
      "Epoch number: 4\n",
      "\n",
      "Training..\n"
     ]
    },
    {
     "name": "stderr",
     "output_type": "stream",
     "text": [
      "100%|██████████| 60000/60000 [00:18<00:00, 3297.20it/s]\n"
     ]
    },
    {
     "name": "stdout",
     "output_type": "stream",
     "text": [
      "Training_Loss: 7.986830641293352e-10 and Training_Accuracy: 94.871667 %\n",
      "Testing..\n",
      "Testing_Loss: 1.872602517494215e-08 and Testing_Accuracy: 95.37 %\n",
      "\n",
      "--------------------------------------------------------------------------------\n",
      "\n",
      "Epoch number: 5\n",
      "\n",
      "Training..\n"
     ]
    },
    {
     "name": "stderr",
     "output_type": "stream",
     "text": [
      "100%|██████████| 60000/60000 [00:18<00:00, 3290.31it/s]\n"
     ]
    },
    {
     "name": "stdout",
     "output_type": "stream",
     "text": [
      "Training_Loss: 1.970159324571341e-08 and Training_Accuracy: 95.701667 %\n",
      "Testing..\n",
      "Testing_Loss: 3.8898531329323305e-07 and Testing_Accuracy: 95.94 %\n",
      "\n",
      "--------------------------------------------------------------------------------\n",
      "\n",
      "Epoch number: 6\n",
      "\n",
      "Training..\n"
     ]
    },
    {
     "name": "stderr",
     "output_type": "stream",
     "text": [
      "100%|██████████| 60000/60000 [00:18<00:00, 3291.18it/s]\n"
     ]
    },
    {
     "name": "stdout",
     "output_type": "stream",
     "text": [
      "Training_Loss: 7.947096869465042e-10 and Training_Accuracy: 96.27 %\n",
      "Testing..\n",
      "Testing_Loss: 2.2635282093119713e-08 and Testing_Accuracy: 96.27 %\n",
      "\n",
      "--------------------------------------------------------------------------------\n",
      "\n",
      "Epoch number: 7\n",
      "\n",
      "Training..\n"
     ]
    },
    {
     "name": "stderr",
     "output_type": "stream",
     "text": [
      "100%|██████████| 60000/60000 [00:18<00:00, 3297.80it/s]\n"
     ]
    },
    {
     "name": "stdout",
     "output_type": "stream",
     "text": [
      "Training_Loss: 2.7376046318750014e-07 and Training_Accuracy: 96.685 %\n",
      "Testing..\n",
      "Testing_Loss: 3.8307157979033946e-07 and Testing_Accuracy: 96.2 %\n",
      "\n",
      "--------------------------------------------------------------------------------\n",
      "\n",
      "Epoch number: 8\n",
      "\n",
      "Training..\n"
     ]
    },
    {
     "name": "stderr",
     "output_type": "stream",
     "text": [
      "100%|██████████| 60000/60000 [00:18<00:00, 3296.89it/s]\n"
     ]
    },
    {
     "name": "stdout",
     "output_type": "stream",
     "text": [
      "Training_Loss: 4.283036592056533e-09 and Training_Accuracy: 97.068333 %\n",
      "Testing..\n",
      "Testing_Loss: 7.171443172637737e-08 and Testing_Accuracy: 96.55 %\n",
      "\n",
      "--------------------------------------------------------------------------------\n",
      "\n",
      "Epoch number: 9\n",
      "\n",
      "Training..\n"
     ]
    },
    {
     "name": "stderr",
     "output_type": "stream",
     "text": [
      "100%|██████████| 60000/60000 [00:18<00:00, 3287.73it/s]\n"
     ]
    },
    {
     "name": "stdout",
     "output_type": "stream",
     "text": [
      "Training_Loss: 2.78529088681978e-09 and Training_Accuracy: 97.261667 %\n",
      "Testing..\n",
      "Testing_Loss: 4.992755862076592e-07 and Testing_Accuracy: 96.67999999999999 %\n",
      "\n",
      "--------------------------------------------------------------------------------\n",
      "\n",
      "Epoch number: 10\n",
      "\n",
      "Training..\n"
     ]
    },
    {
     "name": "stderr",
     "output_type": "stream",
     "text": [
      "100%|██████████| 60000/60000 [00:18<00:00, 3309.89it/s]\n"
     ]
    },
    {
     "name": "stdout",
     "output_type": "stream",
     "text": [
      "Training_Loss: 2.781547735197787e-11 and Training_Accuracy: 97.535 %\n",
      "Testing..\n",
      "Testing_Loss: 2.9126863410056103e-07 and Testing_Accuracy: 96.89999999999999 %\n",
      "\n",
      "--------------------------------------------------------------------------------\n",
      "{'precision': 0.9686301623656975, 'recall': 0.9687551820024283, 'f1_score': 0.9686234817557434, 'accuracy': 96.89999999999999, 'min_loss': 1.872602517494215e-08}\n"
     ]
    },
    {
     "data": {
      "text/plain": "<Figure size 3000x3600 with 0 Axes>"
     },
     "metadata": {},
     "output_type": "display_data"
    }
   ],
   "source": [
    "scores = run_epochs(experiment_number=4,model_type=model4)\n",
    "print(scores)\n",
    "experiment_number=4"
   ],
   "metadata": {
    "collapsed": false,
    "ExecuteTime": {
     "end_time": "2023-11-07T06:22:44.777490Z",
     "start_time": "2023-11-07T06:19:32.889811Z"
    }
   },
   "id": "607b5bdc3a0281e2"
  },
  {
   "cell_type": "code",
   "execution_count": 92,
   "outputs": [],
   "source": [
    "with open(file_name,'a',newline='') as file_csv:\n",
    "    writer_ = csv.DictWriter(file_csv, fieldnames=header.split('\\t'),delimiter='\\t')\n",
    "    writer_.writerow({'No':experiment_number,'Model_Number':f'model{experiment_number}','Min_Loss':scores['min_loss'],'Accuracy':scores['accuracy']/100,'precision':scores['precision'],'recall':scores['recall'],'f1_score':scores['f1_score']})"
   ],
   "metadata": {
    "collapsed": false,
    "ExecuteTime": {
     "end_time": "2023-11-07T06:22:44.784885Z",
     "start_time": "2023-11-07T06:22:44.779956Z"
    }
   },
   "id": "8924ea171f375f70"
  },
  {
   "cell_type": "code",
   "execution_count": 93,
   "outputs": [],
   "source": [
    "# model type -> without dropout, but replacing RELU with softmax\n",
    "class Model(nn.Module):\n",
    "    def __init__(self):\n",
    "        super(Model,self).__init__()\n",
    "        self.linear1 = nn.Linear(28*28, 100) \n",
    "        self.linear2 = nn.Linear(100, 50) \n",
    "        self.final = nn.Linear(50, 10) \n",
    "        self.softmax = nn.Softmax()\n",
    "\n",
    "    def forward(self, img):\n",
    "        x = img.view(-1, 28*28)\n",
    "        x = self.softmax(self.linear1(x))\n",
    "        x = self.softmax(self.linear2(x))\n",
    "        x = self.final(x)\n",
    "        return x"
   ],
   "metadata": {
    "collapsed": false,
    "ExecuteTime": {
     "end_time": "2023-11-07T06:22:44.789910Z",
     "start_time": "2023-11-07T06:22:44.784996Z"
    }
   },
   "id": "c4f83f2667d00288"
  },
  {
   "cell_type": "code",
   "execution_count": 94,
   "outputs": [
    {
     "data": {
      "text/plain": "Model(\n  (linear1): Linear(in_features=784, out_features=100, bias=True)\n  (linear2): Linear(in_features=100, out_features=50, bias=True)\n  (final): Linear(in_features=50, out_features=10, bias=True)\n  (softmax): Softmax(dim=None)\n)"
     },
     "execution_count": 94,
     "metadata": {},
     "output_type": "execute_result"
    }
   ],
   "source": [
    "model5=Model()\n",
    "model5"
   ],
   "metadata": {
    "collapsed": false,
    "ExecuteTime": {
     "end_time": "2023-11-07T06:22:44.792890Z",
     "start_time": "2023-11-07T06:22:44.788730Z"
    }
   },
   "id": "421684533775ac99"
  },
  {
   "cell_type": "code",
   "execution_count": 95,
   "outputs": [
    {
     "name": "stdout",
     "output_type": "stream",
     "text": [
      "Epoch number: 1\n",
      "\n",
      "Training..\n"
     ]
    },
    {
     "name": "stderr",
     "output_type": "stream",
     "text": [
      "  0%|          | 0/60000 [00:00<?, ?it/s]/Users/boris/PycharmProjects/Programming/Yandex_liceum/lib/python3.9/site-packages/torch/nn/modules/module.py:1518: UserWarning: Implicit dimension choice for softmax has been deprecated. Change the call to include dim=X as an argument.\n",
      "  return self._call_impl(*args, **kwargs)\n",
      "100%|██████████| 60000/60000 [00:17<00:00, 3423.35it/s]\n"
     ]
    },
    {
     "name": "stdout",
     "output_type": "stream",
     "text": [
      "Training_Loss: 3.771374395000748e-05 and Training_Accuracy: 11.188333 %\n",
      "Testing..\n",
      "Testing_Loss: 0.00023141440760809928 and Testing_Accuracy: 11.35 %\n",
      "\n",
      "--------------------------------------------------------------------------------\n",
      "\n",
      "Epoch number: 2\n",
      "\n",
      "Training..\n"
     ]
    },
    {
     "name": "stderr",
     "output_type": "stream",
     "text": [
      "100%|██████████| 60000/60000 [00:17<00:00, 3430.47it/s]\n"
     ]
    },
    {
     "name": "stdout",
     "output_type": "stream",
     "text": [
      "Training_Loss: 4.011052078567445e-05 and Training_Accuracy: 11.236667 %\n",
      "Testing..\n",
      "Testing_Loss: 0.00023199853603728116 and Testing_Accuracy: 11.35 %\n",
      "\n",
      "--------------------------------------------------------------------------------\n",
      "\n",
      "Epoch number: 3\n",
      "\n",
      "Training..\n"
     ]
    },
    {
     "name": "stderr",
     "output_type": "stream",
     "text": [
      "100%|██████████| 60000/60000 [00:17<00:00, 3436.52it/s]\n"
     ]
    },
    {
     "name": "stdout",
     "output_type": "stream",
     "text": [
      "Training_Loss: 4.0022780012805015e-05 and Training_Accuracy: 11.236667 %\n",
      "Testing..\n",
      "Testing_Loss: 0.0002320888452231884 and Testing_Accuracy: 11.35 %\n",
      "\n",
      "--------------------------------------------------------------------------------\n",
      "\n",
      "Epoch number: 4\n",
      "\n",
      "Training..\n"
     ]
    },
    {
     "name": "stderr",
     "output_type": "stream",
     "text": [
      "100%|██████████| 60000/60000 [00:17<00:00, 3434.14it/s]\n"
     ]
    },
    {
     "name": "stdout",
     "output_type": "stream",
     "text": [
      "Training_Loss: 3.825209932983853e-05 and Training_Accuracy: 11.236667 %\n",
      "Testing..\n",
      "Testing_Loss: 0.00022942159557715058 and Testing_Accuracy: 11.35 %\n",
      "\n",
      "--------------------------------------------------------------------------------\n",
      "\n",
      "Epoch number: 5\n",
      "\n",
      "Training..\n"
     ]
    },
    {
     "name": "stderr",
     "output_type": "stream",
     "text": [
      "100%|██████████| 60000/60000 [00:17<00:00, 3439.30it/s]\n"
     ]
    },
    {
     "name": "stdout",
     "output_type": "stream",
     "text": [
      "Training_Loss: 3.9073383959475905e-05 and Training_Accuracy: 11.236667 %\n",
      "Testing..\n",
      "Testing_Loss: 0.00023434664763044566 and Testing_Accuracy: 11.35 %\n",
      "\n",
      "--------------------------------------------------------------------------------\n",
      "\n",
      "Epoch number: 6\n",
      "\n",
      "Training..\n"
     ]
    },
    {
     "name": "stderr",
     "output_type": "stream",
     "text": [
      "100%|██████████| 60000/60000 [00:17<00:00, 3440.67it/s]\n"
     ]
    },
    {
     "name": "stdout",
     "output_type": "stream",
     "text": [
      "Training_Loss: 3.631927029346116e-05 and Training_Accuracy: 11.236667 %\n",
      "Testing..\n",
      "Testing_Loss: 0.00023404567036777735 and Testing_Accuracy: 11.35 %\n",
      "\n",
      "--------------------------------------------------------------------------------\n",
      "\n",
      "Epoch number: 7\n",
      "\n",
      "Training..\n"
     ]
    },
    {
     "name": "stderr",
     "output_type": "stream",
     "text": [
      "100%|██████████| 60000/60000 [00:17<00:00, 3436.88it/s]\n"
     ]
    },
    {
     "name": "stdout",
     "output_type": "stream",
     "text": [
      "Training_Loss: 4.0446320781484246e-05 and Training_Accuracy: 11.236667 %\n",
      "Testing..\n",
      "Testing_Loss: 0.00024258243502117693 and Testing_Accuracy: 11.35 %\n",
      "\n",
      "--------------------------------------------------------------------------------\n",
      "\n",
      "Epoch number: 8\n",
      "\n",
      "Training..\n"
     ]
    },
    {
     "name": "stderr",
     "output_type": "stream",
     "text": [
      "100%|██████████| 60000/60000 [00:17<00:00, 3437.78it/s]\n"
     ]
    },
    {
     "name": "stdout",
     "output_type": "stream",
     "text": [
      "Training_Loss: 3.6874076613457873e-05 and Training_Accuracy: 11.236667 %\n",
      "Testing..\n",
      "Testing_Loss: 0.00023226506891660392 and Testing_Accuracy: 11.35 %\n",
      "\n",
      "--------------------------------------------------------------------------------\n",
      "\n",
      "Epoch number: 9\n",
      "\n",
      "Training..\n"
     ]
    },
    {
     "name": "stderr",
     "output_type": "stream",
     "text": [
      "100%|██████████| 60000/60000 [00:17<00:00, 3430.41it/s]\n"
     ]
    },
    {
     "name": "stdout",
     "output_type": "stream",
     "text": [
      "Training_Loss: 3.842174191959202e-05 and Training_Accuracy: 11.236667 %\n",
      "Testing..\n",
      "Testing_Loss: 0.0002317867474630475 and Testing_Accuracy: 11.35 %\n",
      "\n",
      "--------------------------------------------------------------------------------\n",
      "\n",
      "Epoch number: 10\n",
      "\n",
      "Training..\n"
     ]
    },
    {
     "name": "stderr",
     "output_type": "stream",
     "text": [
      "100%|██████████| 60000/60000 [00:17<00:00, 3428.90it/s]\n"
     ]
    },
    {
     "name": "stdout",
     "output_type": "stream",
     "text": [
      "Training_Loss: 3.851937799481675e-05 and Training_Accuracy: 11.206667 %\n",
      "Testing..\n",
      "Testing_Loss: 0.00022058634203858674 and Testing_Accuracy: 11.35 %\n",
      "\n",
      "--------------------------------------------------------------------------------\n",
      "{'precision': 0.01135, 'recall': 0.1, 'f1_score': 0.0203861697350696, 'accuracy': 11.35, 'min_loss': 0.00022058634203858674}\n"
     ]
    },
    {
     "name": "stderr",
     "output_type": "stream",
     "text": [
      "/Users/boris/PycharmProjects/Programming/Yandex_liceum/lib/python3.9/site-packages/sklearn/metrics/_classification.py:1469: UndefinedMetricWarning: Precision is ill-defined and being set to 0.0 in labels with no predicted samples. Use `zero_division` parameter to control this behavior.\n",
      "  _warn_prf(average, modifier, msg_start, len(result))\n"
     ]
    },
    {
     "data": {
      "text/plain": "<Figure size 3000x3600 with 0 Axes>"
     },
     "metadata": {},
     "output_type": "display_data"
    }
   ],
   "source": [
    "scores = run_epochs(experiment_number=5,model_type=model5)\n",
    "print(scores)\n",
    "experiment_number=5"
   ],
   "metadata": {
    "collapsed": false,
    "ExecuteTime": {
     "end_time": "2023-11-07T06:25:48.161095Z",
     "start_time": "2023-11-07T06:22:44.793870Z"
    }
   },
   "id": "11cc15de703a16cc"
  },
  {
   "cell_type": "code",
   "execution_count": 96,
   "outputs": [],
   "source": [
    "with open(file_name,'a',newline='') as file_csv:\n",
    "    writer_ = csv.DictWriter(file_csv, fieldnames=header.split('\\t'),delimiter='\\t')\n",
    "    writer_.writerow({'No':experiment_number,'Model_Number':f'model{experiment_number}','Min_Loss':scores['min_loss'],'Accuracy':scores['accuracy']/100,'precision':scores['precision'],'recall':scores['recall'],'f1_score':scores['f1_score']})"
   ],
   "metadata": {
    "collapsed": false,
    "ExecuteTime": {
     "end_time": "2023-11-07T06:25:48.173586Z",
     "start_time": "2023-11-07T06:25:48.160207Z"
    }
   },
   "id": "175ba5f358d68a0"
  },
  {
   "cell_type": "code",
   "execution_count": 97,
   "outputs": [],
   "source": [
    "batch_size=32\n",
    "train_loader,test_loader=DataLoader(train,shuffle=True,batch_size=batch_size),DataLoader(test,shuffle=True,batch_size=batch_size)"
   ],
   "metadata": {
    "collapsed": false,
    "ExecuteTime": {
     "end_time": "2023-11-07T06:25:48.173742Z",
     "start_time": "2023-11-07T06:25:48.166259Z"
    }
   },
   "id": "70248dac8746592c"
  },
  {
   "cell_type": "code",
   "execution_count": 98,
   "outputs": [],
   "source": [
    "# Last model type -> without dropout, but replacing RELU with softmax + batch normalization\n",
    "class Model(nn.Module):\n",
    "    def __init__(self):\n",
    "        super(Model,self).__init__()\n",
    "        self.linear1 = nn.Linear(28*28, 100) \n",
    "        self.linear2 = nn.Linear(100, 50) \n",
    "        self.batch1=nn.BatchNorm1d(100)\n",
    "        self.batch2=nn.BatchNorm1d(50)\n",
    "        self.final = nn.Linear(50, 10) \n",
    "        self.relu = nn.ReLU()\n",
    "\n",
    "    def forward(self, img):\n",
    "        x = img.view(-1, 28*28)\n",
    "        x = self.relu(self.batch1(self.linear1(x)))\n",
    "        x = self.relu(self.batch2(self.linear2(x)))\n",
    "        x = self.final(x)\n",
    "        return x"
   ],
   "metadata": {
    "collapsed": false,
    "ExecuteTime": {
     "end_time": "2023-11-07T06:25:48.181313Z",
     "start_time": "2023-11-07T06:25:48.169982Z"
    }
   },
   "id": "6a678072f9767082"
  },
  {
   "cell_type": "code",
   "execution_count": 99,
   "outputs": [
    {
     "data": {
      "text/plain": "Model(\n  (linear1): Linear(in_features=784, out_features=100, bias=True)\n  (linear2): Linear(in_features=100, out_features=50, bias=True)\n  (batch1): BatchNorm1d(100, eps=1e-05, momentum=0.1, affine=True, track_running_stats=True)\n  (batch2): BatchNorm1d(50, eps=1e-05, momentum=0.1, affine=True, track_running_stats=True)\n  (final): Linear(in_features=50, out_features=10, bias=True)\n  (relu): ReLU()\n)"
     },
     "execution_count": 99,
     "metadata": {},
     "output_type": "execute_result"
    }
   ],
   "source": [
    "model6=Model()\n",
    "model6"
   ],
   "metadata": {
    "collapsed": false,
    "ExecuteTime": {
     "end_time": "2023-11-07T06:25:48.181621Z",
     "start_time": "2023-11-07T06:25:48.174688Z"
    }
   },
   "id": "8d10ea9a212aa2af"
  },
  {
   "cell_type": "raw",
   "source": [
    "Training with using batch normalization requires more epochs (to learn all dependencies for the model, data is splitted to batches) => we will train on approx 20 epochs"
   ],
   "metadata": {
    "collapsed": false
   },
   "id": "100de48ca96ec7a7"
  },
  {
   "cell_type": "code",
   "execution_count": 104,
   "outputs": [
    {
     "name": "stdout",
     "output_type": "stream",
     "text": [
      "Epoch number: 1\n",
      "\n",
      "Training..\n"
     ]
    },
    {
     "name": "stderr",
     "output_type": "stream",
     "text": [
      "100%|██████████| 1875/1875 [00:03<00:00, 606.12it/s]\n"
     ]
    },
    {
     "name": "stdout",
     "output_type": "stream",
     "text": [
      "Training_Loss: 6.129486428108066e-05 and Training_Accuracy: 96.153333 %\n",
      "Testing..\n",
      "Testing_Loss: 0.0007883570506237447 and Testing_Accuracy: 95.86 %\n",
      "\n",
      "--------------------------------------------------------------------------------\n",
      "\n",
      "Epoch number: 2\n",
      "\n",
      "Training..\n"
     ]
    },
    {
     "name": "stderr",
     "output_type": "stream",
     "text": [
      "100%|██████████| 1875/1875 [00:03<00:00, 617.50it/s]\n"
     ]
    },
    {
     "name": "stdout",
     "output_type": "stream",
     "text": [
      "Training_Loss: 3.4906308428617194e-05 and Training_Accuracy: 96.401667 %\n",
      "Testing..\n",
      "Testing_Loss: 0.0005826700944453478 and Testing_Accuracy: 95.76 %\n",
      "\n",
      "--------------------------------------------------------------------------------\n",
      "\n",
      "Epoch number: 3\n",
      "\n",
      "Training..\n"
     ]
    },
    {
     "name": "stderr",
     "output_type": "stream",
     "text": [
      "100%|██████████| 1875/1875 [00:03<00:00, 602.57it/s]\n"
     ]
    },
    {
     "name": "stdout",
     "output_type": "stream",
     "text": [
      "Training_Loss: 7.906888640718535e-05 and Training_Accuracy: 96.6 %\n",
      "Testing..\n",
      "Testing_Loss: 0.0011048768647015095 and Testing_Accuracy: 95.89999999999999 %\n",
      "\n",
      "--------------------------------------------------------------------------------\n",
      "\n",
      "Epoch number: 4\n",
      "\n",
      "Training..\n"
     ]
    },
    {
     "name": "stderr",
     "output_type": "stream",
     "text": [
      "100%|██████████| 1875/1875 [00:03<00:00, 597.52it/s]\n"
     ]
    },
    {
     "name": "stdout",
     "output_type": "stream",
     "text": [
      "Training_Loss: 6.557497545145452e-05 and Training_Accuracy: 96.581667 %\n",
      "Testing..\n",
      "Testing_Loss: 0.000794451916590333 and Testing_Accuracy: 95.89999999999999 %\n",
      "\n",
      "--------------------------------------------------------------------------------\n",
      "\n",
      "Epoch number: 5\n",
      "\n",
      "Training..\n"
     ]
    },
    {
     "name": "stderr",
     "output_type": "stream",
     "text": [
      "100%|██████████| 1875/1875 [00:03<00:00, 619.80it/s]\n"
     ]
    },
    {
     "name": "stdout",
     "output_type": "stream",
     "text": [
      "Training_Loss: 5.092132050776854e-05 and Training_Accuracy: 96.88 %\n",
      "Testing..\n",
      "Testing_Loss: 0.00010664886212907732 and Testing_Accuracy: 96.19 %\n",
      "\n",
      "--------------------------------------------------------------------------------\n",
      "{'precision': 0.9617642876228979, 'recall': 0.9615108513483619, 'f1_score': 0.9616215158626245, 'accuracy': 96.19, 'min_loss': 0.00010664886212907732}\n"
     ]
    },
    {
     "data": {
      "text/plain": "<Figure size 3000x3600 with 0 Axes>"
     },
     "metadata": {},
     "output_type": "display_data"
    }
   ],
   "source": [
    "# I will illustrate only 5 epochs to not make the file infinitely long\n",
    "scores = run_epochs(experiment_number=6,model_type=model6,epochs=5,batch_size=batch_size)\n",
    "print(scores)\n",
    "experiment_number=6"
   ],
   "metadata": {
    "collapsed": false,
    "ExecuteTime": {
     "end_time": "2023-11-07T06:31:07.685497Z",
     "start_time": "2023-11-07T06:30:50.318692Z"
    }
   },
   "id": "130f9448b2d610fc"
  },
  {
   "cell_type": "code",
   "execution_count": 105,
   "outputs": [],
   "source": [
    "with open('table.csv','a',newline='') as file_csv:\n",
    "    writer_ = csv.DictWriter(file_csv, fieldnames=header.split('\\t'),delimiter='\\t')\n",
    "    writer_.writerow({'No':experiment_number,'Model_Number':f'model{experiment_number}','Min_Loss':scores['min_loss'],'Accuracy':scores['accuracy']/100,'precision':scores['precision'],'recall':scores['recall'],'f1_score':scores['f1_score']})"
   ],
   "metadata": {
    "collapsed": false,
    "ExecuteTime": {
     "end_time": "2023-11-07T06:31:37.897434Z",
     "start_time": "2023-11-07T06:31:37.885432Z"
    }
   },
   "id": "84f1a55c3801b571"
  },
  {
   "cell_type": "code",
   "execution_count": null,
   "outputs": [],
   "source": [
    "# In my model, training comes first, followed by testing. The accuracy on the testing data almost always surpasses the accuracy on the training data.\n",
    "# After training and testing each model (when the epochs are finished), graphs for accuracy, loss, and the confusion matrix will be automatically saved in the project folder.\n",
    "# Next, a table with metrics and conclusions for each model will be presented."
   ],
   "metadata": {
    "collapsed": false
   },
   "id": "c41d7109e887bc1d"
  },
  {
   "cell_type": "code",
   "execution_count": null,
   "outputs": [],
   "source": [
    "# No\tModel_Number\tMin_Loss\tAccuracy\tprecision\trecall\tf1_score\n",
    "# 1\tmodel1\t5.6489241728741035e-08\t0.9673\t0.967087827288152\t0.9670487224337141\t0.967052181964695\n",
    "# 2\tmodel2\t3.218645627800498e-10\t0.9708\t0.9705278637372375\t0.970528261156689\t0.9704800236323141\n",
    "# 3\tmodel3\t1.6212332587528522e-09\t0.9724\t0.9725575912144265\t0.9719738884283435\t0.9721241875375203\n",
    "# 4\tmodel4\t1.872602517494215e-08\t0.97\t0.9686301623656975\t0.9687551820024283\t0.9686234817557434\n",
    "# 5\tmodel5\t0.00022058634203858674\t0.1135\t0.01135\t            0.1\t                0.0203861697350696\n",
    "# 6\tmodel6\t0.00010664886212907732\t0.9619\t0.9617642876228979\t0.9615108513483619\t0.9616215158626245\n"
   ],
   "metadata": {
    "collapsed": false
   },
   "id": "969002b07f889fcc"
  },
  {
   "cell_type": "code",
   "execution_count": null,
   "outputs": [],
   "source": [
    "# Model 1:\n",
    "# This model consists of only one linear layer with a ReLU activation function. It showed relatively good accuracy results. Since the dataset contains 28x28 images with a small number of color features, even a relatively simple model like this can perform well in classification.\n",
    "# \n",
    "# Model 2:\n",
    "# To Model 1, an additional hidden layer was added. This action helped to reduce the minimum loss, and all accuracy metrics improved, resulting in an overall better model performance. This is because the model became capable of capturing more complex patterns. After the first training epoch, the validation accuracy was higher by 1%, and the accuracy and loss graphs became significantly smoother, especially the loss graph. Moreover, according to the confusion matrix, the model, on average, identifies each class 1-2% better.\n",
    "# \n",
    "# Model 3:\n",
    "# To Model 2, more neurons were added to the hidden layers along with an additional new layer. This improved the model's generalization, and all metrics increased by tenths of a percent, despite an increase in loss. In the confusion matrix, the minimum class value became 0.96, indicating that the model recognizes each class equally well.\n",
    "# \n",
    "# Model 4:\n",
    "# This model incorporates the dropout technique, where neurons are randomly deactivated with a certain probability. This technique helps combat overfitting on the training dataset. My model with dropout showed results almost on par with the others. This is because the test and training images are similar and come from the same dataset, so the input data is not highly varied.\n",
    "# \n",
    "# Model 5:\n",
    "# In this model, I used the architecture of Model 3 but replaced ReLU with Softmax. This had a negative impact on the results, and regardless of the number of epochs, the model's accuracy did not exceed 12%. It is likely that the model with this activation function stopped capturing patterns, and the change in the activation function \"broke\" the learning process. Therefore, I no longer used Softmax in this task.\n",
    "# \n",
    "# Model 6:\n",
    "# In the final model, I divided the input data into batches of size 32, loading them into the model one by one. This technique significantly increased the training speed but required 5-10 more epochs to achieve decent results. The loss and accuracy graphs fluctuated significantly, as is usual with batch data splitting.\n",
    "# \n",
    "# Final Conclusion:\n",
    "# In this work, I experimented with various techniques for multi-class classification using PyTorch. The evaluation metrics for each model are saved in separate folders, and all data is added to a common table. This process is fully automated. The best model was found to be the one with two hidden layers, without dropout and batch normalization.\n",
    "# \n",
    "# Best Model:\n",
    "# Model(\n",
    "#   (linear1): Linear(in_features=784, out_features=100, bias=True)\n",
    "#   (linear2): Linear(in_features=100, out_features=50, bias=True)\n",
    "#   (final): Linear(in_features=50, out_features=10, bias=True)\n",
    "#   (relu): ReLU()\n",
    "# )"
   ],
   "metadata": {
    "collapsed": false
   },
   "id": "85836752d4f9b038"
  }
 ],
 "metadata": {
  "kernelspec": {
   "display_name": "Python 3",
   "language": "python",
   "name": "python3"
  },
  "language_info": {
   "codemirror_mode": {
    "name": "ipython",
    "version": 2
   },
   "file_extension": ".py",
   "mimetype": "text/x-python",
   "name": "python",
   "nbconvert_exporter": "python",
   "pygments_lexer": "ipython2",
   "version": "2.7.6"
  }
 },
 "nbformat": 4,
 "nbformat_minor": 5
}
