{
 "cells": [
  {
   "cell_type": "code",
   "execution_count": 3,
   "id": "initial_id",
   "metadata": {
    "collapsed": true,
    "ExecuteTime": {
     "end_time": "2023-11-24T17:25:42.602281Z",
     "start_time": "2023-11-24T17:25:36.306955Z"
    }
   },
   "outputs": [
    {
     "name": "stderr",
     "output_type": "stream",
     "text": [
      "/Users/boris/PycharmProjects/Programming/Yandex_liceum/lib/python3.9/site-packages/urllib3/__init__.py:34: NotOpenSSLWarning: urllib3 v2.0 only supports OpenSSL 1.1.1+, currently the 'ssl' module is compiled with 'LibreSSL 2.8.3'. See: https://github.com/urllib3/urllib3/issues/3020\n",
      "  warnings.warn(\n"
     ]
    }
   ],
   "source": [
    "import os\n",
    "\n",
    "import torch\n",
    "import torch.nn as nn\n",
    "from torch import optim\n",
    "import tensorflow as tf\n",
    "from tqdm import tqdm\n",
    "from torch.utils.data import TensorDataset, DataLoader\n",
    "import torch\n",
    "from torchvision import transforms\n",
    "from torchvision import datasets\n",
    "from tensorflow import keras\n",
    "import numpy as np\n",
    "from sklearn.metrics import confusion_matrix, ConfusionMatrixDisplay\n",
    "from matplotlib import pyplot as plt\n",
    "from sklearn.metrics import precision_score, recall_score,f1_score\n",
    "import csv"
   ]
  },
  {
   "cell_type": "code",
   "execution_count": 71,
   "outputs": [],
   "source": [
    "# function below is a manual implementation of a one hot encoding\n",
    "def onehot_encoding(x, column_name=None):\n",
    "    classes_set = sorted(list(set(x)))\n",
    "    classes_dict = dict()\n",
    "    classes = 0\n",
    "    for i in classes_set:\n",
    "        if i not in classes_dict.keys():\n",
    "            classes_dict[i] = classes\n",
    "            classes += 1\n",
    "    one_hot = np.zeros(shape=(len(x), classes))\n",
    "    for i in range(len(x)):\n",
    "        one_hot[i][classes_dict[x[i]]] = 1\n",
    "    one_hot_column_names = np.array(one_hot.astype('float'))\n",
    "    # encoded categorical features\n",
    "    return one_hot_column_names\n",
    "# image normalization\n",
    "def normalize_images(imgs):\n",
    "    return imgs/255."
   ],
   "metadata": {
    "collapsed": false,
    "ExecuteTime": {
     "end_time": "2023-11-24T18:09:51.484224Z",
     "start_time": "2023-11-24T18:09:51.478110Z"
    }
   },
   "id": "3723c15f0e11cd65"
  },
  {
   "cell_type": "code",
   "execution_count": 72,
   "outputs": [],
   "source": [
    "class Dataset:\n",
    "    def __init__(self,train_or_test):\n",
    "        data=datasets.MNIST(root='mnist', download=True,train=train_or_test)\n",
    "        self.x,self.y=data.data,np.array(data.targets)\n",
    "        self.x=normalize_images(self.x)\n",
    "        # self.y=onehot_encoding(self.y)\n",
    "    def __len__(self):\n",
    "        return self.x.shape[0]\n",
    "    def __getitem__(self, item):\n",
    "        return self.x[item],self.y[item]"
   ],
   "metadata": {
    "collapsed": false,
    "ExecuteTime": {
     "end_time": "2023-11-24T18:09:51.648814Z",
     "start_time": "2023-11-24T18:09:51.643640Z"
    }
   },
   "id": "c7d1bdd698628933"
  },
  {
   "cell_type": "raw",
   "source": [
    "Create a PYTORCH dataset with one-hot encoding + normalization\n",
    "(Dataset's labels are already provedided in the appropriate form.)"
   ],
   "metadata": {
    "collapsed": false
   },
   "id": "90df1fe079dbcc5d"
  },
  {
   "cell_type": "code",
   "execution_count": 73,
   "outputs": [
    {
     "data": {
      "text/plain": "array([7, 2, 1, ..., 4, 5, 6])"
     },
     "execution_count": 73,
     "metadata": {},
     "output_type": "execute_result"
    }
   ],
   "source": [
    "# loading dataset\n",
    "train=Dataset(train_or_test=True)\n",
    "test=Dataset(train_or_test=False)\n",
    "# answers\n",
    "test.y"
   ],
   "metadata": {
    "collapsed": false,
    "ExecuteTime": {
     "end_time": "2023-11-24T18:09:52.014180Z",
     "start_time": "2023-11-24T18:09:51.922967Z"
    }
   },
   "id": "5e87e4d3cfc508f2"
  },
  {
   "cell_type": "code",
   "execution_count": 74,
   "outputs": [],
   "source": [
    "# take a view on our dataset\n",
    "def show_dataset(dataset_,dataset_labels_):\n",
    "    # to show labels in convenient format\n",
    "    figure = plt.figure(figsize=(6, 6))\n",
    "    cols, rows = 3, 3\n",
    "    for i in range(1, cols * rows + 1):\n",
    "        # to pick random images\n",
    "        sample_idx = tf.random.uniform(shape=(1,), minval=0, maxval=len(dataset_), dtype=tf.int64).numpy()[0]\n",
    "        # retrieve image name and it's labels\n",
    "        img, label = dataset_[sample_idx],dataset_labels_[sample_idx]\n",
    "        figure.add_subplot(rows, cols, i)\n",
    "        plt.title(label)\n",
    "        plt.axis(\"off\")\n",
    "        plt.imshow(img.squeeze(), cmap=\"gray\")\n",
    "    plt.show()"
   ],
   "metadata": {
    "collapsed": false,
    "ExecuteTime": {
     "end_time": "2023-11-24T18:09:52.146495Z",
     "start_time": "2023-11-24T18:09:52.101551Z"
    }
   },
   "id": "fd6edab4b681a709"
  },
  {
   "cell_type": "code",
   "execution_count": 75,
   "outputs": [
    {
     "data": {
      "text/plain": "<Figure size 600x600 with 9 Axes>",
      "image/png": "[encoded data removed]"
     },
     "metadata": {},
     "output_type": "display_data"
    }
   ],
   "source": [
    "# take a view on dataset\n",
    "show_dataset(train.x,train.y)"
   ],
   "metadata": {
    "collapsed": false,
    "ExecuteTime": {
     "end_time": "2023-11-24T18:09:55.091062Z",
     "start_time": "2023-11-24T18:09:54.899571Z"
    }
   },
   "id": "6ca55bb46f9e87b2"
  },
  {
   "cell_type": "code",
   "execution_count": 76,
   "outputs": [],
   "source": [
    "# batch_size=64\n",
    "train_loader,test_loader=DataLoader(train,shuffle=True),DataLoader(test,shuffle=True)"
   ],
   "metadata": {
    "collapsed": false,
    "ExecuteTime": {
     "end_time": "2023-11-24T18:09:57.893429Z",
     "start_time": "2023-11-24T18:09:57.865912Z"
    }
   },
   "id": "c2ded41608acda0f"
  },
  {
   "cell_type": "code",
   "execution_count": 77,
   "outputs": [],
   "source": [
    "loss_type=nn.CrossEntropyLoss()"
   ],
   "metadata": {
    "collapsed": false,
    "ExecuteTime": {
     "end_time": "2023-11-24T18:09:59.452700Z",
     "start_time": "2023-11-24T18:09:59.439471Z"
    }
   },
   "id": "ab7aeb6c333c24cf"
  },
  {
   "cell_type": "raw",
   "source": [
    "We have confusion matrix, where it is easy to identify true_positives, false_positives, true negatives.\n",
    "True Positives_A: The number of samples correctly classified as class A.\n",
    "False Positives_A: The number of samples that are not of class A but are incorrectly classified as class A.(numbers in rows)\n",
    "False Negatives_A: The number of samples of class A that are incorrectly classified as not being of class A.(numbers in columns)\n",
    "\n",
    "True_positives              False_positives\n",
    "\n",
    "False negatives             True negatives"
   ],
   "metadata": {
    "collapsed": false
   },
   "id": "6e78c6a7622f9b4d"
  },
  {
   "cell_type": "code",
   "execution_count": 11,
   "outputs": [],
   "source": [
    "def compute_precision_recall(matrix_):\n",
    "    y_true,y_pred=[i[0] for i in matrix_],[i[1] for i in matrix_]\n",
    "    # average = 'macro' => matrics are calculated across all classes for entire classification task\n",
    "    precision=precision_score(y_true=y_true,y_pred=y_pred,average='macro')\n",
    "    recall=recall_score(y_true=y_true,y_pred=y_pred,average='macro')\n",
    "    f1_score_=f1_score(y_true=y_true,y_pred=y_pred,average='macro')\n",
    "    return precision,recall,f1_score_"
   ],
   "metadata": {
    "collapsed": false,
    "ExecuteTime": {
     "end_time": "2023-11-24T17:25:43.014038Z",
     "start_time": "2023-11-24T17:25:42.992621Z"
    }
   },
   "id": "b0832032121b0169"
  },
  {
   "cell_type": "code",
   "execution_count": 12,
   "outputs": [],
   "source": [
    "# drawing Confusion matrix for statistical analysis\n",
    "def final_matrix(matrix,experiment,leng):\n",
    "    my_matrix=torch.zeros(leng,leng,dtype=torch.int32).tolist()\n",
    "    # fill the confusion matrix with values\n",
    "    for i in matrix:\n",
    "        my_matrix[i[0]][i[1]]+=1\n",
    "    my_matrix=np.array(my_matrix)\n",
    "    my_matrix=(my_matrix.T/my_matrix.sum(axis=1)).T\n",
    "    my_matrix=np.round(my_matrix, 3)\n",
    "    plt.figure(figsize=(30,36))\n",
    "    # display matrix in blue colors\n",
    "    disp = ConfusionMatrixDisplay(confusion_matrix=my_matrix, display_labels=range(10))\n",
    "    disp.plot(cmap='Blues')\n",
    "    # save to a folder\n",
    "    plt.savefig(f'./Model_scores{experiment}/Confusion_matrix.jpg')\n",
    "    plt.close()"
   ],
   "metadata": {
    "collapsed": false,
    "ExecuteTime": {
     "end_time": "2023-11-24T17:25:43.043113Z",
     "start_time": "2023-11-24T17:25:43.017864Z"
    }
   },
   "id": "d1fe9a965fa956ee"
  },
  {
   "cell_type": "code",
   "execution_count": 13,
   "outputs": [],
   "source": [
    "def draw_plots(experiment,train_accuracy, test_accuracy, train_loss_, test_loss_):\n",
    "    # To draw plots of accuracy and loss of train and test datasets\n",
    "    plt.figure(figsize=(10, 7))\n",
    "    plt.plot(train_accuracy, color='blue', linestyle='--',\n",
    "             label='train accuracy')\n",
    "    plt.plot(test_accuracy, color='red', linestyle='--',\n",
    "             label='test accuracy')\n",
    "    plt.ylabel = 'Accuracy'\n",
    "    plt.xlabel = 'Epochs' \n",
    "    plt.legend()\n",
    "    plt.savefig(f'./Model_scores{experiment}/accuracy.jpg')\n",
    "    plt.close() \n",
    "    # Loss plot\n",
    "    plt.figure(figsize=(10, 7))\n",
    "    plt.plot(np.array(train_loss_), color='blue', linestyle='--',\n",
    "             label='train loss')\n",
    "    plt.plot(np.array(test_loss_), color='red', linestyle='--',\n",
    "             label='test loss')\n",
    "    plt.ylabel = 'Loss'     \n",
    "    plt.xlabel = 'Epochs'   \n",
    "    plt.legend()\n",
    "    plt.savefig(f'./Model_scores{experiment}/loss.jpg')\n",
    "    plt.close()    "
   ],
   "metadata": {
    "collapsed": false,
    "ExecuteTime": {
     "end_time": "2023-11-24T17:25:43.061926Z",
     "start_time": "2023-11-24T17:25:43.029511Z"
    }
   },
   "id": "3f722f1e482f969c"
  },
  {
   "cell_type": "code",
   "execution_count": 14,
   "outputs": [],
   "source": [
    "def training_process(loader,my_model,optimize,loss,batch_size=1,):\n",
    "    # turn on the training mode\n",
    "    my_model.train()\n",
    "    running_correct,epoch_loss=0,0\n",
    "    epoch_accuracy=0\n",
    "    for i, (images,labels) in tqdm(enumerate(loader), total=len(loader)):\n",
    "            # gradients are reset to zero \n",
    "            optimize.zero_grad()\n",
    "            outputs=my_model(images.view(-1,784))\n",
    "            _,predictions=torch.max(outputs.data,1)\n",
    "            loss_val=loss(outputs,labels)\n",
    "            # backward pass \n",
    "            loss_val.backward()\n",
    "            optimize.step()\n",
    "            epoch_loss=loss_val/len(loader)\n",
    "            running_correct+=(labels==predictions).sum().item()\n",
    "            epoch_accuracy=100.*(running_correct/len(loader))\n",
    "    return epoch_loss,round(epoch_accuracy/batch_size,6)"
   ],
   "metadata": {
    "collapsed": false,
    "ExecuteTime": {
     "end_time": "2023-11-24T17:25:43.063594Z",
     "start_time": "2023-11-24T17:25:43.041869Z"
    }
   },
   "id": "ff6a85637bb19b5e"
  },
  {
   "cell_type": "code",
   "execution_count": 15,
   "outputs": [],
   "source": [
    "def evaluating_perfomance(loader_test,my_model,loss,last_epoch=False):\n",
    "        with torch.no_grad():\n",
    "            # variables to draw confusion matrix\n",
    "            Confusion_list=[]\n",
    "            running_correct,epoch_loss=0,0\n",
    "            total=0\n",
    "        #no updating loss\n",
    "            for images,labels in loader_test:\n",
    "                # flatten image to use it in the model\n",
    "                outputs=my_model(images.view(-1,784))\n",
    "                # compute loss on test dataset\n",
    "                loss_val=loss(outputs,labels)\n",
    "                # compute the loss and divide by the size of test dataset (10000)\n",
    "                epoch_loss=loss_val/len(loader_test)\n",
    "                for index,i in enumerate(outputs):\n",
    "                    # torch.argmax(i) -> from the array of predictions extract the biggest one \n",
    "                    if torch.argmax(i)==labels[index]:\n",
    "                        running_correct+=1\n",
    "                    total+=1\n",
    "                _,predicted_labels=torch.max(outputs.data,1)\n",
    "                # after last epoch prepare data for Confusion matrix and graphs\n",
    "                if last_epoch:\n",
    "                    predicted_data=list(zip(labels.tolist(),predicted_labels.tolist()))\n",
    "                    Confusion_list.extend(predicted_data)\n",
    "            # if it is the last epoch --> return the list for confusion matrix\n",
    "            if not last_epoch:\n",
    "                return epoch_loss,100.*round(running_correct/total,6),[]\n",
    "            else:\n",
    "                return epoch_loss,100.*round(running_correct/total,6),Confusion_list"
   ],
   "metadata": {
    "collapsed": false,
    "ExecuteTime": {
     "end_time": "2023-11-24T17:25:43.063716Z",
     "start_time": "2023-11-24T17:25:43.053486Z"
    }
   },
   "id": "ac767a9b675f6166"
  },
  {
   "cell_type": "code",
   "execution_count": 16,
   "outputs": [],
   "source": [
    "def make_directory(experiment):\n",
    "    if f'Model_scores{experiment}' not in os.listdir('./'):\n",
    "        os.mkdir(f\"./Model_scores{experiment}\")"
   ],
   "metadata": {
    "collapsed": false,
    "ExecuteTime": {
     "end_time": "2023-11-24T17:25:43.065777Z",
     "start_time": "2023-11-24T17:25:43.060944Z"
    }
   },
   "id": "f5bbfc3200fc4894"
  },
  {
   "cell_type": "code",
   "execution_count": 17,
   "outputs": [],
   "source": [
    "def run_epochs(learning_rate=0.001,epochs=10,experiment_number=None,model_type=None,batch_size=1):\n",
    "    optimizer=optim.SGD(model_type.parameters(),lr=learning_rate)\n",
    "    criterion=nn.CrossEntropyLoss()\n",
    "    # to track loss and accuracy after each epoch\n",
    "    train_loss,testing_loss=[],[]\n",
    "    train_acc,testing_acc=[],[]\n",
    "    last_epoch=False\n",
    "    for epoch in range(1,epochs+1):\n",
    "            if epoch==epochs:\n",
    "                last_epoch=True\n",
    "            print(f\"Epoch number: {epoch}\")\n",
    "            print()\n",
    "            print('Training..')\n",
    "            loss_,accuracy=training_process(loader=train_loader,my_model=model_type,optimize=optimizer,loss=criterion,batch_size=batch_size)\n",
    "            train_loss.append(loss_)\n",
    "            train_acc.append(accuracy)\n",
    "            print(f'Training_Loss: {loss_} and Training_Accuracy: {accuracy} %')\n",
    "            print('Testing..')\n",
    "            loss_test,accuracy_test,confusion__matrix=evaluating_perfomance(loader_test=test_loader,my_model=model_type,loss=criterion,last_epoch=last_epoch)\n",
    "            testing_loss.append(loss_test)\n",
    "            testing_acc.append(accuracy_test)\n",
    "            print(f'Testing_Loss: {loss_test} and Testing_Accuracy: {accuracy_test} %')\n",
    "            print()\n",
    "            print('-'*80)\n",
    "            print()\n",
    "    make_directory(experiment_number)\n",
    "    # function that creates confusion matrix and saves it in a distinct folder\n",
    "    final_matrix(confusion__matrix,experiment_number,leng=10)\n",
    "    train_loss,testing_loss=[float(i) for i in train_loss],[float(i) for i in testing_loss]\n",
    "    # draw plots of accuracy and loss\n",
    "    draw_plots(experiment_number,train_accuracy=train_acc,train_loss_=np.array(train_loss),test_loss_=np.array(testing_loss),test_accuracy=testing_acc)\n",
    "    # call function to compute precision and recall, f1 score\n",
    "    precision,recall,f1_score_=compute_precision_recall(confusion__matrix)\n",
    "    return {'precision':precision,'recall':recall,'f1_score':f1_score_,'accuracy':testing_acc[-1],'min_loss':min(testing_loss)}"
   ],
   "metadata": {
    "collapsed": false,
    "ExecuteTime": {
     "end_time": "2023-11-24T17:25:43.085356Z",
     "start_time": "2023-11-24T17:25:43.068497Z"
    }
   },
   "id": "c84a6c15afdaf0eb"
  },
  {
   "cell_type": "raw",
   "source": [
    "Now i wil conduct couple experiments changing model's architecture. Each experiment will have distinct folder where all graphs and confusion matrix will be displayed. After each experiment i will give short summary and print accuracy and other scores."
   ],
   "metadata": {
    "collapsed": false
   },
   "id": "f7912cbf756cd6f4"
  },
  {
   "cell_type": "code",
   "execution_count": 18,
   "outputs": [],
   "source": [
    "# prepare csv file\n",
    "file_name = \"table.csv\"\n",
    "header = 'No\\tModel_Number\\tMin_Loss\\tAccuracy\\tprecision\\trecall\\tf1_score'\n",
    "with open(file_name, 'w', newline='') as file_csv:\n",
    "    file_csv.write(header + '\\n')"
   ],
   "metadata": {
    "collapsed": false,
    "ExecuteTime": {
     "end_time": "2023-11-24T17:25:47.398901Z",
     "start_time": "2023-11-24T17:25:47.381921Z"
    }
   },
   "id": "e00afc19027a5d3a"
  },
  {
   "cell_type": "code",
   "execution_count": 19,
   "outputs": [],
   "source": [
    "class Model(nn.Module):\n",
    "    def __init__(self):\n",
    "        super(Model,self).__init__()\n",
    "        self.linear1 = nn.Linear(28*28, 50) \n",
    "        self.final = nn.Linear(50, 10)\n",
    "        self.relu = nn.ReLU()\n",
    "\n",
    "    def forward(self, img): #convert + flatten\n",
    "        x = img.view(-1, 28*28)\n",
    "        x = self.relu(self.linear1(x))\n",
    "        x = self.final(x)\n",
    "        return x"
   ],
   "metadata": {
    "collapsed": false,
    "ExecuteTime": {
     "end_time": "2023-11-24T17:25:48.188233Z",
     "start_time": "2023-11-24T17:25:48.181645Z"
    }
   },
   "id": "6c0cb9e00c7b7598"
  },
  {
   "cell_type": "code",
   "execution_count": 22,
   "outputs": [
    {
     "data": {
      "text/plain": "Model(\n  (linear1): Linear(in_features=784, out_features=50, bias=True)\n  (final): Linear(in_features=50, out_features=10, bias=True)\n  (relu): ReLU()\n)"
     },
     "execution_count": 22,
     "metadata": {},
     "output_type": "execute_result"
    }
   ],
   "source": [
    "model1=Model()\n",
    "model1"
   ],
   "metadata": {
    "collapsed": false,
    "ExecuteTime": {
     "end_time": "2023-11-24T17:28:14.953175Z",
     "start_time": "2023-11-24T17:28:14.948577Z"
    }
   },
   "id": "2b26adc5a20b9c76"
  },
  {
   "cell_type": "code",
   "execution_count": 23,
   "outputs": [
    {
     "name": "stdout",
     "output_type": "stream",
     "text": [
      "Epoch number: 1\n",
      "\n",
      "Training..\n"
     ]
    },
    {
     "name": "stderr",
     "output_type": "stream",
     "text": [
      "100%|██████████| 60000/60000 [00:13<00:00, 4386.53it/s]\n"
     ]
    },
    {
     "name": "stdout",
     "output_type": "stream",
     "text": [
      "Training_Loss: 2.636444150994066e-06 and Training_Accuracy: 86.085 %\n",
      "Testing..\n",
      "Testing_Loss: 3.421467226871755e-06 and Testing_Accuracy: 91.74 %\n",
      "\n",
      "--------------------------------------------------------------------------------\n",
      "\n",
      "Epoch number: 2\n",
      "\n",
      "Training..\n"
     ]
    },
    {
     "name": "stderr",
     "output_type": "stream",
     "text": [
      "100%|██████████| 60000/60000 [00:13<00:00, 4382.76it/s]\n"
     ]
    },
    {
     "name": "stdout",
     "output_type": "stream",
     "text": [
      "Training_Loss: 1.6335202701611706e-07 and Training_Accuracy: 92.088333 %\n",
      "Testing..\n",
      "Testing_Loss: 2.0002851670142263e-05 and Testing_Accuracy: 93.17999999999999 %\n",
      "\n",
      "--------------------------------------------------------------------------------\n",
      "\n",
      "Epoch number: 3\n",
      "\n",
      "Training..\n"
     ]
    },
    {
     "name": "stderr",
     "output_type": "stream",
     "text": [
      "100%|██████████| 60000/60000 [00:13<00:00, 4437.40it/s]\n"
     ]
    },
    {
     "name": "stdout",
     "output_type": "stream",
     "text": [
      "Training_Loss: 1.5185289612418273e-06 and Training_Accuracy: 93.473333 %\n",
      "Testing..\n",
      "Testing_Loss: 2.764368900898262e-06 and Testing_Accuracy: 94.12 %\n",
      "\n",
      "--------------------------------------------------------------------------------\n",
      "\n",
      "Epoch number: 4\n",
      "\n",
      "Training..\n"
     ]
    },
    {
     "name": "stderr",
     "output_type": "stream",
     "text": [
      "100%|██████████| 60000/60000 [00:13<00:00, 4411.27it/s]\n"
     ]
    },
    {
     "name": "stdout",
     "output_type": "stream",
     "text": [
      "Training_Loss: 2.954141598010551e-09 and Training_Accuracy: 94.556667 %\n",
      "Testing..\n",
      "Testing_Loss: 5.9060526837129146e-05 and Testing_Accuracy: 94.66 %\n",
      "\n",
      "--------------------------------------------------------------------------------\n",
      "\n",
      "Epoch number: 5\n",
      "\n",
      "Training..\n"
     ]
    },
    {
     "name": "stderr",
     "output_type": "stream",
     "text": [
      "100%|██████████| 60000/60000 [00:13<00:00, 4312.44it/s]\n"
     ]
    },
    {
     "name": "stdout",
     "output_type": "stream",
     "text": [
      "Training_Loss: 1.0536756356316346e-08 and Training_Accuracy: 95.24 %\n",
      "Testing..\n",
      "Testing_Loss: 4.1874449379974976e-05 and Testing_Accuracy: 95.38 %\n",
      "\n",
      "--------------------------------------------------------------------------------\n",
      "\n",
      "Epoch number: 6\n",
      "\n",
      "Training..\n"
     ]
    },
    {
     "name": "stderr",
     "output_type": "stream",
     "text": [
      "100%|██████████| 60000/60000 [00:13<00:00, 4356.90it/s]\n"
     ]
    },
    {
     "name": "stdout",
     "output_type": "stream",
     "text": [
      "Training_Loss: 4.1185550969657925e-08 and Training_Accuracy: 95.745 %\n",
      "Testing..\n",
      "Testing_Loss: 2.0931496180764952e-07 and Testing_Accuracy: 95.71 %\n",
      "\n",
      "--------------------------------------------------------------------------------\n",
      "\n",
      "Epoch number: 7\n",
      "\n",
      "Training..\n"
     ]
    },
    {
     "name": "stderr",
     "output_type": "stream",
     "text": [
      "100%|██████████| 60000/60000 [00:13<00:00, 4389.95it/s]\n"
     ]
    },
    {
     "name": "stdout",
     "output_type": "stream",
     "text": [
      "Training_Loss: 3.497148099995684e-06 and Training_Accuracy: 96.193333 %\n",
      "Testing..\n",
      "Testing_Loss: 2.6782904569699895e-06 and Testing_Accuracy: 96.2 %\n",
      "\n",
      "--------------------------------------------------------------------------------\n",
      "\n",
      "Epoch number: 8\n",
      "\n",
      "Training..\n"
     ]
    },
    {
     "name": "stderr",
     "output_type": "stream",
     "text": [
      "100%|██████████| 60000/60000 [00:13<00:00, 4406.53it/s]\n"
     ]
    },
    {
     "name": "stdout",
     "output_type": "stream",
     "text": [
      "Training_Loss: 3.5293075484332803e-07 and Training_Accuracy: 96.521667 %\n",
      "Testing..\n",
      "Testing_Loss: 6.480985348389368e-07 and Testing_Accuracy: 96.21 %\n",
      "\n",
      "--------------------------------------------------------------------------------\n",
      "\n",
      "Epoch number: 9\n",
      "\n",
      "Training..\n"
     ]
    },
    {
     "name": "stderr",
     "output_type": "stream",
     "text": [
      "100%|██████████| 60000/60000 [00:13<00:00, 4394.07it/s]\n"
     ]
    },
    {
     "name": "stdout",
     "output_type": "stream",
     "text": [
      "Training_Loss: 7.006880332482979e-05 and Training_Accuracy: 96.776667 %\n",
      "Testing..\n",
      "Testing_Loss: 1.2965138296294754e-07 and Testing_Accuracy: 96.45 %\n",
      "\n",
      "--------------------------------------------------------------------------------\n",
      "\n",
      "Epoch number: 10\n",
      "\n",
      "Training..\n"
     ]
    },
    {
     "name": "stderr",
     "output_type": "stream",
     "text": [
      "100%|██████████| 60000/60000 [00:13<00:00, 4371.52it/s]\n"
     ]
    },
    {
     "name": "stdout",
     "output_type": "stream",
     "text": [
      "Training_Loss: 1.3074716775918205e-07 and Training_Accuracy: 96.905 %\n",
      "Testing..\n",
      "Testing_Loss: 3.45170541038442e-08 and Testing_Accuracy: 96.37 %\n",
      "\n",
      "--------------------------------------------------------------------------------\n",
      "{'precision': 0.9637137909648162, 'recall': 0.9633197330957746, 'f1_score': 0.9634205120339129, 'accuracy': 96.37, 'min_loss': 3.45170541038442e-08}\n"
     ]
    },
    {
     "data": {
      "text/plain": "<Figure size 3000x3600 with 0 Axes>"
     },
     "metadata": {},
     "output_type": "display_data"
    }
   ],
   "source": [
    "scores = run_epochs(experiment_number=1,model_type=model1)\n",
    "print(scores)\n",
    "experiment_number=1"
   ],
   "metadata": {
    "collapsed": false,
    "ExecuteTime": {
     "end_time": "2023-11-24T17:30:39.747120Z",
     "start_time": "2023-11-24T17:28:14.953725Z"
    }
   },
   "id": "69078885067d3263"
  },
  {
   "cell_type": "code",
   "execution_count": 24,
   "outputs": [],
   "source": [
    "with open(file_name,'a',newline='') as file_csv:\n",
    "    writer_ = csv.DictWriter(file_csv, fieldnames=header.split('\\t'),delimiter='\\t')\n",
    "    writer_.writerow({'No':experiment_number,'Model_Number':f'model{experiment_number}','Min_Loss':scores['min_loss'],'Accuracy':scores['accuracy']/100,'precision':scores['precision'],'recall':scores['recall'],'f1_score':scores['f1_score']})"
   ],
   "metadata": {
    "collapsed": false,
    "ExecuteTime": {
     "end_time": "2023-11-24T17:30:39.753965Z",
     "start_time": "2023-11-24T17:30:39.750784Z"
    }
   },
   "id": "6afb94be022e356c"
  },
  {
   "cell_type": "code",
   "execution_count": 25,
   "outputs": [],
   "source": [
    "# try to add one more hidden layer\n",
    "class Model(nn.Module):\n",
    "    def __init__(self):\n",
    "        super(Model,self).__init__()\n",
    "        self.linear1 = nn.Linear(28*28, 50) \n",
    "        self.linear2 = nn.Linear(50, 30) \n",
    "        self.final = nn.Linear(30, 10)\n",
    "        self.relu = nn.ReLU()\n",
    "\n",
    "    def forward(self, img): #convert + flatten\n",
    "        x = img.view(-1, 28*28)\n",
    "        x = self.relu(self.linear1(x))\n",
    "        x = self.relu(self.linear2(x))\n",
    "        x = self.final(x)\n",
    "        return x"
   ],
   "metadata": {
    "collapsed": false,
    "ExecuteTime": {
     "end_time": "2023-11-24T17:30:39.758680Z",
     "start_time": "2023-11-24T17:30:39.755435Z"
    }
   },
   "id": "52f31797cc9cbfda"
  },
  {
   "cell_type": "code",
   "execution_count": 26,
   "outputs": [
    {
     "data": {
      "text/plain": "Model(\n  (linear1): Linear(in_features=784, out_features=50, bias=True)\n  (linear2): Linear(in_features=50, out_features=30, bias=True)\n  (final): Linear(in_features=30, out_features=10, bias=True)\n  (relu): ReLU()\n)"
     },
     "execution_count": 26,
     "metadata": {},
     "output_type": "execute_result"
    }
   ],
   "source": [
    "model2=Model()\n",
    "model2"
   ],
   "metadata": {
    "collapsed": false,
    "ExecuteTime": {
     "end_time": "2023-11-24T17:30:39.763351Z",
     "start_time": "2023-11-24T17:30:39.759244Z"
    }
   },
   "id": "2ace14d772d45fe3"
  },
  {
   "cell_type": "code",
   "execution_count": 27,
   "outputs": [
    {
     "name": "stdout",
     "output_type": "stream",
     "text": [
      "Epoch number: 1\n",
      "\n",
      "Training..\n"
     ]
    },
    {
     "name": "stderr",
     "output_type": "stream",
     "text": [
      "100%|██████████| 60000/60000 [00:15<00:00, 3774.31it/s]\n"
     ]
    },
    {
     "name": "stdout",
     "output_type": "stream",
     "text": [
      "Training_Loss: 2.4610231776023284e-05 and Training_Accuracy: 80.688333 %\n",
      "Testing..\n",
      "Testing_Loss: 9.752130836204742e-07 and Testing_Accuracy: 91.19 %\n",
      "\n",
      "--------------------------------------------------------------------------------\n",
      "\n",
      "Epoch number: 2\n",
      "\n",
      "Training..\n"
     ]
    },
    {
     "name": "stderr",
     "output_type": "stream",
     "text": [
      "100%|██████████| 60000/60000 [00:16<00:00, 3747.96it/s]\n"
     ]
    },
    {
     "name": "stdout",
     "output_type": "stream",
     "text": [
      "Training_Loss: 5.736571893066866e-06 and Training_Accuracy: 92.078333 %\n",
      "Testing..\n",
      "Testing_Loss: 1.4646275303675793e-06 and Testing_Accuracy: 93.31 %\n",
      "\n",
      "--------------------------------------------------------------------------------\n",
      "\n",
      "Epoch number: 3\n",
      "\n",
      "Training..\n"
     ]
    },
    {
     "name": "stderr",
     "output_type": "stream",
     "text": [
      "100%|██████████| 60000/60000 [00:16<00:00, 3592.22it/s]\n"
     ]
    },
    {
     "name": "stdout",
     "output_type": "stream",
     "text": [
      "Training_Loss: 2.6398940462968312e-05 and Training_Accuracy: 93.878333 %\n",
      "Testing..\n",
      "Testing_Loss: 3.276220752468362e-07 and Testing_Accuracy: 94.55 %\n",
      "\n",
      "--------------------------------------------------------------------------------\n",
      "\n",
      "Epoch number: 4\n",
      "\n",
      "Training..\n"
     ]
    },
    {
     "name": "stderr",
     "output_type": "stream",
     "text": [
      "100%|██████████| 60000/60000 [00:15<00:00, 3789.25it/s]\n"
     ]
    },
    {
     "name": "stdout",
     "output_type": "stream",
     "text": [
      "Training_Loss: 2.0646176324135013e-08 and Training_Accuracy: 95.265 %\n",
      "Testing..\n",
      "Testing_Loss: 1.988935025565297e-07 and Testing_Accuracy: 95.63000000000001 %\n",
      "\n",
      "--------------------------------------------------------------------------------\n",
      "\n",
      "Epoch number: 5\n",
      "\n",
      "Training..\n"
     ]
    },
    {
     "name": "stderr",
     "output_type": "stream",
     "text": [
      "100%|██████████| 60000/60000 [00:15<00:00, 3752.76it/s]\n"
     ]
    },
    {
     "name": "stdout",
     "output_type": "stream",
     "text": [
      "Training_Loss: 1.9968453557339672e-07 and Training_Accuracy: 95.991667 %\n",
      "Testing..\n",
      "Testing_Loss: 3.981079498771578e-05 and Testing_Accuracy: 96.16 %\n",
      "\n",
      "--------------------------------------------------------------------------------\n",
      "\n",
      "Epoch number: 6\n",
      "\n",
      "Training..\n"
     ]
    },
    {
     "name": "stderr",
     "output_type": "stream",
     "text": [
      "100%|██████████| 60000/60000 [00:15<00:00, 3821.06it/s]\n"
     ]
    },
    {
     "name": "stdout",
     "output_type": "stream",
     "text": [
      "Training_Loss: 1.9601397980295587e-06 and Training_Accuracy: 96.635 %\n",
      "Testing..\n",
      "Testing_Loss: 6.043728184579322e-09 and Testing_Accuracy: 96.17 %\n",
      "\n",
      "--------------------------------------------------------------------------------\n",
      "\n",
      "Epoch number: 7\n",
      "\n",
      "Training..\n"
     ]
    },
    {
     "name": "stderr",
     "output_type": "stream",
     "text": [
      "100%|██████████| 60000/60000 [00:15<00:00, 3791.05it/s]\n"
     ]
    },
    {
     "name": "stdout",
     "output_type": "stream",
     "text": [
      "Training_Loss: 4.73798742461895e-08 and Training_Accuracy: 96.926667 %\n",
      "Testing..\n",
      "Testing_Loss: 4.649151341684643e-10 and Testing_Accuracy: 96.8 %\n",
      "\n",
      "--------------------------------------------------------------------------------\n",
      "\n",
      "Epoch number: 8\n",
      "\n",
      "Training..\n"
     ]
    },
    {
     "name": "stderr",
     "output_type": "stream",
     "text": [
      "100%|██████████| 60000/60000 [00:16<00:00, 3698.20it/s]\n"
     ]
    },
    {
     "name": "stdout",
     "output_type": "stream",
     "text": [
      "Training_Loss: 6.859973495920713e-07 and Training_Accuracy: 97.32 %\n",
      "Testing..\n",
      "Testing_Loss: 6.8423791077520946e-09 and Testing_Accuracy: 96.97 %\n",
      "\n",
      "--------------------------------------------------------------------------------\n",
      "\n",
      "Epoch number: 9\n",
      "\n",
      "Training..\n"
     ]
    },
    {
     "name": "stderr",
     "output_type": "stream",
     "text": [
      "100%|██████████| 60000/60000 [00:15<00:00, 3822.32it/s]\n"
     ]
    },
    {
     "name": "stdout",
     "output_type": "stream",
     "text": [
      "Training_Loss: 1.2847762036471977e-06 and Training_Accuracy: 97.638333 %\n",
      "Testing..\n",
      "Testing_Loss: 9.915208465827163e-06 and Testing_Accuracy: 97.04 %\n",
      "\n",
      "--------------------------------------------------------------------------------\n",
      "\n",
      "Epoch number: 10\n",
      "\n",
      "Training..\n"
     ]
    },
    {
     "name": "stderr",
     "output_type": "stream",
     "text": [
      "100%|██████████| 60000/60000 [00:15<00:00, 3821.64it/s]\n"
     ]
    },
    {
     "name": "stdout",
     "output_type": "stream",
     "text": [
      "Training_Loss: 2.554484446193328e-08 and Training_Accuracy: 97.756667 %\n",
      "Testing..\n",
      "Testing_Loss: 9.954979418580479e-08 and Testing_Accuracy: 97.36 %\n",
      "\n",
      "--------------------------------------------------------------------------------\n",
      "\n",
      "{'precision': 0.9734186650592391, 'recall': 0.9733782476143213, 'f1_score': 0.9733724775248902, 'accuracy': 97.36, 'min_loss': 4.649151341684643e-10}\n"
     ]
    },
    {
     "data": {
      "text/plain": "<Figure size 3000x3600 with 0 Axes>"
     },
     "metadata": {},
     "output_type": "display_data"
    }
   ],
   "source": [
    "scores = run_epochs(experiment_number=2,model_type=model2)\n",
    "print(scores)\n",
    "experiment_number=2"
   ],
   "metadata": {
    "collapsed": false,
    "ExecuteTime": {
     "end_time": "2023-11-24T17:33:28.254309Z",
     "start_time": "2023-11-24T17:30:39.764216Z"
    }
   },
   "id": "3413568c0c14012b"
  },
  {
   "cell_type": "code",
   "execution_count": 28,
   "outputs": [],
   "source": [
    "with open(file_name,'a',newline='') as file_csv:\n",
    "    writer_ = csv.DictWriter(file_csv, fieldnames=header.split('\\t'),delimiter='\\t')\n",
    "    writer_.writerow({'No':experiment_number,'Model_Number':f'model{experiment_number}','Min_Loss':scores['min_loss'],'Accuracy':scores['accuracy']/100,'precision':scores['precision'],'recall':scores['recall'],'f1_score':scores['f1_score']})"
   ],
   "metadata": {
    "collapsed": false,
    "ExecuteTime": {
     "end_time": "2023-11-24T17:33:28.286258Z",
     "start_time": "2023-11-24T17:33:28.258023Z"
    }
   },
   "id": "a37a02d35c35f2f7"
  },
  {
   "cell_type": "code",
   "execution_count": 78,
   "outputs": [],
   "source": [
    "# let's add one more layer + increase the number of neurons in each layer\n",
    "class Model(nn.Module):\n",
    "    def __init__(self):\n",
    "        super(Model,self).__init__()\n",
    "        self.linear1 = nn.Linear(28*28, 100) \n",
    "        self.linear2 = nn.Linear(100, 150) \n",
    "        self.linear3=nn.Linear(150,50)\n",
    "        self.final = nn.Linear(50, 10)\n",
    "        self.relu = nn.ReLU()\n",
    "        self.tanh=nn.Tanh()\n",
    "\n",
    "    def forward(self, img): #convert + flatten\n",
    "        x = img.view(-1, 28*28)\n",
    "        x = self.relu(self.linear1(x))\n",
    "        x = self.relu(self.linear2(x))\n",
    "        x = self.tanh(self.linear3(x))\n",
    "        x = self.final(x)\n",
    "        return x"
   ],
   "metadata": {
    "collapsed": false,
    "ExecuteTime": {
     "end_time": "2023-11-24T18:10:09.808661Z",
     "start_time": "2023-11-24T18:10:09.803832Z"
    }
   },
   "id": "bce820c33e412f08"
  },
  {
   "cell_type": "code",
   "execution_count": 79,
   "outputs": [
    {
     "data": {
      "text/plain": "Model(\n  (linear1): Linear(in_features=784, out_features=100, bias=True)\n  (linear2): Linear(in_features=100, out_features=150, bias=True)\n  (linear3): Linear(in_features=150, out_features=50, bias=True)\n  (final): Linear(in_features=50, out_features=10, bias=True)\n  (relu): ReLU()\n  (tanh): Tanh()\n)"
     },
     "execution_count": 79,
     "metadata": {},
     "output_type": "execute_result"
    }
   ],
   "source": [
    "model3=Model()\n",
    "model3"
   ],
   "metadata": {
    "collapsed": false,
    "ExecuteTime": {
     "end_time": "2023-11-24T18:10:10.270643Z",
     "start_time": "2023-11-24T18:10:10.264049Z"
    }
   },
   "id": "6740a0d53ecf72c0"
  },
  {
   "cell_type": "code",
   "execution_count": 80,
   "outputs": [
    {
     "name": "stdout",
     "output_type": "stream",
     "text": [
      "Epoch number: 1\n",
      "\n",
      "Training..\n"
     ]
    },
    {
     "name": "stderr",
     "output_type": "stream",
     "text": [
      "100%|██████████| 60000/60000 [00:23<00:00, 2506.56it/s]\n"
     ]
    },
    {
     "name": "stdout",
     "output_type": "stream",
     "text": [
      "Training_Loss: 1.019811043079244e-05 and Training_Accuracy: 80.218333 %\n",
      "Testing..\n",
      "Testing_Loss: 3.896583166351775e-06 and Testing_Accuracy: 91.53 %\n",
      "\n",
      "--------------------------------------------------------------------------------\n",
      "\n",
      "Epoch number: 2\n",
      "\n",
      "Training..\n"
     ]
    },
    {
     "name": "stderr",
     "output_type": "stream",
     "text": [
      "100%|██████████| 60000/60000 [00:23<00:00, 2541.52it/s]\n"
     ]
    },
    {
     "name": "stdout",
     "output_type": "stream",
     "text": [
      "Training_Loss: 1.887245275611349e-07 and Training_Accuracy: 92.945 %\n",
      "Testing..\n",
      "Testing_Loss: 3.413922797790292e-07 and Testing_Accuracy: 94.26 %\n",
      "\n",
      "--------------------------------------------------------------------------------\n",
      "\n",
      "Epoch number: 3\n",
      "\n",
      "Training..\n"
     ]
    },
    {
     "name": "stderr",
     "output_type": "stream",
     "text": [
      "100%|██████████| 60000/60000 [00:23<00:00, 2547.49it/s]\n"
     ]
    },
    {
     "name": "stdout",
     "output_type": "stream",
     "text": [
      "Training_Loss: 4.931880539515987e-05 and Training_Accuracy: 95.108333 %\n",
      "Testing..\n",
      "Testing_Loss: 1.136015086444786e-07 and Testing_Accuracy: 95.47 %\n",
      "\n",
      "--------------------------------------------------------------------------------\n",
      "\n",
      "Epoch number: 4\n",
      "\n",
      "Training..\n"
     ]
    },
    {
     "name": "stderr",
     "output_type": "stream",
     "text": [
      "100%|██████████| 60000/60000 [00:20<00:00, 2878.31it/s]\n"
     ]
    },
    {
     "name": "stdout",
     "output_type": "stream",
     "text": [
      "Training_Loss: 2.4229548145626723e-08 and Training_Accuracy: 96.306667 %\n",
      "Testing..\n",
      "Testing_Loss: 2.3428155770943704e-07 and Testing_Accuracy: 96.07 %\n",
      "\n",
      "--------------------------------------------------------------------------------\n",
      "\n",
      "Epoch number: 5\n",
      "\n",
      "Training..\n"
     ]
    },
    {
     "name": "stderr",
     "output_type": "stream",
     "text": [
      "100%|██████████| 60000/60000 [00:21<00:00, 2800.61it/s]\n"
     ]
    },
    {
     "name": "stdout",
     "output_type": "stream",
     "text": [
      "Training_Loss: 4.9032095716938784e-08 and Training_Accuracy: 96.95 %\n",
      "Testing..\n",
      "Testing_Loss: 8.084549563136534e-07 and Testing_Accuracy: 96.67999999999999 %\n",
      "\n",
      "--------------------------------------------------------------------------------\n",
      "\n",
      "Epoch number: 6\n",
      "\n",
      "Training..\n"
     ]
    },
    {
     "name": "stderr",
     "output_type": "stream",
     "text": [
      "100%|██████████| 60000/60000 [00:21<00:00, 2728.78it/s]\n"
     ]
    },
    {
     "name": "stdout",
     "output_type": "stream",
     "text": [
      "Training_Loss: 2.0600536387860302e-08 and Training_Accuracy: 97.473333 %\n",
      "Testing..\n",
      "Testing_Loss: 2.1991675112076337e-06 and Testing_Accuracy: 97.09 %\n",
      "\n",
      "--------------------------------------------------------------------------------\n",
      "\n",
      "Epoch number: 7\n",
      "\n",
      "Training..\n"
     ]
    },
    {
     "name": "stderr",
     "output_type": "stream",
     "text": [
      "100%|██████████| 60000/60000 [00:21<00:00, 2734.23it/s]\n"
     ]
    },
    {
     "name": "stdout",
     "output_type": "stream",
     "text": [
      "Training_Loss: 1.2390930237415887e-07 and Training_Accuracy: 97.875 %\n",
      "Testing..\n",
      "Testing_Loss: 5.2926836247024767e-08 and Testing_Accuracy: 97.18 %\n",
      "\n",
      "--------------------------------------------------------------------------------\n",
      "\n",
      "Epoch number: 8\n",
      "\n",
      "Training..\n"
     ]
    },
    {
     "name": "stderr",
     "output_type": "stream",
     "text": [
      "100%|██████████| 60000/60000 [00:22<00:00, 2669.09it/s]\n"
     ]
    },
    {
     "name": "stdout",
     "output_type": "stream",
     "text": [
      "Training_Loss: 1.8564451309543983e-08 and Training_Accuracy: 98.19 %\n",
      "Testing..\n",
      "Testing_Loss: 4.9626432740979e-08 and Testing_Accuracy: 97.35000000000001 %\n",
      "\n",
      "--------------------------------------------------------------------------------\n",
      "\n",
      "Epoch number: 9\n",
      "\n",
      "Training..\n"
     ]
    },
    {
     "name": "stderr",
     "output_type": "stream",
     "text": [
      "100%|██████████| 60000/60000 [00:22<00:00, 2619.35it/s]\n"
     ]
    },
    {
     "name": "stdout",
     "output_type": "stream",
     "text": [
      "Training_Loss: 1.0191173771545436e-07 and Training_Accuracy: 98.418333 %\n",
      "Testing..\n",
      "Testing_Loss: 9.738924333646537e-09 and Testing_Accuracy: 97.25 %\n",
      "\n",
      "--------------------------------------------------------------------------------\n",
      "\n",
      "Epoch number: 10\n",
      "\n",
      "Training..\n"
     ]
    },
    {
     "name": "stderr",
     "output_type": "stream",
     "text": [
      "100%|██████████| 60000/60000 [00:24<00:00, 2433.01it/s]\n"
     ]
    },
    {
     "name": "stdout",
     "output_type": "stream",
     "text": [
      "Training_Loss: 5.004633152339011e-08 and Training_Accuracy: 98.61 %\n",
      "Testing..\n",
      "Testing_Loss: 2.0621081731064805e-08 and Testing_Accuracy: 97.39 %\n",
      "\n",
      "--------------------------------------------------------------------------------\n",
      "\n",
      "Epoch number: 11\n",
      "\n",
      "Training..\n"
     ]
    },
    {
     "name": "stderr",
     "output_type": "stream",
     "text": [
      "100%|██████████| 60000/60000 [00:22<00:00, 2623.07it/s]\n"
     ]
    },
    {
     "name": "stdout",
     "output_type": "stream",
     "text": [
      "Training_Loss: 4.642555229139589e-09 and Training_Accuracy: 98.828333 %\n",
      "Testing..\n",
      "Testing_Loss: 2.4899721395854613e-08 and Testing_Accuracy: 97.41 %\n",
      "\n",
      "--------------------------------------------------------------------------------\n",
      "{'precision': 0.9739304440197752, 'recall': 0.9742359118257131, 'f1_score': 0.9740127152071614, 'accuracy': 97.41, 'min_loss': 9.738924333646537e-09}\n"
     ]
    },
    {
     "data": {
      "text/plain": "<Figure size 3000x3600 with 0 Axes>"
     },
     "metadata": {},
     "output_type": "display_data"
    }
   ],
   "source": [
    "scores = run_epochs(experiment_number=3,model_type=model3,epochs = 11)\n",
    "print(scores)\n",
    "experiment_number=3"
   ],
   "metadata": {
    "collapsed": false,
    "ExecuteTime": {
     "end_time": "2023-11-24T18:14:32.963333Z",
     "start_time": "2023-11-24T18:10:11.377916Z"
    }
   },
   "id": "608539463b5b1875"
  },
  {
   "cell_type": "code",
   "execution_count": 81,
   "outputs": [],
   "source": [
    "with open(file_name,'a',newline='') as file_csv:\n",
    "    writer_ = csv.DictWriter(file_csv, fieldnames=header.split('\\t'),delimiter='\\t')\n",
    "    writer_.writerow({'No':experiment_number,'Model_Number':f'model{experiment_number}','Min_Loss':scores['min_loss'],'Accuracy':scores['accuracy']/100,'precision':scores['precision'],'recall':scores['recall'],'f1_score':scores['f1_score']})"
   ],
   "metadata": {
    "collapsed": false,
    "ExecuteTime": {
     "end_time": "2023-11-24T18:14:32.968106Z",
     "start_time": "2023-11-24T18:14:32.965896Z"
    }
   },
   "id": "32247fe3883f7278"
  },
  {
   "cell_type": "code",
   "execution_count": 33,
   "outputs": [],
   "source": [
    "# implement dropout technique\n",
    "class Model(nn.Module):\n",
    "    def __init__(self):\n",
    "        super(Model,self).__init__()\n",
    "        self.linear1 = nn.Linear(28*28, 100) \n",
    "        self.linear2 = nn.Linear(100, 50) \n",
    "        self.dropout=nn.Dropout(0.2)\n",
    "        self.final = nn.Linear(50, 10)\n",
    "        self.relu = nn.ReLU()\n",
    "\n",
    "    def forward(self, img): #convert + flatten\n",
    "        x = img.view(-1, 28*28)\n",
    "        x = self.relu(self.linear1(x))\n",
    "        x = self.relu(self.dropout(self.linear2(x)))\n",
    "        x = self.final(x)\n",
    "        return x"
   ],
   "metadata": {
    "collapsed": false,
    "ExecuteTime": {
     "end_time": "2023-11-24T17:36:54.844694Z",
     "start_time": "2023-11-24T17:36:54.840921Z"
    }
   },
   "id": "1141264a09b9a9e9"
  },
  {
   "cell_type": "code",
   "execution_count": 34,
   "outputs": [
    {
     "data": {
      "text/plain": "Model(\n  (linear1): Linear(in_features=784, out_features=100, bias=True)\n  (linear2): Linear(in_features=100, out_features=50, bias=True)\n  (dropout): Dropout(p=0.2, inplace=False)\n  (final): Linear(in_features=50, out_features=10, bias=True)\n  (relu): ReLU()\n)"
     },
     "execution_count": 34,
     "metadata": {},
     "output_type": "execute_result"
    }
   ],
   "source": [
    "model4=Model()\n",
    "model4"
   ],
   "metadata": {
    "collapsed": false,
    "ExecuteTime": {
     "end_time": "2023-11-24T17:36:54.849678Z",
     "start_time": "2023-11-24T17:36:54.845233Z"
    }
   },
   "id": "9ae6c20fa2513fe8"
  },
  {
   "cell_type": "code",
   "execution_count": 35,
   "outputs": [
    {
     "name": "stdout",
     "output_type": "stream",
     "text": [
      "Epoch number: 1\n",
      "\n",
      "Training..\n"
     ]
    },
    {
     "name": "stderr",
     "output_type": "stream",
     "text": [
      "100%|██████████| 60000/60000 [00:19<00:00, 3142.29it/s]\n"
     ]
    },
    {
     "name": "stdout",
     "output_type": "stream",
     "text": [
      "Training_Loss: 2.137114961442421e-06 and Training_Accuracy: 78.85 %\n",
      "Testing..\n",
      "Testing_Loss: 1.3603836350739584e-06 and Testing_Accuracy: 90.59 %\n",
      "\n",
      "--------------------------------------------------------------------------------\n",
      "\n",
      "Epoch number: 2\n",
      "\n",
      "Training..\n"
     ]
    },
    {
     "name": "stderr",
     "output_type": "stream",
     "text": [
      "100%|██████████| 60000/60000 [00:17<00:00, 3422.57it/s]\n"
     ]
    },
    {
     "name": "stdout",
     "output_type": "stream",
     "text": [
      "Training_Loss: 1.7804139815780218e-06 and Training_Accuracy: 91.298333 %\n",
      "Testing..\n",
      "Testing_Loss: 3.6877264619761263e-07 and Testing_Accuracy: 92.65 %\n",
      "\n",
      "--------------------------------------------------------------------------------\n",
      "\n",
      "Epoch number: 3\n",
      "\n",
      "Training..\n"
     ]
    },
    {
     "name": "stderr",
     "output_type": "stream",
     "text": [
      "100%|██████████| 60000/60000 [00:17<00:00, 3460.13it/s]\n"
     ]
    },
    {
     "name": "stdout",
     "output_type": "stream",
     "text": [
      "Training_Loss: 1.446133950366857e-07 and Training_Accuracy: 93.606667 %\n",
      "Testing..\n",
      "Testing_Loss: 1.1065191074521863e-06 and Testing_Accuracy: 94.3 %\n",
      "\n",
      "--------------------------------------------------------------------------------\n",
      "\n",
      "Epoch number: 4\n",
      "\n",
      "Training..\n"
     ]
    },
    {
     "name": "stderr",
     "output_type": "stream",
     "text": [
      "100%|██████████| 60000/60000 [00:17<00:00, 3474.37it/s]\n"
     ]
    },
    {
     "name": "stdout",
     "output_type": "stream",
     "text": [
      "Training_Loss: 2.670807361937477e-07 and Training_Accuracy: 94.958333 %\n",
      "Testing..\n",
      "Testing_Loss: 9.701957424113061e-07 and Testing_Accuracy: 95.38 %\n",
      "\n",
      "--------------------------------------------------------------------------------\n",
      "\n",
      "Epoch number: 5\n",
      "\n",
      "Training..\n"
     ]
    },
    {
     "name": "stderr",
     "output_type": "stream",
     "text": [
      "100%|██████████| 60000/60000 [00:17<00:00, 3383.81it/s]\n"
     ]
    },
    {
     "name": "stdout",
     "output_type": "stream",
     "text": [
      "Training_Loss: 3.92356423617457e-06 and Training_Accuracy: 95.688333 %\n",
      "Testing..\n",
      "Testing_Loss: 2.7681389269673673e-07 and Testing_Accuracy: 95.81 %\n",
      "\n",
      "--------------------------------------------------------------------------------\n",
      "\n",
      "Epoch number: 6\n",
      "\n",
      "Training..\n"
     ]
    },
    {
     "name": "stderr",
     "output_type": "stream",
     "text": [
      "100%|██████████| 60000/60000 [00:18<00:00, 3224.63it/s]\n"
     ]
    },
    {
     "name": "stdout",
     "output_type": "stream",
     "text": [
      "Training_Loss: 1.04430807823519e-06 and Training_Accuracy: 96.413333 %\n",
      "Testing..\n",
      "Testing_Loss: 1.531859879833064e-06 and Testing_Accuracy: 96.23 %\n",
      "\n",
      "--------------------------------------------------------------------------------\n",
      "\n",
      "Epoch number: 7\n",
      "\n",
      "Training..\n"
     ]
    },
    {
     "name": "stderr",
     "output_type": "stream",
     "text": [
      "100%|██████████| 60000/60000 [00:18<00:00, 3185.80it/s]\n"
     ]
    },
    {
     "name": "stdout",
     "output_type": "stream",
     "text": [
      "Training_Loss: 4.188317248576823e-08 and Training_Accuracy: 96.875 %\n",
      "Testing..\n",
      "Testing_Loss: 6.221688408913906e-07 and Testing_Accuracy: 96.0 %\n",
      "\n",
      "--------------------------------------------------------------------------------\n",
      "\n",
      "Epoch number: 8\n",
      "\n",
      "Training..\n"
     ]
    },
    {
     "name": "stderr",
     "output_type": "stream",
     "text": [
      "100%|██████████| 60000/60000 [00:18<00:00, 3201.83it/s]\n"
     ]
    },
    {
     "name": "stdout",
     "output_type": "stream",
     "text": [
      "Training_Loss: 2.218162222789033e-07 and Training_Accuracy: 97.161667 %\n",
      "Testing..\n",
      "Testing_Loss: 1.7285197717598066e-09 and Testing_Accuracy: 96.75 %\n",
      "\n",
      "--------------------------------------------------------------------------------\n",
      "\n",
      "Epoch number: 9\n",
      "\n",
      "Training..\n"
     ]
    },
    {
     "name": "stderr",
     "output_type": "stream",
     "text": [
      "100%|██████████| 60000/60000 [00:18<00:00, 3290.82it/s]\n"
     ]
    },
    {
     "name": "stdout",
     "output_type": "stream",
     "text": [
      "Training_Loss: 4.967046218773419e-11 and Training_Accuracy: 97.351667 %\n",
      "Testing..\n",
      "Testing_Loss: 1.9236204025219195e-06 and Testing_Accuracy: 96.86 %\n",
      "\n",
      "--------------------------------------------------------------------------------\n",
      "\n",
      "Epoch number: 10\n",
      "\n",
      "Training..\n"
     ]
    },
    {
     "name": "stderr",
     "output_type": "stream",
     "text": [
      "100%|██████████| 60000/60000 [00:17<00:00, 3409.37it/s]\n"
     ]
    },
    {
     "name": "stdout",
     "output_type": "stream",
     "text": [
      "Training_Loss: 7.218545215437189e-05 and Training_Accuracy: 97.62 %\n",
      "Testing..\n",
      "Testing_Loss: 2.562966727737148e-09 and Testing_Accuracy: 96.89 %\n",
      "\n",
      "--------------------------------------------------------------------------------\n",
      "{'precision': 0.9685882840193056, 'recall': 0.9687336477945326, 'f1_score': 0.968615913397682, 'accuracy': 96.89, 'min_loss': 1.7285197717598066e-09}\n"
     ]
    },
    {
     "data": {
      "text/plain": "<Figure size 3000x3600 with 0 Axes>"
     },
     "metadata": {},
     "output_type": "display_data"
    }
   ],
   "source": [
    "scores = run_epochs(experiment_number=4,model_type=model4)\n",
    "print(scores)\n",
    "experiment_number=4"
   ],
   "metadata": {
    "collapsed": false,
    "ExecuteTime": {
     "end_time": "2023-11-24T17:40:05.203125Z",
     "start_time": "2023-11-24T17:36:54.850163Z"
    }
   },
   "id": "607b5bdc3a0281e2"
  },
  {
   "cell_type": "code",
   "execution_count": 36,
   "outputs": [],
   "source": [
    "with open(file_name,'a',newline='') as file_csv:\n",
    "    writer_ = csv.DictWriter(file_csv, fieldnames=header.split('\\t'),delimiter='\\t')\n",
    "    writer_.writerow({'No':experiment_number,'Model_Number':f'model{experiment_number}','Min_Loss':scores['min_loss'],'Accuracy':scores['accuracy']/100,'precision':scores['precision'],'recall':scores['recall'],'f1_score':scores['f1_score']})"
   ],
   "metadata": {
    "collapsed": false,
    "ExecuteTime": {
     "end_time": "2023-11-24T17:40:05.250482Z",
     "start_time": "2023-11-24T17:40:05.201400Z"
    }
   },
   "id": "8924ea171f375f70"
  },
  {
   "cell_type": "code",
   "execution_count": 45,
   "outputs": [],
   "source": [
    "# model type -> without dropout, but replacing RELU with softmax\n",
    "class Model(nn.Module):\n",
    "    def __init__(self):\n",
    "        super(Model,self).__init__()\n",
    "        self.linear1 = nn.Linear(28*28, 100) \n",
    "        self.linear2 = nn.Linear(100, 50) \n",
    "        self.final = nn.Linear(50, 10) \n",
    "        self.relu=nn.ReLU()\n",
    "        self.softmax = nn.Softmax()\n",
    "        self.tanh=nn.Tanh()\n",
    "\n",
    "    def forward(self, img):\n",
    "        x = img.view(-1, 28*28)\n",
    "        x = self.relu(self.linear1(x))\n",
    "        x = self.tanh(self.linear2(x))\n",
    "        x = self.softmax(self.final(x))\n",
    "        return x"
   ],
   "metadata": {
    "collapsed": false,
    "ExecuteTime": {
     "end_time": "2023-11-24T17:52:18.559830Z",
     "start_time": "2023-11-24T17:52:18.542480Z"
    }
   },
   "id": "c4f83f2667d00288"
  },
  {
   "cell_type": "code",
   "execution_count": 46,
   "outputs": [
    {
     "data": {
      "text/plain": "Model(\n  (linear1): Linear(in_features=784, out_features=100, bias=True)\n  (linear2): Linear(in_features=100, out_features=50, bias=True)\n  (final): Linear(in_features=50, out_features=10, bias=True)\n  (relu): ReLU()\n  (softmax): Softmax(dim=None)\n  (tanh): Tanh()\n)"
     },
     "execution_count": 46,
     "metadata": {},
     "output_type": "execute_result"
    }
   ],
   "source": [
    "model5=Model()\n",
    "model5"
   ],
   "metadata": {
    "collapsed": false,
    "ExecuteTime": {
     "end_time": "2023-11-24T17:52:18.822857Z",
     "start_time": "2023-11-24T17:52:18.814600Z"
    }
   },
   "id": "421684533775ac99"
  },
  {
   "cell_type": "code",
   "execution_count": 47,
   "outputs": [
    {
     "name": "stdout",
     "output_type": "stream",
     "text": [
      "Epoch number: 1\n",
      "\n",
      "Training..\n"
     ]
    },
    {
     "name": "stderr",
     "output_type": "stream",
     "text": [
      "  0%|          | 0/60000 [00:00<?, ?it/s]/Users/boris/PycharmProjects/Programming/Yandex_liceum/lib/python3.9/site-packages/torch/nn/modules/module.py:1518: UserWarning: Implicit dimension choice for softmax has been deprecated. Change the call to include dim=X as an argument.\n",
      "  return self._call_impl(*args, **kwargs)\n",
      "100%|██████████| 60000/60000 [00:18<00:00, 3220.78it/s]\n"
     ]
    },
    {
     "name": "stdout",
     "output_type": "stream",
     "text": [
      "Training_Loss: 2.678382043086458e-05 and Training_Accuracy: 41.158333 %\n",
      "Testing..\n",
      "Testing_Loss: 0.00015809772594366223 and Testing_Accuracy: 68.97999999999999 %\n",
      "\n",
      "--------------------------------------------------------------------------------\n",
      "\n",
      "Epoch number: 2\n",
      "\n",
      "Training..\n"
     ]
    },
    {
     "name": "stderr",
     "output_type": "stream",
     "text": [
      "100%|██████████| 60000/60000 [00:18<00:00, 3303.15it/s]\n"
     ]
    },
    {
     "name": "stdout",
     "output_type": "stream",
     "text": [
      "Training_Loss: 2.441619108140003e-05 and Training_Accuracy: 83.778333 %\n",
      "Testing..\n",
      "Testing_Loss: 0.00015042844461277127 and Testing_Accuracy: 89.02 %\n",
      "\n",
      "--------------------------------------------------------------------------------\n",
      "\n",
      "Epoch number: 3\n",
      "\n",
      "Training..\n"
     ]
    },
    {
     "name": "stderr",
     "output_type": "stream",
     "text": [
      "100%|██████████| 60000/60000 [00:18<00:00, 3193.64it/s]\n"
     ]
    },
    {
     "name": "stdout",
     "output_type": "stream",
     "text": [
      "Training_Loss: 2.444548772473354e-05 and Training_Accuracy: 89.763333 %\n",
      "Testing..\n",
      "Testing_Loss: 0.00024230856797657907 and Testing_Accuracy: 90.84 %\n",
      "\n",
      "--------------------------------------------------------------------------------\n",
      "\n",
      "Epoch number: 4\n",
      "\n",
      "Training..\n"
     ]
    },
    {
     "name": "stderr",
     "output_type": "stream",
     "text": [
      "100%|██████████| 60000/60000 [00:18<00:00, 3315.70it/s]\n"
     ]
    },
    {
     "name": "stdout",
     "output_type": "stream",
     "text": [
      "Training_Loss: 2.436532849969808e-05 and Training_Accuracy: 91.01 %\n",
      "Testing..\n",
      "Testing_Loss: 0.00014620051661040634 and Testing_Accuracy: 92.01 %\n",
      "\n",
      "--------------------------------------------------------------------------------\n",
      "\n",
      "Epoch number: 5\n",
      "\n",
      "Training..\n"
     ]
    },
    {
     "name": "stderr",
     "output_type": "stream",
     "text": [
      "100%|██████████| 60000/60000 [00:18<00:00, 3271.71it/s]\n"
     ]
    },
    {
     "name": "stdout",
     "output_type": "stream",
     "text": [
      "Training_Loss: 2.4519700673408806e-05 and Training_Accuracy: 91.916667 %\n",
      "Testing..\n",
      "Testing_Loss: 0.00014621787704527378 and Testing_Accuracy: 92.42 %\n",
      "\n",
      "--------------------------------------------------------------------------------\n",
      "\n",
      "Epoch number: 6\n",
      "\n",
      "Training..\n"
     ]
    },
    {
     "name": "stderr",
     "output_type": "stream",
     "text": [
      "100%|██████████| 60000/60000 [00:18<00:00, 3256.66it/s]\n"
     ]
    },
    {
     "name": "stdout",
     "output_type": "stream",
     "text": [
      "Training_Loss: 2.4651675630593672e-05 and Training_Accuracy: 92.623333 %\n",
      "Testing..\n",
      "Testing_Loss: 0.00014611765800509602 and Testing_Accuracy: 92.94 %\n",
      "\n",
      "--------------------------------------------------------------------------------\n",
      "\n",
      "Epoch number: 7\n",
      "\n",
      "Training..\n"
     ]
    },
    {
     "name": "stderr",
     "output_type": "stream",
     "text": [
      "100%|██████████| 60000/60000 [00:18<00:00, 3293.22it/s]\n"
     ]
    },
    {
     "name": "stdout",
     "output_type": "stream",
     "text": [
      "Training_Loss: 3.049825863854494e-05 and Training_Accuracy: 93.146667 %\n",
      "Testing..\n",
      "Testing_Loss: 0.00014616931730415672 and Testing_Accuracy: 93.12 %\n",
      "\n",
      "--------------------------------------------------------------------------------\n",
      "\n",
      "Epoch number: 8\n",
      "\n",
      "Training..\n"
     ]
    },
    {
     "name": "stderr",
     "output_type": "stream",
     "text": [
      "100%|██████████| 60000/60000 [00:18<00:00, 3297.05it/s]\n"
     ]
    },
    {
     "name": "stdout",
     "output_type": "stream",
     "text": [
      "Training_Loss: 2.4353548724320717e-05 and Training_Accuracy: 93.628333 %\n",
      "Testing..\n",
      "Testing_Loss: 0.0001461416541133076 and Testing_Accuracy: 93.67999999999999 %\n",
      "\n",
      "--------------------------------------------------------------------------------\n",
      "\n",
      "Epoch number: 9\n",
      "\n",
      "Training..\n"
     ]
    },
    {
     "name": "stderr",
     "output_type": "stream",
     "text": [
      "100%|██████████| 60000/60000 [00:17<00:00, 3334.09it/s]\n"
     ]
    },
    {
     "name": "stdout",
     "output_type": "stream",
     "text": [
      "Training_Loss: 2.4353174012503587e-05 and Training_Accuracy: 94.023333 %\n",
      "Testing..\n",
      "Testing_Loss: 0.00015637357137165964 and Testing_Accuracy: 93.84 %\n",
      "\n",
      "--------------------------------------------------------------------------------\n",
      "\n",
      "Epoch number: 10\n",
      "\n",
      "Training..\n"
     ]
    },
    {
     "name": "stderr",
     "output_type": "stream",
     "text": [
      "100%|██████████| 60000/60000 [00:18<00:00, 3237.15it/s]\n"
     ]
    },
    {
     "name": "stdout",
     "output_type": "stream",
     "text": [
      "Training_Loss: 2.4370594474021345e-05 and Training_Accuracy: 94.388333 %\n",
      "Testing..\n",
      "Testing_Loss: 0.00014625914627686143 and Testing_Accuracy: 94.28999999999999 %\n",
      "\n",
      "--------------------------------------------------------------------------------\n",
      "{'precision': 0.9425493863358512, 'recall': 0.941988879764159, 'f1_score': 0.9420696523984187, 'accuracy': 94.28999999999999, 'min_loss': 0.00014611765800509602}\n"
     ]
    },
    {
     "data": {
      "text/plain": "<Figure size 3000x3600 with 0 Axes>"
     },
     "metadata": {},
     "output_type": "display_data"
    }
   ],
   "source": [
    "scores = run_epochs(experiment_number=5,model_type=model5)\n",
    "print(scores)\n",
    "experiment_number=5"
   ],
   "metadata": {
    "collapsed": false,
    "ExecuteTime": {
     "end_time": "2023-11-24T17:55:31.936313Z",
     "start_time": "2023-11-24T17:52:19.347242Z"
    }
   },
   "id": "11cc15de703a16cc"
  },
  {
   "cell_type": "code",
   "execution_count": 51,
   "outputs": [],
   "source": [
    "with open(file_name,'a',newline='') as file_csv:\n",
    "    writer_ = csv.DictWriter(file_csv, fieldnames=header.split('\\t'),delimiter='\\t')\n",
    "    writer_.writerow({'No':experiment_number,'Model_Number':f'model{experiment_number}','Min_Loss':scores['min_loss'],'Accuracy':scores['accuracy']/100,'precision':scores['precision'],'recall':scores['recall'],'f1_score':scores['f1_score']})"
   ],
   "metadata": {
    "collapsed": false,
    "ExecuteTime": {
     "end_time": "2023-11-24T17:59:38.706992Z",
     "start_time": "2023-11-24T17:59:38.701214Z"
    }
   },
   "id": "175ba5f358d68a0"
  },
  {
   "cell_type": "code",
   "execution_count": 52,
   "outputs": [],
   "source": [
    "batch_size=32\n",
    "train_loader,test_loader=DataLoader(train,shuffle=True,batch_size=batch_size),DataLoader(test,shuffle=True,batch_size=batch_size)"
   ],
   "metadata": {
    "collapsed": false,
    "ExecuteTime": {
     "end_time": "2023-11-24T17:59:39.234037Z",
     "start_time": "2023-11-24T17:59:39.222550Z"
    }
   },
   "id": "70248dac8746592c"
  },
  {
   "cell_type": "code",
   "execution_count": 53,
   "outputs": [],
   "source": [
    "# Last model type -> without dropout, but replacing RELU with softmax + batch normalization\n",
    "class Model(nn.Module):\n",
    "    def __init__(self):\n",
    "        super(Model,self).__init__()\n",
    "        self.linear1 = nn.Linear(28*28, 100) \n",
    "        self.linear2 = nn.Linear(100, 50) \n",
    "        self.batch1=nn.BatchNorm1d(100)\n",
    "        self.batch2=nn.BatchNorm1d(50)\n",
    "        self.final = nn.Linear(50, 10) \n",
    "        self.relu = nn.ReLU()\n",
    "        self.tanh=nn.Tanh()\n",
    "\n",
    "    def forward(self, img):\n",
    "        x = img.view(-1, 28*28)\n",
    "        x = self.relu(self.batch1(self.linear1(x)))\n",
    "        x = self.tanh(self.batch2(self.linear2(x)))\n",
    "        x = self.final(x)\n",
    "        return x"
   ],
   "metadata": {
    "collapsed": false,
    "ExecuteTime": {
     "end_time": "2023-11-24T17:59:39.728871Z",
     "start_time": "2023-11-24T17:59:39.724197Z"
    }
   },
   "id": "6a678072f9767082"
  },
  {
   "cell_type": "code",
   "execution_count": 54,
   "outputs": [
    {
     "data": {
      "text/plain": "Model(\n  (linear1): Linear(in_features=784, out_features=100, bias=True)\n  (linear2): Linear(in_features=100, out_features=50, bias=True)\n  (batch1): BatchNorm1d(100, eps=1e-05, momentum=0.1, affine=True, track_running_stats=True)\n  (batch2): BatchNorm1d(50, eps=1e-05, momentum=0.1, affine=True, track_running_stats=True)\n  (final): Linear(in_features=50, out_features=10, bias=True)\n  (relu): ReLU()\n  (tanh): Tanh()\n)"
     },
     "execution_count": 54,
     "metadata": {},
     "output_type": "execute_result"
    }
   ],
   "source": [
    "model6=Model()\n",
    "model6"
   ],
   "metadata": {
    "collapsed": false,
    "ExecuteTime": {
     "end_time": "2023-11-24T17:59:40.463257Z",
     "start_time": "2023-11-24T17:59:40.451055Z"
    }
   },
   "id": "8d10ea9a212aa2af"
  },
  {
   "cell_type": "code",
   "execution_count": 57,
   "outputs": [
    {
     "name": "stdout",
     "output_type": "stream",
     "text": [
      "Epoch number: 1\n",
      "\n",
      "Training..\n"
     ]
    },
    {
     "name": "stderr",
     "output_type": "stream",
     "text": [
      "100%|██████████| 1875/1875 [00:03<00:00, 610.50it/s]\n"
     ]
    },
    {
     "name": "stdout",
     "output_type": "stream",
     "text": [
      "Training_Loss: 0.00015933990653138608 and Training_Accuracy: 95.266667 %\n",
      "Testing..\n",
      "Testing_Loss: 0.0002408335858490318 and Testing_Accuracy: 94.93 %\n",
      "\n",
      "--------------------------------------------------------------------------------\n",
      "\n",
      "Epoch number: 2\n",
      "\n",
      "Training..\n"
     ]
    },
    {
     "name": "stderr",
     "output_type": "stream",
     "text": [
      "100%|██████████| 1875/1875 [00:03<00:00, 604.38it/s]\n"
     ]
    },
    {
     "name": "stdout",
     "output_type": "stream",
     "text": [
      "Training_Loss: 4.5327575207920745e-05 and Training_Accuracy: 95.428333 %\n",
      "Testing..\n",
      "Testing_Loss: 0.0003675913321785629 and Testing_Accuracy: 95.44 %\n",
      "\n",
      "--------------------------------------------------------------------------------\n",
      "\n",
      "Epoch number: 3\n",
      "\n",
      "Training..\n"
     ]
    },
    {
     "name": "stderr",
     "output_type": "stream",
     "text": [
      "100%|██████████| 1875/1875 [00:03<00:00, 603.38it/s]\n"
     ]
    },
    {
     "name": "stdout",
     "output_type": "stream",
     "text": [
      "Training_Loss: 0.0001442652865080163 and Training_Accuracy: 95.69 %\n",
      "Testing..\n",
      "Testing_Loss: 0.0006104353815317154 and Testing_Accuracy: 95.39 %\n",
      "\n",
      "--------------------------------------------------------------------------------\n",
      "\n",
      "Epoch number: 4\n",
      "\n",
      "Training..\n"
     ]
    },
    {
     "name": "stderr",
     "output_type": "stream",
     "text": [
      "100%|██████████| 1875/1875 [00:03<00:00, 611.57it/s]\n"
     ]
    },
    {
     "name": "stdout",
     "output_type": "stream",
     "text": [
      "Training_Loss: 0.00011788538540713489 and Training_Accuracy: 95.915 %\n",
      "Testing..\n",
      "Testing_Loss: 0.0016054214211180806 and Testing_Accuracy: 95.27 %\n",
      "\n",
      "--------------------------------------------------------------------------------\n",
      "\n",
      "Epoch number: 5\n",
      "\n",
      "Training..\n"
     ]
    },
    {
     "name": "stderr",
     "output_type": "stream",
     "text": [
      "100%|██████████| 1875/1875 [00:03<00:00, 604.44it/s]\n"
     ]
    },
    {
     "name": "stdout",
     "output_type": "stream",
     "text": [
      "Training_Loss: 6.705954001517966e-05 and Training_Accuracy: 96.125 %\n",
      "Testing..\n",
      "Testing_Loss: 0.0019980098586529493 and Testing_Accuracy: 95.72 %\n",
      "\n",
      "--------------------------------------------------------------------------------\n",
      "{'precision': 0.9569078869811447, 'recall': 0.9569457172093465, 'f1_score': 0.9569110046860236, 'accuracy': 95.72, 'min_loss': 0.0002408335858490318}\n"
     ]
    },
    {
     "data": {
      "text/plain": "<Figure size 3000x3600 with 0 Axes>"
     },
     "metadata": {},
     "output_type": "display_data"
    }
   ],
   "source": [
    "# I will illustrate only 5 epochs to not make the file infinitely long\n",
    "scores = run_epochs(experiment_number=6,model_type=model6,epochs=5,batch_size=batch_size)\n",
    "print(scores)\n",
    "experiment_number=6"
   ],
   "metadata": {
    "collapsed": false,
    "ExecuteTime": {
     "end_time": "2023-11-24T18:00:53.931555Z",
     "start_time": "2023-11-24T18:00:36.499555Z"
    }
   },
   "id": "130f9448b2d610fc"
  },
  {
   "cell_type": "code",
   "execution_count": 58,
   "outputs": [],
   "source": [
    "with open('table.csv','a',newline='') as file_csv:\n",
    "    writer_ = csv.DictWriter(file_csv, fieldnames=header.split('\\t'),delimiter='\\t')\n",
    "    writer_.writerow({'No':experiment_number,'Model_Number':f'model{experiment_number}','Min_Loss':scores['min_loss'],'Accuracy':scores['accuracy']/100,'precision':scores['precision'],'recall':scores['recall'],'f1_score':scores['f1_score']})"
   ],
   "metadata": {
    "collapsed": false,
    "ExecuteTime": {
     "end_time": "2023-11-24T18:03:11.718431Z",
     "start_time": "2023-11-24T18:03:11.700838Z"
    }
   },
   "id": "84f1a55c3801b571"
  },
  {
   "cell_type": "raw",
   "source": [
    "Примечания: \n",
    "1) В моей модели сначала идет Training, затем Testing => точность на Testing почти всегда перегоняет точность Training. \n",
    "2) После тренировки и тестировании каждой модели (когда закончатся эпохи) в папке с проектом автоматически будут сохранятся графики accuracy, loss, confusion matrix. \n",
    "3) Далее будет представленна таблица с метриками и выводы к каждой модели."
   ],
   "metadata": {
    "collapsed": false
   },
   "id": "a8b8d9e6ff123164"
  },
  {
   "cell_type": "raw",
   "source": [
    "No\tModel_Number\tMin_Loss\tAccuracy\tprecision\trecall\tf1_score\n",
    "1\tmodel1\t3.45170541038442e-08\t0.9637\t0.9637137909648162\t0.9633197330957746\t0.9634205120339129\n",
    "2\tmodel2\t4.649151341684643e-10\t0.9736\t0.9734186650592391\t0.9733782476143213\t0.9733724775248902\n",
    "3\tmodel3\t2.1060174437703694e-10  0.9712\t0.9717244842806458\t0.9707450944417306\t0.971029007763889\n",
    "4\tmodel4\t1.7285197717598066e-09\t0.9689\t0.9685882840193056\t0.9687336477945326\t0.968615913397682\n",
    "5\tmodel5\t0.00014611765800509602\t0.9429\t0.9425493863358512\t0.941988879764159\t0.9420696523984187\n",
    "6\tmodel6\t0.0002408335858490318\t0.958\t0.9569078869811447\t0.9569457172093465\t0.9569110046860236\n",
    "\n"
   ],
   "metadata": {
    "collapsed": false
   },
   "id": "8ee14221ec31df1e"
  },
  {
   "cell_type": "raw",
   "source": [
    "Модель 1\n",
    "Model(\n",
    "  (linear1): Linear(in_features=784, out_features=50, bias=True)\n",
    "  (final): Linear(in_features=50, out_features=10, bias=True)\n",
    "  (relu): ReLU()\n",
    ")\n",
    "Содержит всего 1 линейный слой, функция активации РеЛу. Показала достаточно неплохие результаты точности. Так как датасет содержит фотографии 28х28 с небольшим колличеством цветовых фичей, даже такая набольшая модель может показывать хорошие результаты в классификации.\n",
    "\n",
    "Модель 2 \n",
    "Model(\n",
    "  (linear1): Linear(in_features=784, out_features=50, bias=True)\n",
    "  (linear2): Linear(in_features=50, out_features=30, bias=True)\n",
    "  (final): Linear(in_features=30, out_features=10, bias=True)\n",
    "  (relu): ReLU()\n",
    ")\n",
    "К модели 1 был добавлен еще один скрытый слой. Данное действие помогло уменьшить минимальный лосс, все метрики точности увеличились => общий результат модели стал лучше. Это происходит так как модель стала способна улавливать более сложные закономерности. После первой эпохи обучения валидационная точность стала выше на 1 процент, графики точности и лосса стали значительно плавнее.(особенно лосс). Более того, согласно матрице ошибок модель в среднем лучше идентифицирует каждый класс на 1-2 процента.\n",
    "\n",
    "Модель 3\n",
    "Model(\n",
    "  (linear1): Linear(in_features=784, out_features=100, bias=True)\n",
    "  (linear2): Linear(in_features=100, out_features=150, bias=True)\n",
    "  (linear3): Linear(in_features=150, out_features=50, bias=True)\n",
    "  (final): Linear(in_features=50, out_features=10, bias=True)\n",
    "  (relu): ReLU()\n",
    "  (tanh): Tanh()\n",
    ")\n",
    "К модели 2 были добавлены нейроны в скрытых слоях + 1 новый слой (+ используется функция tanh). Это помогло улучшить генерализацию модели, все метрики выросли на несколько процентов, не смотря на увеличение лосса. В матрице ошибок минимальное значение класса стало равно 0.96, следовательно модель распознает каждый класс одиннаково хорошо. Эта модель показала наилучшие результаты точности на тестовой выборке, она имеет самую сложную архитектуру (содержит больше всего скрытых слоев + имеет наибольшее колличество нейронов).\n",
    "\n",
    "Модель 4.\n",
    "Model(\n",
    "  (linear1): Linear(in_features=784, out_features=100, bias=True)\n",
    "  (linear2): Linear(in_features=100, out_features=50, bias=True)\n",
    "  (dropout): Dropout(p=0.2, inplace=False)\n",
    "  (final): Linear(in_features=50, out_features=10, bias=True)\n",
    "  (relu): ReLU()\n",
    ")\n",
    "В модели используется техника dropout, где нейроны с определенным шансом выключаются. Данная техника помогает бороться с переобучением на тренировочном датасете. Моя модель с dropout показала почти такие же результаты в сравнении с другими. Это произошло из за того, что тестовые и тренировочные картинки похожи и идут из одного датасета => входые данные почти не ранжируются (похожи). Dropout бывает полезен в датасете, где картинки разные (или их мало) в тренировочном и тестовом датасете (дропаут помогает не зацикливаться на определенных ярко выраженных фичах, он улучшает способность модели адаптироваться к разной дате). \n",
    "\n",
    "Модель 5.\n",
    "Model(\n",
    "  (linear1): Linear(in_features=784, out_features=100, bias=True)\n",
    "  (linear2): Linear(in_features=100, out_features=50, bias=True)\n",
    "  (final): Linear(in_features=50, out_features=10, bias=True)\n",
    "  (relu): ReLU()\n",
    "  (softmax): Softmax(dim=None)\n",
    "  (tanh): Tanh()\n",
    ")\n",
    "Между слоями использовалась РеЛу + Tanh, в конце я прогоняю ответы через Софтмакс (она сжимает ответы в промежуток (0,1) и помогает сделать сумму вероятностей классов = 1). В ходе эксперимента данная модель показала хорошие результаты точности, хотя и лосс в сравнении с другими моделями имеет значительно большее значение. Это может происходить, так как софтмакс уже включен в функцию лосса.\n",
    "\n",
    "Модель 6.\n",
    "Model(\n",
    "  (linear1): Linear(in_features=784, out_features=100, bias=True)\n",
    "  (linear2): Linear(in_features=100, out_features=50, bias=True)\n",
    "  (batch1): BatchNorm1d(100, eps=1e-05, momentum=0.1, affine=True, track_running_stats=True)\n",
    "  (batch2): BatchNorm1d(50, eps=1e-05, momentum=0.1, affine=True, track_running_stats=True)\n",
    "  (final): Linear(in_features=50, out_features=10, bias=True)\n",
    "  (relu): ReLU()\n",
    "  (tanh): Tanh()\n",
    ")\n",
    "В финальной модели я разделил входные данные на батчи размером 32, по очереди загружая их в модель. Данная техника значительно увеличила скорость обучения, так как модели легче обучается когда данные разделены на группы. Графики лосс и accuracy сильно колебались, как обычно и происходит с техникой деления даты на батчи (в батчах может быть разное распределение классов, так как я использую shuffle = True). В конечном результате модель научилась работать с датой, разделененной на батчи.\n",
    "\n",
    "Финальный вывод:\n",
    "В данной работе я попробовал множество техник для мультиклассовой классификации с помощью pytorch. Оценочные метрики каждой модели выводятся в отдельную папку, все данные добавляются в общую таблицу, данный процесс полностью автоматизирован.\n",
    "\n",
    "\n",
    "Найлучшая модель: модель номер 3, так как имеет сложнейшую архитектуру, которая показала хорошие результаты как на тестовой выборке, так и на тренировочной."
   ],
   "metadata": {
    "collapsed": false
   },
   "id": "576c50f79da1e233"
  }
 ],
 "metadata": {
  "kernelspec": {
   "display_name": "Python 3",
   "language": "python",
   "name": "python3"
  },
  "language_info": {
   "codemirror_mode": {
    "name": "ipython",
    "version": 2
   },
   "file_extension": ".py",
   "mimetype": "text/x-python",
   "name": "python",
   "nbconvert_exporter": "python",
   "pygments_lexer": "ipython2",
   "version": "2.7.6"
  }
 },
 "nbformat": 4,
 "nbformat_minor": 5
}
