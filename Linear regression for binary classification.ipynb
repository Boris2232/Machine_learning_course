{
 "cells": [
  {
   "cell_type": "markdown",
   "metadata": {},
   "source": [
    "# Домашнее задание - линейная регрессия"
   ]
  },
  {
   "cell_type": "markdown",
   "metadata": {},
   "source": [
    "### Работа с признаками (8 баллов)"
   ]
  },
  {
   "cell_type": "markdown",
   "source": [],
   "metadata": {
    "collapsed": false
   }
  },
  {
   "cell_type": "markdown",
   "metadata": {},
   "source": [
    "Скачайте датасет из материалов к уроку или по ссылке https://raw.githubusercontent.com/jupiterzhuo/travel-insurance/master/travel%20insurance.csv \n",
    "\n",
    "\n",
    "Описание признаков:\n",
    "\n",
    "* Agency — название страхового агентства\n",
    "* Agency Type — тип страхового агентства\n",
    "* Distribution Channel — канал продвижения страхового агентства\n",
    "* Product Name — название страхового продукта\n",
    "* Duration — длительность поездки (количество дней)\n",
    "* Destination — направление поездки\n",
    "* Net Sales — сумма продаж \n",
    "* Commission (in value) — комиссия страхового агентства\n",
    "* Gender — пол застрахованного\n",
    "* Age — возраст застрахованного\n",
    "\n",
    "Ответ:\n",
    "* Claim — потребовалась ли страховая выплата: «да» — 1, «нет» — 0"
   ]
  },
  {
   "cell_type": "markdown",
   "metadata": {},
   "source": [
    "Обработайте пропущенные значения и примените написанные функции onehot_encode() и minmax_scale().\n",
    "\n",
    "**Подсказка**: маску для категориальных признаков можно сделать фильтром cat_features_mask = (df.dtypes == \"object\").values"
   ]
  },
  {
   "cell_type": "code",
   "execution_count": 1,
   "metadata": {
    "ExecuteTime": {
     "end_time": "2023-10-25T15:51:06.076495Z",
     "start_time": "2023-10-25T15:51:05.831290Z"
    }
   },
   "outputs": [],
   "source": [
    "import pandas as pd\n",
    "import numpy as np\n",
    "from sklearn import impute\n",
    "from matplotlib import pyplot as plt\n",
    "from sklearn.model_selection import train_test_split\n",
    "# dataset link : https://raw.githubusercontent.com/jupiterzhuo/travel-insurance/master/travel%20insurance.csv "
   ]
  },
  {
   "cell_type": "code",
   "execution_count": 2,
   "outputs": [
    {
     "name": "stdout",
     "output_type": "stream",
     "text": [
      "<class 'pandas.core.frame.DataFrame'>\n",
      "RangeIndex: 63326 entries, 0 to 63325\n",
      "Data columns (total 11 columns):\n",
      " #   Column                Non-Null Count  Dtype  \n",
      "---  ------                --------------  -----  \n",
      " 0   Agency                63326 non-null  object \n",
      " 1   Agency Type           63326 non-null  object \n",
      " 2   Distribution Channel  63326 non-null  object \n",
      " 3   Product Name          63326 non-null  object \n",
      " 4   Claim                 63326 non-null  object \n",
      " 5   Duration              63326 non-null  int64  \n",
      " 6   Destination           63326 non-null  object \n",
      " 7   Net Sales             63326 non-null  float64\n",
      " 8   Commision (in value)  63326 non-null  float64\n",
      " 9   Gender                18219 non-null  object \n",
      " 10  Age                   63326 non-null  int64  \n",
      "dtypes: float64(2), int64(2), object(7)\n",
      "memory usage: 5.3+ MB\n",
      "None\n"
     ]
    },
    {
     "data": {
      "text/plain": "Claim\n0    62399\n1      927\nName: count, dtype: int64"
     },
     "execution_count": 2,
     "metadata": {},
     "output_type": "execute_result"
    }
   ],
   "source": [
    "# Прочитать csv файл\n",
    "df = pd.read_csv(\"travel insurance.csv\",\n",
    "                 header=0,index_col=False,delimiter=',')\n",
    "\n",
    "print(df.info())\n",
    "\n",
    "\n",
    "# Claim column contains words \"NO\" and \"Yes\", we simply replace them with 0 / 1\n",
    "df.loc[df['Claim']=='No','Claim'],df.loc[df['Claim']=='Yes','Claim']=0,1\n",
    "df['Claim'].value_counts()"
   ],
   "metadata": {
    "collapsed": false,
    "ExecuteTime": {
     "end_time": "2023-10-25T15:51:06.120994Z",
     "start_time": "2023-10-25T15:51:06.037395Z"
    }
   }
  },
  {
   "cell_type": "code",
   "execution_count": 3,
   "outputs": [
    {
     "data": {
      "text/plain": "Agency                      0\nAgency Type                 0\nDistribution Channel        0\nProduct Name                0\nClaim                       0\nDuration                    0\nDestination                 0\nNet Sales                   0\nCommision (in value)        0\nGender                  45107\nAge                         0\ndtype: int64"
     },
     "execution_count": 3,
     "metadata": {},
     "output_type": "execute_result"
    }
   ],
   "source": [
    "# Gender содержит много пустых значений\n",
    "df.isnull().sum()"
   ],
   "metadata": {
    "collapsed": false,
    "ExecuteTime": {
     "end_time": "2023-10-25T15:51:06.135477Z",
     "start_time": "2023-10-25T15:51:06.130492Z"
    }
   }
  },
  {
   "cell_type": "code",
   "execution_count": 4,
   "outputs": [
    {
     "name": "stdout",
     "output_type": "stream",
     "text": [
      "[ True  True  True  True  True False  True False False  True False]\n"
     ]
    }
   ],
   "source": [
    "# new variable for categorical features\n",
    "categorical_features=(df.dtypes == \"object\").values\n",
    "print(categorical_features,end='\\n\\n')\n",
    "# in gender column null values are replaced with empty strings\n",
    "df_cat=df[df.columns[categorical_features]].fillna('')\n",
    "# replace numerical values with mean\n",
    "df_num=df[df.columns[~categorical_features]]\n",
    "replacer = impute.SimpleImputer(strategy=\"mean\")\n",
    "df_num=pd.DataFrame(data=replacer.fit_transform(df_num), columns=df_num.columns)\n",
    "df_mod=pd.concat([df_num,df_cat],axis=1)"
   ],
   "metadata": {
    "collapsed": false,
    "ExecuteTime": {
     "end_time": "2023-10-25T15:51:06.180511Z",
     "start_time": "2023-10-25T15:51:06.136396Z"
    }
   }
  },
  {
   "cell_type": "code",
   "execution_count": 5,
   "outputs": [],
   "source": [
    "# Here is a function which has the same functionality as a MinMax scaler from a sklearn library\n",
    "def minmax_scale(matrix, feature_range=(0, 1)):\n",
    "    l, r = feature_range\n",
    "    columns = matrix.shape[1]\n",
    "    # get minimal and maximal values from each column\n",
    "    min_values = np.min(matrix, axis=0)\n",
    "    max_values = np.max(matrix, axis=0)\n",
    "    value_range = max_values - min_values\n",
    "    # check if there are same min and max values for one feature\n",
    "    are_not_equal = [value_range != 0]\n",
    "    # print(are_not_equal)\n",
    "    # create a matrix shaped as an original and fill it with zeros\n",
    "    updated_scaled_matrix = np.zeros(shape=matrix.shape, dtype=float)\n",
    "    # traverse through al columns\n",
    "    for i in range(columns):\n",
    "        # if the value range is not 0\n",
    "        if value_range[i]:\n",
    "            updated_scaled_matrix[:, i] = (matrix[:, i] - min_values[i]) / value_range[i] * (r - l) + l\n",
    "    return updated_scaled_matrix"
   ],
   "metadata": {
    "collapsed": false,
    "ExecuteTime": {
     "end_time": "2023-10-25T15:51:06.186352Z",
     "start_time": "2023-10-25T15:51:06.183586Z"
    }
   }
  },
  {
   "cell_type": "code",
   "execution_count": 6,
   "outputs": [],
   "source": [
    "# function below is a manual implementation of a one hot encoding\n",
    "def onehot_encoding(x, column_name=None):\n",
    "    classes_set = sorted(list(set(x)))\n",
    "    classes_dict = dict()\n",
    "    classes = 0\n",
    "    for i in classes_set:\n",
    "        if i not in classes_dict.keys():\n",
    "            classes_dict[i] = classes\n",
    "            classes += 1\n",
    "    one_hot = np.zeros(shape=(len(x), classes))\n",
    "    for i in range(len(x)):\n",
    "        one_hot[i][classes_dict[x[i]]] = 1\n",
    "    one_hot_column_names = pd.DataFrame(one_hot.astype('int'))\n",
    "    # column names are added to make data readable\n",
    "\n",
    "    \n",
    "    # Here I will prepare dictionary for downsampling\n",
    "    dict_={column_name:[i for i in classes_set]}\n",
    "    # encoded categorical features\n",
    "    one_hot_column_names.columns = [f'{column_name}_{i}' for i in classes_set]\n",
    "    return one_hot_column_names,dict_"
   ],
   "metadata": {
    "collapsed": false,
    "ExecuteTime": {
     "end_time": "2023-10-25T15:51:06.201581Z",
     "start_time": "2023-10-25T15:51:06.188153Z"
    }
   }
  },
  {
   "cell_type": "code",
   "execution_count": 7,
   "outputs": [
    {
     "data": {
      "text/plain": "       Duration  Net Sales  Commision (in value)   Age  Claim  Agency_ADM  \\\n0         186.0      -29.0                  9.57  81.0      0       False   \n1         186.0      -29.0                  9.57  71.0      0       False   \n2          65.0      -49.5                 29.70  32.0      0       False   \n3          60.0      -39.6                 23.76  32.0      0       False   \n4          79.0      -19.8                 11.88  41.0      0       False   \n...         ...        ...                   ...   ...    ...         ...   \n63321     111.0       35.0                 12.25  31.0      0       False   \n63322      58.0       40.0                 14.00  40.0      0       False   \n63323       2.0       18.0                  6.30  57.0      0       False   \n63324       3.0       18.0                  6.30  63.0      0       False   \n63325      22.0       26.0                  9.10  35.0      0       False   \n\n       Agency_ART  Agency_C2B  Agency_CBH  Agency_CCR  ...  \\\n0           False       False        True       False  ...   \n1           False       False        True       False  ...   \n2           False       False       False       False  ...   \n3           False       False       False       False  ...   \n4           False       False       False       False  ...   \n...           ...         ...         ...         ...  ...   \n63321       False       False       False       False  ...   \n63322       False       False       False       False  ...   \n63323       False       False       False       False  ...   \n63324       False       False       False       False  ...   \n63325       False       False       False       False  ...   \n\n       Destination_UZBEKISTAN  Destination_VANUATU  Destination_VENEZUELA  \\\n0                       False                False                  False   \n1                       False                False                  False   \n2                       False                False                  False   \n3                       False                False                  False   \n4                       False                False                  False   \n...                       ...                  ...                    ...   \n63321                   False                False                  False   \n63322                   False                False                  False   \n63323                   False                False                  False   \n63324                   False                False                  False   \n63325                   False                False                  False   \n\n       Destination_VIET NAM  Destination_VIRGIN ISLANDS, U.S.  \\\n0                     False                             False   \n1                     False                             False   \n2                     False                             False   \n3                     False                             False   \n4                     False                             False   \n...                     ...                               ...   \n63321                 False                             False   \n63322                 False                             False   \n63323                 False                             False   \n63324                  True                             False   \n63325                 False                             False   \n\n       Destination_ZAMBIA  Destination_ZIMBABWE  Gender_  Gender_F  Gender_M  \n0                   False                 False    False      True     False  \n1                   False                 False    False      True     False  \n2                   False                 False     True     False     False  \n3                   False                 False     True     False     False  \n4                   False                 False     True     False     False  \n...                   ...                   ...      ...       ...       ...  \n63321               False                 False    False     False      True  \n63322               False                 False    False      True     False  \n63323               False                 False    False     False      True  \n63324               False                 False    False     False      True  \n63325               False                 False    False      True     False  \n\n[63326 rows x 203 columns]",
      "text/html": "<div>\n<style scoped>\n    .dataframe tbody tr th:only-of-type {\n        vertical-align: middle;\n    }\n\n    .dataframe tbody tr th {\n        vertical-align: top;\n    }\n\n    .dataframe thead th {\n        text-align: right;\n    }\n</style>\n<table border=\"1\" class=\"dataframe\">\n  <thead>\n    <tr style=\"text-align: right;\">\n      <th></th>\n      <th>Duration</th>\n      <th>Net Sales</th>\n      <th>Commision (in value)</th>\n      <th>Age</th>\n      <th>Claim</th>\n      <th>Agency_ADM</th>\n      <th>Agency_ART</th>\n      <th>Agency_C2B</th>\n      <th>Agency_CBH</th>\n      <th>Agency_CCR</th>\n      <th>...</th>\n      <th>Destination_UZBEKISTAN</th>\n      <th>Destination_VANUATU</th>\n      <th>Destination_VENEZUELA</th>\n      <th>Destination_VIET NAM</th>\n      <th>Destination_VIRGIN ISLANDS, U.S.</th>\n      <th>Destination_ZAMBIA</th>\n      <th>Destination_ZIMBABWE</th>\n      <th>Gender_</th>\n      <th>Gender_F</th>\n      <th>Gender_M</th>\n    </tr>\n  </thead>\n  <tbody>\n    <tr>\n      <th>0</th>\n      <td>186.0</td>\n      <td>-29.0</td>\n      <td>9.57</td>\n      <td>81.0</td>\n      <td>0</td>\n      <td>False</td>\n      <td>False</td>\n      <td>False</td>\n      <td>True</td>\n      <td>False</td>\n      <td>...</td>\n      <td>False</td>\n      <td>False</td>\n      <td>False</td>\n      <td>False</td>\n      <td>False</td>\n      <td>False</td>\n      <td>False</td>\n      <td>False</td>\n      <td>True</td>\n      <td>False</td>\n    </tr>\n    <tr>\n      <th>1</th>\n      <td>186.0</td>\n      <td>-29.0</td>\n      <td>9.57</td>\n      <td>71.0</td>\n      <td>0</td>\n      <td>False</td>\n      <td>False</td>\n      <td>False</td>\n      <td>True</td>\n      <td>False</td>\n      <td>...</td>\n      <td>False</td>\n      <td>False</td>\n      <td>False</td>\n      <td>False</td>\n      <td>False</td>\n      <td>False</td>\n      <td>False</td>\n      <td>False</td>\n      <td>True</td>\n      <td>False</td>\n    </tr>\n    <tr>\n      <th>2</th>\n      <td>65.0</td>\n      <td>-49.5</td>\n      <td>29.70</td>\n      <td>32.0</td>\n      <td>0</td>\n      <td>False</td>\n      <td>False</td>\n      <td>False</td>\n      <td>False</td>\n      <td>False</td>\n      <td>...</td>\n      <td>False</td>\n      <td>False</td>\n      <td>False</td>\n      <td>False</td>\n      <td>False</td>\n      <td>False</td>\n      <td>False</td>\n      <td>True</td>\n      <td>False</td>\n      <td>False</td>\n    </tr>\n    <tr>\n      <th>3</th>\n      <td>60.0</td>\n      <td>-39.6</td>\n      <td>23.76</td>\n      <td>32.0</td>\n      <td>0</td>\n      <td>False</td>\n      <td>False</td>\n      <td>False</td>\n      <td>False</td>\n      <td>False</td>\n      <td>...</td>\n      <td>False</td>\n      <td>False</td>\n      <td>False</td>\n      <td>False</td>\n      <td>False</td>\n      <td>False</td>\n      <td>False</td>\n      <td>True</td>\n      <td>False</td>\n      <td>False</td>\n    </tr>\n    <tr>\n      <th>4</th>\n      <td>79.0</td>\n      <td>-19.8</td>\n      <td>11.88</td>\n      <td>41.0</td>\n      <td>0</td>\n      <td>False</td>\n      <td>False</td>\n      <td>False</td>\n      <td>False</td>\n      <td>False</td>\n      <td>...</td>\n      <td>False</td>\n      <td>False</td>\n      <td>False</td>\n      <td>False</td>\n      <td>False</td>\n      <td>False</td>\n      <td>False</td>\n      <td>True</td>\n      <td>False</td>\n      <td>False</td>\n    </tr>\n    <tr>\n      <th>...</th>\n      <td>...</td>\n      <td>...</td>\n      <td>...</td>\n      <td>...</td>\n      <td>...</td>\n      <td>...</td>\n      <td>...</td>\n      <td>...</td>\n      <td>...</td>\n      <td>...</td>\n      <td>...</td>\n      <td>...</td>\n      <td>...</td>\n      <td>...</td>\n      <td>...</td>\n      <td>...</td>\n      <td>...</td>\n      <td>...</td>\n      <td>...</td>\n      <td>...</td>\n      <td>...</td>\n    </tr>\n    <tr>\n      <th>63321</th>\n      <td>111.0</td>\n      <td>35.0</td>\n      <td>12.25</td>\n      <td>31.0</td>\n      <td>0</td>\n      <td>False</td>\n      <td>False</td>\n      <td>False</td>\n      <td>False</td>\n      <td>False</td>\n      <td>...</td>\n      <td>False</td>\n      <td>False</td>\n      <td>False</td>\n      <td>False</td>\n      <td>False</td>\n      <td>False</td>\n      <td>False</td>\n      <td>False</td>\n      <td>False</td>\n      <td>True</td>\n    </tr>\n    <tr>\n      <th>63322</th>\n      <td>58.0</td>\n      <td>40.0</td>\n      <td>14.00</td>\n      <td>40.0</td>\n      <td>0</td>\n      <td>False</td>\n      <td>False</td>\n      <td>False</td>\n      <td>False</td>\n      <td>False</td>\n      <td>...</td>\n      <td>False</td>\n      <td>False</td>\n      <td>False</td>\n      <td>False</td>\n      <td>False</td>\n      <td>False</td>\n      <td>False</td>\n      <td>False</td>\n      <td>True</td>\n      <td>False</td>\n    </tr>\n    <tr>\n      <th>63323</th>\n      <td>2.0</td>\n      <td>18.0</td>\n      <td>6.30</td>\n      <td>57.0</td>\n      <td>0</td>\n      <td>False</td>\n      <td>False</td>\n      <td>False</td>\n      <td>False</td>\n      <td>False</td>\n      <td>...</td>\n      <td>False</td>\n      <td>False</td>\n      <td>False</td>\n      <td>False</td>\n      <td>False</td>\n      <td>False</td>\n      <td>False</td>\n      <td>False</td>\n      <td>False</td>\n      <td>True</td>\n    </tr>\n    <tr>\n      <th>63324</th>\n      <td>3.0</td>\n      <td>18.0</td>\n      <td>6.30</td>\n      <td>63.0</td>\n      <td>0</td>\n      <td>False</td>\n      <td>False</td>\n      <td>False</td>\n      <td>False</td>\n      <td>False</td>\n      <td>...</td>\n      <td>False</td>\n      <td>False</td>\n      <td>False</td>\n      <td>True</td>\n      <td>False</td>\n      <td>False</td>\n      <td>False</td>\n      <td>False</td>\n      <td>False</td>\n      <td>True</td>\n    </tr>\n    <tr>\n      <th>63325</th>\n      <td>22.0</td>\n      <td>26.0</td>\n      <td>9.10</td>\n      <td>35.0</td>\n      <td>0</td>\n      <td>False</td>\n      <td>False</td>\n      <td>False</td>\n      <td>False</td>\n      <td>False</td>\n      <td>...</td>\n      <td>False</td>\n      <td>False</td>\n      <td>False</td>\n      <td>False</td>\n      <td>False</td>\n      <td>False</td>\n      <td>False</td>\n      <td>False</td>\n      <td>True</td>\n      <td>False</td>\n    </tr>\n  </tbody>\n</table>\n<p>63326 rows × 203 columns</p>\n</div>"
     },
     "execution_count": 7,
     "metadata": {},
     "output_type": "execute_result"
    }
   ],
   "source": [
    "df_one_hot=pd.get_dummies(df_mod)\n",
    "df_one_hot"
   ],
   "metadata": {
    "collapsed": false,
    "ExecuteTime": {
     "end_time": "2023-10-25T15:51:06.268893Z",
     "start_time": "2023-10-25T15:51:06.191212Z"
    }
   }
  },
  {
   "cell_type": "code",
   "execution_count": 8,
   "outputs": [
    {
     "data": {
      "text/plain": "[       Duration  Net Sales  Commision (in value)   Age  Claim  Agency_ADM  \\\n 0          True       True                  True  True   True        True   \n 1          True       True                  True  True   True        True   \n 2          True       True                  True  True   True        True   \n 3          True       True                  True  True   True        True   \n 4          True       True                  True  True   True        True   \n ...         ...        ...                   ...   ...    ...         ...   \n 63321      True       True                  True  True   True        True   \n 63322      True       True                  True  True   True        True   \n 63323      True       True                  True  True   True        True   \n 63324      True       True                  True  True   True        True   \n 63325      True       True                  True  True   True        True   \n \n        Agency_ART  Agency_C2B  Agency_CBH  Agency_CCR  ...  \\\n 0            True        True        True        True  ...   \n 1            True        True        True        True  ...   \n 2            True        True        True        True  ...   \n 3            True        True        True        True  ...   \n 4            True        True        True        True  ...   \n ...           ...         ...         ...         ...  ...   \n 63321        True        True        True        True  ...   \n 63322        True        True        True        True  ...   \n 63323        True        True        True        True  ...   \n 63324        True        True        True        True  ...   \n 63325        True        True        True        True  ...   \n \n        Destination_UZBEKISTAN  Destination_VANUATU  Destination_VENEZUELA  \\\n 0                        True                 True                   True   \n 1                        True                 True                   True   \n 2                        True                 True                   True   \n 3                        True                 True                   True   \n 4                        True                 True                   True   \n ...                       ...                  ...                    ...   \n 63321                    True                 True                   True   \n 63322                    True                 True                   True   \n 63323                    True                 True                   True   \n 63324                    True                 True                   True   \n 63325                    True                 True                   True   \n \n        Destination_VIET NAM  Destination_VIRGIN ISLANDS, U.S.  \\\n 0                      True                              True   \n 1                      True                              True   \n 2                      True                              True   \n 3                      True                              True   \n 4                      True                              True   \n ...                     ...                               ...   \n 63321                  True                              True   \n 63322                  True                              True   \n 63323                  True                              True   \n 63324                  True                              True   \n 63325                  True                              True   \n \n        Destination_ZAMBIA  Destination_ZIMBABWE  Gender_  Gender_F  Gender_M  \n 0                    True                  True     True      True      True  \n 1                    True                  True     True      True      True  \n 2                    True                  True     True      True      True  \n 3                    True                  True     True      True      True  \n 4                    True                  True     True      True      True  \n ...                   ...                   ...      ...       ...       ...  \n 63321                True                  True     True      True      True  \n 63322                True                  True     True      True      True  \n 63323                True                  True     True      True      True  \n 63324                True                  True     True      True      True  \n 63325                True                  True     True      True      True  \n \n [63326 rows x 203 columns]]"
     },
     "execution_count": 8,
     "metadata": {},
     "output_type": "execute_result"
    }
   ],
   "source": [
    "# Now lets use one hot encoding to change categorical features to a numerical\n",
    "df_encoded=df_mod.copy()\n",
    "dict_for_downsampling=dict()\n",
    "for i in df_mod:\n",
    "    if df_mod[i].dtype=='object':\n",
    "        data_to_convert=df_mod[i]\n",
    "        one_hot_encoded,dict_=onehot_encoding(data_to_convert,column_name=i)\n",
    "        dict_for_downsampling[i]=dict_[i]\n",
    "        df_encoded=df_encoded.drop(i,axis=1)\n",
    "        df_encoded=pd.concat([df_encoded,one_hot_encoded],axis=1)\n",
    "[df_encoded==df_one_hot]\n",
    "# As you can see my function works as well as the original one (all features are the same)"
   ],
   "metadata": {
    "collapsed": false,
    "ExecuteTime": {
     "end_time": "2023-10-25T15:51:07.127673Z",
     "start_time": "2023-10-25T15:51:06.259016Z"
    }
   }
  },
  {
   "cell_type": "code",
   "execution_count": 9,
   "outputs": [
    {
     "name": "stdout",
     "output_type": "stream",
     "text": [
      "[[0.30025021 0.03375661]\n",
      " [0.30025021 0.03375661]\n",
      " [0.28315263 0.1047619 ]\n",
      " ...\n",
      " [0.33944954 0.02222222]\n",
      " [0.33944954 0.02222222]\n",
      " [0.34612177 0.03209877]]\n"
     ]
    }
   ],
   "source": [
    "# Now i want to test hot sklearn MinMax scaller works\n",
    "from sklearn.preprocessing import MinMaxScaler\n",
    "originally_num_columns=['Net Sales','Commision (in value)']\n",
    "skaler_matrix=df_encoded[originally_num_columns].copy()\n",
    "scaler = MinMaxScaler()\n",
    "scaler.fit(skaler_matrix)\n",
    "print(scaler.transform(skaler_matrix))"
   ],
   "metadata": {
    "collapsed": false,
    "ExecuteTime": {
     "end_time": "2023-10-25T15:51:07.131437Z",
     "start_time": "2023-10-25T15:51:07.124399Z"
    }
   }
  },
  {
   "cell_type": "code",
   "execution_count": 10,
   "outputs": [
    {
     "data": {
      "text/plain": "              0         1\n0      0.300250  0.033757\n1      0.300250  0.033757\n2      0.283153  0.104762\n3      0.291410  0.083810\n4      0.307923  0.041905\n...         ...       ...\n63321  0.353628  0.043210\n63322  0.357798  0.049383\n63323  0.339450  0.022222\n63324  0.339450  0.022222\n63325  0.346122  0.032099\n\n[63326 rows x 2 columns]",
      "text/html": "<div>\n<style scoped>\n    .dataframe tbody tr th:only-of-type {\n        vertical-align: middle;\n    }\n\n    .dataframe tbody tr th {\n        vertical-align: top;\n    }\n\n    .dataframe thead th {\n        text-align: right;\n    }\n</style>\n<table border=\"1\" class=\"dataframe\">\n  <thead>\n    <tr style=\"text-align: right;\">\n      <th></th>\n      <th>0</th>\n      <th>1</th>\n    </tr>\n  </thead>\n  <tbody>\n    <tr>\n      <th>0</th>\n      <td>0.300250</td>\n      <td>0.033757</td>\n    </tr>\n    <tr>\n      <th>1</th>\n      <td>0.300250</td>\n      <td>0.033757</td>\n    </tr>\n    <tr>\n      <th>2</th>\n      <td>0.283153</td>\n      <td>0.104762</td>\n    </tr>\n    <tr>\n      <th>3</th>\n      <td>0.291410</td>\n      <td>0.083810</td>\n    </tr>\n    <tr>\n      <th>4</th>\n      <td>0.307923</td>\n      <td>0.041905</td>\n    </tr>\n    <tr>\n      <th>...</th>\n      <td>...</td>\n      <td>...</td>\n    </tr>\n    <tr>\n      <th>63321</th>\n      <td>0.353628</td>\n      <td>0.043210</td>\n    </tr>\n    <tr>\n      <th>63322</th>\n      <td>0.357798</td>\n      <td>0.049383</td>\n    </tr>\n    <tr>\n      <th>63323</th>\n      <td>0.339450</td>\n      <td>0.022222</td>\n    </tr>\n    <tr>\n      <th>63324</th>\n      <td>0.339450</td>\n      <td>0.022222</td>\n    </tr>\n    <tr>\n      <th>63325</th>\n      <td>0.346122</td>\n      <td>0.032099</td>\n    </tr>\n  </tbody>\n</table>\n<p>63326 rows × 2 columns</p>\n</div>"
     },
     "execution_count": 10,
     "metadata": {},
     "output_type": "execute_result"
    }
   ],
   "source": [
    "# Now let's normalize the numerical data using MinMaxScale\n",
    "\n",
    "# categorical features are dropped\n",
    "numerical_df=df_encoded[originally_num_columns].copy()\n",
    "numerical_df=pd.DataFrame(minmax_scale(numerical_df.values))\n",
    "numerical_df\n",
    "# Result of my function is almost the same as the sklearn's (my numbers are rounded to 6 decimals)"
   ],
   "metadata": {
    "collapsed": false,
    "ExecuteTime": {
     "end_time": "2023-10-25T15:51:07.144523Z",
     "start_time": "2023-10-25T15:51:07.130264Z"
    }
   }
  },
  {
   "cell_type": "code",
   "execution_count": 11,
   "outputs": [
    {
     "data": {
      "text/plain": "       Duration  Net Sales  Commision (in value)   Age  Claim  Agency_ADM  \\\n0         186.0   0.300250              0.033757  81.0      0           0   \n1         186.0   0.300250              0.033757  71.0      0           0   \n2          65.0   0.283153              0.104762  32.0      0           0   \n3          60.0   0.291410              0.083810  32.0      0           0   \n4          79.0   0.307923              0.041905  41.0      0           0   \n...         ...        ...                   ...   ...    ...         ...   \n63321     111.0   0.353628              0.043210  31.0      0           0   \n63322      58.0   0.357798              0.049383  40.0      0           0   \n63323       2.0   0.339450              0.022222  57.0      0           0   \n63324       3.0   0.339450              0.022222  63.0      0           0   \n63325      22.0   0.346122              0.032099  35.0      0           0   \n\n       Agency_ART  Agency_C2B  Agency_CBH  Agency_CCR  ...  \\\n0               0           0           1           0  ...   \n1               0           0           1           0  ...   \n2               0           0           0           0  ...   \n3               0           0           0           0  ...   \n4               0           0           0           0  ...   \n...           ...         ...         ...         ...  ...   \n63321           0           0           0           0  ...   \n63322           0           0           0           0  ...   \n63323           0           0           0           0  ...   \n63324           0           0           0           0  ...   \n63325           0           0           0           0  ...   \n\n       Destination_UZBEKISTAN  Destination_VANUATU  Destination_VENEZUELA  \\\n0                           0                    0                      0   \n1                           0                    0                      0   \n2                           0                    0                      0   \n3                           0                    0                      0   \n4                           0                    0                      0   \n...                       ...                  ...                    ...   \n63321                       0                    0                      0   \n63322                       0                    0                      0   \n63323                       0                    0                      0   \n63324                       0                    0                      0   \n63325                       0                    0                      0   \n\n       Destination_VIET NAM  Destination_VIRGIN ISLANDS, U.S.  \\\n0                         0                                 0   \n1                         0                                 0   \n2                         0                                 0   \n3                         0                                 0   \n4                         0                                 0   \n...                     ...                               ...   \n63321                     0                                 0   \n63322                     0                                 0   \n63323                     0                                 0   \n63324                     1                                 0   \n63325                     0                                 0   \n\n       Destination_ZAMBIA  Destination_ZIMBABWE  Gender_  Gender_F  Gender_M  \n0                       0                     0        0         1         0  \n1                       0                     0        0         1         0  \n2                       0                     0        1         0         0  \n3                       0                     0        1         0         0  \n4                       0                     0        1         0         0  \n...                   ...                   ...      ...       ...       ...  \n63321                   0                     0        0         0         1  \n63322                   0                     0        0         1         0  \n63323                   0                     0        0         0         1  \n63324                   0                     0        0         0         1  \n63325                   0                     0        0         1         0  \n\n[63326 rows x 203 columns]",
      "text/html": "<div>\n<style scoped>\n    .dataframe tbody tr th:only-of-type {\n        vertical-align: middle;\n    }\n\n    .dataframe tbody tr th {\n        vertical-align: top;\n    }\n\n    .dataframe thead th {\n        text-align: right;\n    }\n</style>\n<table border=\"1\" class=\"dataframe\">\n  <thead>\n    <tr style=\"text-align: right;\">\n      <th></th>\n      <th>Duration</th>\n      <th>Net Sales</th>\n      <th>Commision (in value)</th>\n      <th>Age</th>\n      <th>Claim</th>\n      <th>Agency_ADM</th>\n      <th>Agency_ART</th>\n      <th>Agency_C2B</th>\n      <th>Agency_CBH</th>\n      <th>Agency_CCR</th>\n      <th>...</th>\n      <th>Destination_UZBEKISTAN</th>\n      <th>Destination_VANUATU</th>\n      <th>Destination_VENEZUELA</th>\n      <th>Destination_VIET NAM</th>\n      <th>Destination_VIRGIN ISLANDS, U.S.</th>\n      <th>Destination_ZAMBIA</th>\n      <th>Destination_ZIMBABWE</th>\n      <th>Gender_</th>\n      <th>Gender_F</th>\n      <th>Gender_M</th>\n    </tr>\n  </thead>\n  <tbody>\n    <tr>\n      <th>0</th>\n      <td>186.0</td>\n      <td>0.300250</td>\n      <td>0.033757</td>\n      <td>81.0</td>\n      <td>0</td>\n      <td>0</td>\n      <td>0</td>\n      <td>0</td>\n      <td>1</td>\n      <td>0</td>\n      <td>...</td>\n      <td>0</td>\n      <td>0</td>\n      <td>0</td>\n      <td>0</td>\n      <td>0</td>\n      <td>0</td>\n      <td>0</td>\n      <td>0</td>\n      <td>1</td>\n      <td>0</td>\n    </tr>\n    <tr>\n      <th>1</th>\n      <td>186.0</td>\n      <td>0.300250</td>\n      <td>0.033757</td>\n      <td>71.0</td>\n      <td>0</td>\n      <td>0</td>\n      <td>0</td>\n      <td>0</td>\n      <td>1</td>\n      <td>0</td>\n      <td>...</td>\n      <td>0</td>\n      <td>0</td>\n      <td>0</td>\n      <td>0</td>\n      <td>0</td>\n      <td>0</td>\n      <td>0</td>\n      <td>0</td>\n      <td>1</td>\n      <td>0</td>\n    </tr>\n    <tr>\n      <th>2</th>\n      <td>65.0</td>\n      <td>0.283153</td>\n      <td>0.104762</td>\n      <td>32.0</td>\n      <td>0</td>\n      <td>0</td>\n      <td>0</td>\n      <td>0</td>\n      <td>0</td>\n      <td>0</td>\n      <td>...</td>\n      <td>0</td>\n      <td>0</td>\n      <td>0</td>\n      <td>0</td>\n      <td>0</td>\n      <td>0</td>\n      <td>0</td>\n      <td>1</td>\n      <td>0</td>\n      <td>0</td>\n    </tr>\n    <tr>\n      <th>3</th>\n      <td>60.0</td>\n      <td>0.291410</td>\n      <td>0.083810</td>\n      <td>32.0</td>\n      <td>0</td>\n      <td>0</td>\n      <td>0</td>\n      <td>0</td>\n      <td>0</td>\n      <td>0</td>\n      <td>...</td>\n      <td>0</td>\n      <td>0</td>\n      <td>0</td>\n      <td>0</td>\n      <td>0</td>\n      <td>0</td>\n      <td>0</td>\n      <td>1</td>\n      <td>0</td>\n      <td>0</td>\n    </tr>\n    <tr>\n      <th>4</th>\n      <td>79.0</td>\n      <td>0.307923</td>\n      <td>0.041905</td>\n      <td>41.0</td>\n      <td>0</td>\n      <td>0</td>\n      <td>0</td>\n      <td>0</td>\n      <td>0</td>\n      <td>0</td>\n      <td>...</td>\n      <td>0</td>\n      <td>0</td>\n      <td>0</td>\n      <td>0</td>\n      <td>0</td>\n      <td>0</td>\n      <td>0</td>\n      <td>1</td>\n      <td>0</td>\n      <td>0</td>\n    </tr>\n    <tr>\n      <th>...</th>\n      <td>...</td>\n      <td>...</td>\n      <td>...</td>\n      <td>...</td>\n      <td>...</td>\n      <td>...</td>\n      <td>...</td>\n      <td>...</td>\n      <td>...</td>\n      <td>...</td>\n      <td>...</td>\n      <td>...</td>\n      <td>...</td>\n      <td>...</td>\n      <td>...</td>\n      <td>...</td>\n      <td>...</td>\n      <td>...</td>\n      <td>...</td>\n      <td>...</td>\n      <td>...</td>\n    </tr>\n    <tr>\n      <th>63321</th>\n      <td>111.0</td>\n      <td>0.353628</td>\n      <td>0.043210</td>\n      <td>31.0</td>\n      <td>0</td>\n      <td>0</td>\n      <td>0</td>\n      <td>0</td>\n      <td>0</td>\n      <td>0</td>\n      <td>...</td>\n      <td>0</td>\n      <td>0</td>\n      <td>0</td>\n      <td>0</td>\n      <td>0</td>\n      <td>0</td>\n      <td>0</td>\n      <td>0</td>\n      <td>0</td>\n      <td>1</td>\n    </tr>\n    <tr>\n      <th>63322</th>\n      <td>58.0</td>\n      <td>0.357798</td>\n      <td>0.049383</td>\n      <td>40.0</td>\n      <td>0</td>\n      <td>0</td>\n      <td>0</td>\n      <td>0</td>\n      <td>0</td>\n      <td>0</td>\n      <td>...</td>\n      <td>0</td>\n      <td>0</td>\n      <td>0</td>\n      <td>0</td>\n      <td>0</td>\n      <td>0</td>\n      <td>0</td>\n      <td>0</td>\n      <td>1</td>\n      <td>0</td>\n    </tr>\n    <tr>\n      <th>63323</th>\n      <td>2.0</td>\n      <td>0.339450</td>\n      <td>0.022222</td>\n      <td>57.0</td>\n      <td>0</td>\n      <td>0</td>\n      <td>0</td>\n      <td>0</td>\n      <td>0</td>\n      <td>0</td>\n      <td>...</td>\n      <td>0</td>\n      <td>0</td>\n      <td>0</td>\n      <td>0</td>\n      <td>0</td>\n      <td>0</td>\n      <td>0</td>\n      <td>0</td>\n      <td>0</td>\n      <td>1</td>\n    </tr>\n    <tr>\n      <th>63324</th>\n      <td>3.0</td>\n      <td>0.339450</td>\n      <td>0.022222</td>\n      <td>63.0</td>\n      <td>0</td>\n      <td>0</td>\n      <td>0</td>\n      <td>0</td>\n      <td>0</td>\n      <td>0</td>\n      <td>...</td>\n      <td>0</td>\n      <td>0</td>\n      <td>0</td>\n      <td>1</td>\n      <td>0</td>\n      <td>0</td>\n      <td>0</td>\n      <td>0</td>\n      <td>0</td>\n      <td>1</td>\n    </tr>\n    <tr>\n      <th>63325</th>\n      <td>22.0</td>\n      <td>0.346122</td>\n      <td>0.032099</td>\n      <td>35.0</td>\n      <td>0</td>\n      <td>0</td>\n      <td>0</td>\n      <td>0</td>\n      <td>0</td>\n      <td>0</td>\n      <td>...</td>\n      <td>0</td>\n      <td>0</td>\n      <td>0</td>\n      <td>0</td>\n      <td>0</td>\n      <td>0</td>\n      <td>0</td>\n      <td>0</td>\n      <td>1</td>\n      <td>0</td>\n    </tr>\n  </tbody>\n</table>\n<p>63326 rows × 203 columns</p>\n</div>"
     },
     "execution_count": 11,
     "metadata": {},
     "output_type": "execute_result"
    }
   ],
   "source": [
    "# We have numerical_df dataset with numerical normalized data and df_encoded with one_hot_encoded values\n",
    "numerical_df.columns=originally_num_columns\n",
    "for columns in numerical_df.columns:\n",
    "    df_encoded[columns]=numerical_df[columns]\n",
    "df_downsampling=df_encoded.copy()\n",
    "df_encoded\n",
    "# This DataFrame contains numerical data (normalized with MinMaxScale) and converted categorical data"
   ],
   "metadata": {
    "collapsed": false,
    "ExecuteTime": {
     "end_time": "2023-10-25T15:51:07.237099Z",
     "start_time": "2023-10-25T15:51:07.137560Z"
    }
   }
  },
  {
   "cell_type": "markdown",
   "metadata": {},
   "source": [
    "Подробный анализ и подготовка датасета часто помогают улучшить качество модели. Ниже представлено несколько идей преобразований. Вы можете применить одно или несколько из этих преобразований (а можете не применять), чтобы помочь будущей модели. \n",
    "\n",
    "1. Посмотрите на количественные признаки. Возможно, в некоторых признаках есть выбросы - значения, которые сильно выбиваются. Такие значения полезно удалять. Советуем присмотреться к колонке Duration)\n",
    "\n",
    "2. Можно заметить, что one hot encoding сильно раздувает количество столбцов. Радикальное решение - можно попробовать выбросить все категориальные признаки из датасета.\n",
    "\n",
    "3. Если все-таки оставляете категориальные признаки, то подумайте, как уменьшить количество столбцов после one hot encoding. Признаки с большим количеством значений (Duration - 149! разных стран) можно удалить или попробовать сгруппировать некоторые значения.\n",
    "\n",
    "4. Downsampling. Датасет достаточно большой, разница в классах огромная. Можно уменьшить число наблюдений с частым ответом."
   ]
  },
  {
   "cell_type": "code",
   "execution_count": 12,
   "metadata": {
    "ExecuteTime": {
     "end_time": "2023-10-25T15:51:07.535567Z",
     "start_time": "2023-10-25T15:51:07.194638Z"
    }
   },
   "outputs": [
    {
     "data": {
      "text/plain": "(array([4.5369e+04, 1.0343e+04, 3.1680e+03, 1.3670e+03, 6.4100e+02,\n        3.3400e+02, 1.2600e+02, 1.6640e+03, 2.5900e+02, 2.6000e+01,\n        1.2000e+01, 2.0000e+00, 0.0000e+00, 0.0000e+00, 0.0000e+00,\n        1.0000e+00, 0.0000e+00, 0.0000e+00, 0.0000e+00, 0.0000e+00,\n        0.0000e+00, 0.0000e+00, 0.0000e+00, 0.0000e+00, 0.0000e+00,\n        0.0000e+00, 0.0000e+00, 0.0000e+00, 0.0000e+00, 0.0000e+00,\n        0.0000e+00, 0.0000e+00, 0.0000e+00, 0.0000e+00, 0.0000e+00,\n        0.0000e+00, 0.0000e+00, 0.0000e+00, 0.0000e+00, 0.0000e+00,\n        0.0000e+00, 0.0000e+00, 0.0000e+00, 0.0000e+00, 0.0000e+00,\n        0.0000e+00, 0.0000e+00, 0.0000e+00, 0.0000e+00, 0.0000e+00,\n        0.0000e+00, 0.0000e+00, 0.0000e+00, 0.0000e+00, 0.0000e+00,\n        0.0000e+00, 0.0000e+00, 0.0000e+00, 0.0000e+00, 0.0000e+00,\n        0.0000e+00, 0.0000e+00, 0.0000e+00, 0.0000e+00, 0.0000e+00,\n        0.0000e+00, 0.0000e+00, 0.0000e+00, 0.0000e+00, 0.0000e+00,\n        0.0000e+00, 0.0000e+00, 0.0000e+00, 0.0000e+00, 0.0000e+00,\n        0.0000e+00, 0.0000e+00, 0.0000e+00, 0.0000e+00, 0.0000e+00,\n        0.0000e+00, 0.0000e+00, 0.0000e+00, 0.0000e+00, 0.0000e+00,\n        0.0000e+00, 0.0000e+00, 0.0000e+00, 0.0000e+00, 0.0000e+00,\n        0.0000e+00, 0.0000e+00, 0.0000e+00, 1.0000e+00, 1.0000e+00,\n        2.0000e+00, 0.0000e+00, 2.0000e+00, 4.0000e+00, 4.0000e+00]),\n array([-2.00000e+00,  4.68300e+01,  9.56600e+01,  1.44490e+02,\n         1.93320e+02,  2.42150e+02,  2.90980e+02,  3.39810e+02,\n         3.88640e+02,  4.37470e+02,  4.86300e+02,  5.35130e+02,\n         5.83960e+02,  6.32790e+02,  6.81620e+02,  7.30450e+02,\n         7.79280e+02,  8.28110e+02,  8.76940e+02,  9.25770e+02,\n         9.74600e+02,  1.02343e+03,  1.07226e+03,  1.12109e+03,\n         1.16992e+03,  1.21875e+03,  1.26758e+03,  1.31641e+03,\n         1.36524e+03,  1.41407e+03,  1.46290e+03,  1.51173e+03,\n         1.56056e+03,  1.60939e+03,  1.65822e+03,  1.70705e+03,\n         1.75588e+03,  1.80471e+03,  1.85354e+03,  1.90237e+03,\n         1.95120e+03,  2.00003e+03,  2.04886e+03,  2.09769e+03,\n         2.14652e+03,  2.19535e+03,  2.24418e+03,  2.29301e+03,\n         2.34184e+03,  2.39067e+03,  2.43950e+03,  2.48833e+03,\n         2.53716e+03,  2.58599e+03,  2.63482e+03,  2.68365e+03,\n         2.73248e+03,  2.78131e+03,  2.83014e+03,  2.87897e+03,\n         2.92780e+03,  2.97663e+03,  3.02546e+03,  3.07429e+03,\n         3.12312e+03,  3.17195e+03,  3.22078e+03,  3.26961e+03,\n         3.31844e+03,  3.36727e+03,  3.41610e+03,  3.46493e+03,\n         3.51376e+03,  3.56259e+03,  3.61142e+03,  3.66025e+03,\n         3.70908e+03,  3.75791e+03,  3.80674e+03,  3.85557e+03,\n         3.90440e+03,  3.95323e+03,  4.00206e+03,  4.05089e+03,\n         4.09972e+03,  4.14855e+03,  4.19738e+03,  4.24621e+03,\n         4.29504e+03,  4.34387e+03,  4.39270e+03,  4.44153e+03,\n         4.49036e+03,  4.53919e+03,  4.58802e+03,  4.63685e+03,\n         4.68568e+03,  4.73451e+03,  4.78334e+03,  4.83217e+03,\n         4.88100e+03]),\n <BarContainer object of 100 artists>)"
     },
     "execution_count": 12,
     "metadata": {},
     "output_type": "execute_result"
    },
    {
     "data": {
      "text/plain": "<Figure size 500x300 with 1 Axes>",
      "image/png": "[encoded data removed]"
     },
     "metadata": {},
     "output_type": "display_data"
    }
   ],
   "source": [
    "# Now i want to analyze extremely small or big values in 'Duration' column\n",
    "# Let's plot this category\n",
    "# modified dataset is called df_encoded\n",
    "duration=df_encoded['Duration']\n",
    "plt.figure(figsize=(5, 3))\n",
    "plt.xlabel('Value')\n",
    "plt.ylabel('Frequency')\n",
    "plt.hist(duration,bins=100)\n",
    "# as you can see, there are many points that have a huge value (duration>5000) "
   ]
  },
  {
   "cell_type": "code",
   "execution_count": 13,
   "outputs": [
    {
     "name": "stdout",
     "output_type": "stream",
     "text": [
      "14943      -2.0\n",
      "52587      -1.0\n",
      "52588      -1.0\n",
      "59528      -1.0\n",
      "56668      -1.0\n",
      "          ...  \n",
      "12059    4831.0\n",
      "9232     4844.0\n",
      "8686     4847.0\n",
      "6847     4857.0\n",
      "3025     4881.0\n",
      "Name: Duration, Length: 63326, dtype: float64\n",
      "4881.0 -2.0\n",
      "196\n",
      "0        186.0\n",
      "1        186.0\n",
      "2         65.0\n",
      "3         60.0\n",
      "4         79.0\n",
      "         ...  \n",
      "63321    111.0\n",
      "63322     58.0\n",
      "63323      2.0\n",
      "63324      3.0\n",
      "63325     22.0\n",
      "Name: Duration, Length: 63119, dtype: float64\n"
     ]
    }
   ],
   "source": [
    "# This may affect the future data fitting, to solve that I will drop columns where duration<0 or duration>400\n",
    "print(duration.sort_values())\n",
    "print(duration.max(),duration.min())\n",
    "# how many elements > 400\n",
    "print((duration>400).sum())\n",
    "# drop extreme values\n",
    "filtered_duration=duration[(duration >= 0) & (duration < 400)]\n",
    "print(filtered_duration)"
   ],
   "metadata": {
    "collapsed": false,
    "ExecuteTime": {
     "end_time": "2023-10-25T15:51:07.535862Z",
     "start_time": "2023-10-25T15:51:07.413834Z"
    }
   }
  },
  {
   "cell_type": "code",
   "execution_count": 14,
   "outputs": [
    {
     "data": {
      "text/plain": "(array([4.059e+03, 8.111e+03, 7.141e+03, 5.345e+03, 4.390e+03, 3.507e+03,\n        3.012e+03, 2.584e+03, 2.371e+03, 2.007e+03, 1.764e+03, 1.434e+03,\n        1.340e+03, 1.243e+03, 1.075e+03, 9.560e+02, 8.710e+02, 8.100e+02,\n        7.770e+02, 6.680e+02, 6.450e+02, 5.690e+02, 5.260e+02, 5.020e+02,\n        4.130e+02, 4.110e+02, 3.510e+02, 3.080e+02, 2.920e+02, 2.730e+02,\n        2.070e+02, 1.970e+02, 1.890e+02, 1.790e+02, 1.610e+02, 1.510e+02,\n        1.640e+02, 1.540e+02, 1.420e+02, 1.360e+02, 1.320e+02, 1.120e+02,\n        8.200e+01, 8.900e+01, 8.300e+01, 8.700e+01, 7.900e+01, 1.030e+02,\n        7.200e+01, 7.400e+01, 6.300e+01, 5.600e+01, 5.300e+01, 5.700e+01,\n        4.100e+01, 4.500e+01, 5.700e+01, 3.900e+01, 5.200e+01, 3.800e+01,\n        4.600e+01, 4.600e+01, 2.500e+01, 3.400e+01, 2.100e+01, 2.800e+01,\n        2.800e+01, 3.300e+01, 3.300e+01, 2.800e+01, 2.000e+01, 1.500e+01,\n        1.600e+01, 1.100e+01, 1.300e+01, 1.300e+01, 1.300e+01, 1.100e+01,\n        1.300e+01, 1.100e+01, 1.100e+01, 1.400e+01, 9.000e+00, 2.000e+00,\n        0.000e+00, 1.000e+00, 0.000e+00, 2.000e+00, 1.000e+00, 0.000e+00,\n        1.000e+00, 9.450e+02, 2.810e+02, 1.610e+02, 1.000e+02, 8.500e+01,\n        7.200e+01, 5.800e+01, 3.600e+01, 3.300e+01]),\n array([  0.  ,   3.99,   7.98,  11.97,  15.96,  19.95,  23.94,  27.93,\n         31.92,  35.91,  39.9 ,  43.89,  47.88,  51.87,  55.86,  59.85,\n         63.84,  67.83,  71.82,  75.81,  79.8 ,  83.79,  87.78,  91.77,\n         95.76,  99.75, 103.74, 107.73, 111.72, 115.71, 119.7 , 123.69,\n        127.68, 131.67, 135.66, 139.65, 143.64, 147.63, 151.62, 155.61,\n        159.6 , 163.59, 167.58, 171.57, 175.56, 179.55, 183.54, 187.53,\n        191.52, 195.51, 199.5 , 203.49, 207.48, 211.47, 215.46, 219.45,\n        223.44, 227.43, 231.42, 235.41, 239.4 , 243.39, 247.38, 251.37,\n        255.36, 259.35, 263.34, 267.33, 271.32, 275.31, 279.3 , 283.29,\n        287.28, 291.27, 295.26, 299.25, 303.24, 307.23, 311.22, 315.21,\n        319.2 , 323.19, 327.18, 331.17, 335.16, 339.15, 343.14, 347.13,\n        351.12, 355.11, 359.1 , 363.09, 367.08, 371.07, 375.06, 379.05,\n        383.04, 387.03, 391.02, 395.01, 399.  ]),\n <BarContainer object of 100 artists>)"
     },
     "execution_count": 14,
     "metadata": {},
     "output_type": "execute_result"
    },
    {
     "data": {
      "text/plain": "<Figure size 500x300 with 1 Axes>",
      "image/png": "[encoded data removed]"
     },
     "metadata": {},
     "output_type": "display_data"
    }
   ],
   "source": [
    "# plot the filtered duration\n",
    "plt.figure(figsize=(5, 3))\n",
    "plt.xlabel('Value')\n",
    "plt.ylabel('Frequency')\n",
    "plt.hist(filtered_duration,bins=100)\n",
    "# now our graph looks natural (without extreme values)"
   ],
   "metadata": {
    "collapsed": false,
    "ExecuteTime": {
     "end_time": "2023-10-25T15:51:07.657286Z",
     "start_time": "2023-10-25T15:51:07.467214Z"
    }
   }
  },
  {
   "cell_type": "code",
   "execution_count": 15,
   "outputs": [
    {
     "name": "stdout",
     "output_type": "stream",
     "text": [
      "33\n"
     ]
    },
    {
     "data": {
      "text/plain": "<Figure size 500x300 with 1 Axes>",
      "image/png": "[encoded data removed]"
     },
     "metadata": {},
     "output_type": "display_data"
    }
   ],
   "source": [
    "plt.figure(figsize=(5, 3))\n",
    "plt.xlabel('Value')\n",
    "plt.ylabel('Frequency')\n",
    "plt.hist(df_encoded['Age'],bins=100)\n",
    "# age column also contain extreme values\n",
    "print((df_encoded['Age'] < 10).sum())\n",
    "# or df_encoded['Age'] > 100"
   ],
   "metadata": {
    "collapsed": false,
    "ExecuteTime": {
     "end_time": "2023-10-25T15:51:07.815667Z",
     "start_time": "2023-10-25T15:51:07.653027Z"
    }
   }
  },
  {
   "cell_type": "code",
   "execution_count": 16,
   "outputs": [
    {
     "data": {
      "text/plain": "(array([6.0000e+00, 5.0000e+00, 5.0000e+00, 8.0000e+00, 0.0000e+00,\n        1.5000e+01, 1.2000e+01, 2.1000e+01, 2.4000e+01, 0.0000e+00,\n        4.2000e+01, 8.2000e+01, 1.9600e+02, 0.0000e+00, 3.2600e+02,\n        5.1800e+02, 5.2100e+02, 6.2100e+02, 0.0000e+00, 7.8400e+02,\n        9.8200e+02, 1.0560e+03, 0.0000e+00, 1.2480e+03, 1.2170e+03,\n        1.3320e+03, 2.6510e+03, 0.0000e+00, 1.0780e+03, 1.1060e+03,\n        1.0200e+03, 0.0000e+00, 2.3440e+03, 2.4133e+04, 9.8500e+02,\n        8.9900e+02, 0.0000e+00, 9.2200e+02, 7.9900e+02, 8.1300e+02,\n        0.0000e+00, 8.0100e+02, 8.0100e+02, 7.8500e+02, 8.2800e+02,\n        0.0000e+00, 8.0200e+02, 7.1800e+02, 2.3710e+03, 0.0000e+00,\n        6.4300e+02, 6.0100e+02, 6.1000e+02, 5.6400e+02, 0.0000e+00,\n        6.3000e+02, 5.5400e+02, 4.9200e+02, 5.2200e+02, 0.0000e+00,\n        5.4200e+02, 4.6100e+02, 4.0900e+02, 0.0000e+00, 3.5700e+02,\n        3.4100e+02, 2.7100e+02, 2.7100e+02, 0.0000e+00, 2.4500e+02,\n        2.2500e+02, 2.0100e+02, 0.0000e+00, 1.7200e+02, 1.4500e+02,\n        1.7700e+02, 1.1600e+02, 0.0000e+00, 1.2500e+02, 1.0500e+02,\n        5.8000e+01, 0.0000e+00, 5.4000e+01, 5.2000e+01, 3.9000e+01,\n        3.2000e+01, 0.0000e+00, 2.6000e+01, 3.5000e+01, 2.1000e+01,\n        0.0000e+00, 2.3000e+01, 1.7000e+01, 1.8000e+01, 2.0000e+01,\n        0.0000e+00, 9.0000e+00, 4.0000e+00, 8.0000e+00, 4.0000e+00]),\n array([10.  , 10.78, 11.56, 12.34, 13.12, 13.9 , 14.68, 15.46, 16.24,\n        17.02, 17.8 , 18.58, 19.36, 20.14, 20.92, 21.7 , 22.48, 23.26,\n        24.04, 24.82, 25.6 , 26.38, 27.16, 27.94, 28.72, 29.5 , 30.28,\n        31.06, 31.84, 32.62, 33.4 , 34.18, 34.96, 35.74, 36.52, 37.3 ,\n        38.08, 38.86, 39.64, 40.42, 41.2 , 41.98, 42.76, 43.54, 44.32,\n        45.1 , 45.88, 46.66, 47.44, 48.22, 49.  , 49.78, 50.56, 51.34,\n        52.12, 52.9 , 53.68, 54.46, 55.24, 56.02, 56.8 , 57.58, 58.36,\n        59.14, 59.92, 60.7 , 61.48, 62.26, 63.04, 63.82, 64.6 , 65.38,\n        66.16, 66.94, 67.72, 68.5 , 69.28, 70.06, 70.84, 71.62, 72.4 ,\n        73.18, 73.96, 74.74, 75.52, 76.3 , 77.08, 77.86, 78.64, 79.42,\n        80.2 , 80.98, 81.76, 82.54, 83.32, 84.1 , 84.88, 85.66, 86.44,\n        87.22, 88.  ]),\n <BarContainer object of 100 artists>)"
     },
     "execution_count": 16,
     "metadata": {},
     "output_type": "execute_result"
    },
    {
     "data": {
      "text/plain": "<Figure size 500x300 with 1 Axes>",
      "image/png": "[encoded data removed]"
     },
     "metadata": {},
     "output_type": "display_data"
    }
   ],
   "source": [
    "# Now let's prepare data for learning process\n",
    "df_final = df_encoded[~((df_encoded['Duration'] <= 0) | (df_encoded['Duration'] > 400) | (df_encoded['Age'] < 10) | (df_encoded['Age'] > 100))]\n",
    "plt.figure(figsize=(5, 3))\n",
    "plt.xlabel('Value')\n",
    "plt.ylabel('Frequency')\n",
    "plt.hist(df_final['Age'],bins=100)"
   ],
   "metadata": {
    "collapsed": false,
    "ExecuteTime": {
     "end_time": "2023-10-25T15:51:08.007315Z",
     "start_time": "2023-10-25T15:51:07.816252Z"
    }
   }
  },
  {
   "cell_type": "markdown",
   "metadata": {},
   "source": [
    "### Применение линейной регрессии (10 баллов)"
   ]
  },
  {
   "cell_type": "markdown",
   "metadata": {},
   "source": [
    "Это задача классификации, но её можно решить с помощью линейной регрессии, если округлять предсказанный ответ до целого и выбирать ближайший по значению ответ из множества {0, 1}.\n",
    "\n",
    "Вынесите признак 'Claim' в вектор ответов и разделите датасет на обучающую и тестовую выборку в соотношении 80 к 20. Зафиксируйте random_state.\n",
    "\n",
    "**Подсказка:** быстро перевести Yes/No в 1/0 можно так - np.where(df['Claim'] == 'Yes', 1,0)"
   ]
  },
  {
   "cell_type": "code",
   "execution_count": 17,
   "metadata": {
    "ExecuteTime": {
     "end_time": "2023-10-25T15:51:08.019948Z",
     "start_time": "2023-10-25T15:51:08.008768Z"
    }
   },
   "outputs": [
    {
     "data": {
      "text/plain": "       Duration\n0         186.0\n1         186.0\n2          65.0\n3          60.0\n4          79.0\n...         ...\n63321     111.0\n63322      58.0\n63323       2.0\n63324       3.0\n63325      22.0\n\n[62076 rows x 1 columns]",
      "text/html": "<div>\n<style scoped>\n    .dataframe tbody tr th:only-of-type {\n        vertical-align: middle;\n    }\n\n    .dataframe tbody tr th {\n        vertical-align: top;\n    }\n\n    .dataframe thead th {\n        text-align: right;\n    }\n</style>\n<table border=\"1\" class=\"dataframe\">\n  <thead>\n    <tr style=\"text-align: right;\">\n      <th></th>\n      <th>Duration</th>\n    </tr>\n  </thead>\n  <tbody>\n    <tr>\n      <th>0</th>\n      <td>186.0</td>\n    </tr>\n    <tr>\n      <th>1</th>\n      <td>186.0</td>\n    </tr>\n    <tr>\n      <th>2</th>\n      <td>65.0</td>\n    </tr>\n    <tr>\n      <th>3</th>\n      <td>60.0</td>\n    </tr>\n    <tr>\n      <th>4</th>\n      <td>79.0</td>\n    </tr>\n    <tr>\n      <th>...</th>\n      <td>...</td>\n    </tr>\n    <tr>\n      <th>63321</th>\n      <td>111.0</td>\n    </tr>\n    <tr>\n      <th>63322</th>\n      <td>58.0</td>\n    </tr>\n    <tr>\n      <th>63323</th>\n      <td>2.0</td>\n    </tr>\n    <tr>\n      <th>63324</th>\n      <td>3.0</td>\n    </tr>\n    <tr>\n      <th>63325</th>\n      <td>22.0</td>\n    </tr>\n  </tbody>\n</table>\n<p>62076 rows × 1 columns</p>\n</div>"
     },
     "execution_count": 17,
     "metadata": {},
     "output_type": "execute_result"
    }
   ],
   "source": [
    "# разделение на test/train\n",
    "\n",
    "# Для начала решим задачу для duration / claim\n",
    "\n",
    "\n",
    "y=df_final['Claim']\n",
    "X=df_final[['Duration']]\n",
    "# разделить датасет\n",
    "X_train, X_test, y_ans_train, y_ans_test = train_test_split(X, y, train_size=0.8)\n",
    "X"
   ]
  },
  {
   "cell_type": "markdown",
   "metadata": {},
   "source": [
    "Найдите аналитическое решение для обучающей выборки: обычное и регуляризацией l2. "
   ]
  },
  {
   "cell_type": "code",
   "execution_count": 18,
   "metadata": {
    "ExecuteTime": {
     "end_time": "2023-10-25T15:51:08.070016Z",
     "start_time": "2023-10-25T15:51:08.024225Z"
    }
   },
   "outputs": [
    {
     "data": {
      "text/plain": "array([0.00021885])"
     },
     "execution_count": 18,
     "metadata": {},
     "output_type": "execute_result"
    }
   ],
   "source": [
    "# посчитайте аналитическое решение\n",
    "analytical_weights=np.dot(np.dot(np.linalg.inv(np.dot(X_train.T, X_train)), X_train.T), y_ans_train)\n",
    "analytical_weights"
   ]
  },
  {
   "cell_type": "code",
   "execution_count": 19,
   "metadata": {
    "ExecuteTime": {
     "end_time": "2023-10-25T15:51:08.141671Z",
     "start_time": "2023-10-25T15:51:08.052134Z"
    }
   },
   "outputs": [
    {
     "data": {
      "text/plain": "array([0.00021885])"
     },
     "execution_count": 19,
     "metadata": {},
     "output_type": "execute_result"
    }
   ],
   "source": [
    "# посчитать аналитическое решение с регуляризацией\n",
    "E = np.eye(X_train.shape[1])\n",
    "lamb=1\n",
    "regularized_weights=np.dot(np.dot(np.linalg.inv(np.dot(X_train.T, X_train)+np.dot(E,np.square(lamb))),X_train.T),y_ans_train)\n",
    "regularized_weights"
   ]
  },
  {
   "cell_type": "markdown",
   "metadata": {},
   "source": [
    "Постройте модель LinearRegression, примените к тестовой выборке и посчитайте MSE (можно использовать библиотеку sklearn)"
   ]
  },
  {
   "cell_type": "code",
   "execution_count": 20,
   "outputs": [],
   "source": [
    "# Compute MSE of my model (regularized_weights and analytical_weights)\n",
    "def count_MSE(y_true,y_pred):\n",
    "    return np.mean(np.square(y_true-y_pred))"
   ],
   "metadata": {
    "collapsed": false,
    "ExecuteTime": {
     "end_time": "2023-10-25T15:51:08.154257Z",
     "start_time": "2023-10-25T15:51:08.081719Z"
    }
   }
  },
  {
   "cell_type": "code",
   "execution_count": 21,
   "outputs": [
    {
     "name": "stdout",
     "output_type": "stream",
     "text": [
      "0.014094716494845361\n"
     ]
    }
   ],
   "source": [
    "y_pred=np.dot(X_test,analytical_weights).round()\n",
    "print(count_MSE(y_ans_test,y_pred))"
   ],
   "metadata": {
    "collapsed": false,
    "ExecuteTime": {
     "end_time": "2023-10-25T15:51:08.154727Z",
     "start_time": "2023-10-25T15:51:08.109700Z"
    }
   }
  },
  {
   "cell_type": "code",
   "execution_count": 22,
   "outputs": [
    {
     "name": "stdout",
     "output_type": "stream",
     "text": [
      "0.014094716494845361\n"
     ]
    }
   ],
   "source": [
    "y_pred_regularized=np.dot(X_test,regularized_weights).round()\n",
    "print(count_MSE(y_ans_test,y_pred_regularized))"
   ],
   "metadata": {
    "collapsed": false,
    "ExecuteTime": {
     "end_time": "2023-10-25T15:51:08.154944Z",
     "start_time": "2023-10-25T15:51:08.125358Z"
    }
   }
  },
  {
   "cell_type": "code",
   "execution_count": 23,
   "metadata": {
    "ExecuteTime": {
     "end_time": "2023-10-25T15:51:08.189782Z",
     "start_time": "2023-10-25T15:51:08.140913Z"
    }
   },
   "outputs": [
    {
     "name": "stdout",
     "output_type": "stream",
     "text": [
      "[0.00017679]\n"
     ]
    }
   ],
   "source": [
    "# обучите модель линейной регрессии LinearRegression на обучающей выборке, примените к тестовой\n",
    "from sklearn.linear_model import LinearRegression\n",
    "from sklearn.metrics import mean_squared_error\n",
    "\n",
    "lr = LinearRegression()\n",
    "lr.fit(X_train, y_ans_train)\n",
    "y_predicted = lr.predict(X_test).round()\n",
    "print(lr.coef_)"
   ]
  },
  {
   "cell_type": "code",
   "execution_count": 24,
   "metadata": {
    "ExecuteTime": {
     "end_time": "2023-10-25T15:51:08.198475Z",
     "start_time": "2023-10-25T15:51:08.164604Z"
    }
   },
   "outputs": [
    {
     "name": "stdout",
     "output_type": "stream",
     "text": [
      "0.014094716494845361\n"
     ]
    }
   ],
   "source": [
    "# посчитайте MSE, предварительно округлив предсказанные ответы до целого\n",
    "MSE_sklearn = mean_squared_error(y_ans_test, y_predicted)\n",
    "print(MSE_sklearn)"
   ]
  },
  {
   "cell_type": "raw",
   "source": [
    "Далее попробуем обучить модель со всеми возможными комбинациями числовых фичей\n",
    "Колонки Duration и Age предварительно будут обработаны с помощью MinMaxScale, во избежание перекрытия значений"
   ],
   "metadata": {
    "collapsed": false
   }
  },
  {
   "cell_type": "code",
   "execution_count": 25,
   "outputs": [
    {
     "data": {
      "text/plain": "       Duration  Net Sales  Commision (in value)       Age  Claim  Agency_ADM  \\\n0      0.463659   0.300250              0.033757  0.910256      0           0   \n1      0.463659   0.300250              0.033757  0.782051      0           0   \n2      0.160401   0.283153              0.104762  0.282051      0           0   \n3      0.147870   0.291410              0.083810  0.282051      0           0   \n4      0.195489   0.307923              0.041905  0.397436      0           0   \n...         ...        ...                   ...       ...    ...         ...   \n63321  0.275689   0.353628              0.043210  0.269231      0           0   \n63322  0.142857   0.357798              0.049383  0.384615      0           0   \n63323  0.002506   0.339450              0.022222  0.602564      0           0   \n63324  0.005013   0.339450              0.022222  0.679487      0           0   \n63325  0.052632   0.346122              0.032099  0.320513      0           0   \n\n       Agency_ART  Agency_C2B  Agency_CBH  Agency_CCR  ...  \\\n0               0           0           1           0  ...   \n1               0           0           1           0  ...   \n2               0           0           0           0  ...   \n3               0           0           0           0  ...   \n4               0           0           0           0  ...   \n...           ...         ...         ...         ...  ...   \n63321           0           0           0           0  ...   \n63322           0           0           0           0  ...   \n63323           0           0           0           0  ...   \n63324           0           0           0           0  ...   \n63325           0           0           0           0  ...   \n\n       Destination_UZBEKISTAN  Destination_VANUATU  Destination_VENEZUELA  \\\n0                           0                    0                      0   \n1                           0                    0                      0   \n2                           0                    0                      0   \n3                           0                    0                      0   \n4                           0                    0                      0   \n...                       ...                  ...                    ...   \n63321                       0                    0                      0   \n63322                       0                    0                      0   \n63323                       0                    0                      0   \n63324                       0                    0                      0   \n63325                       0                    0                      0   \n\n       Destination_VIET NAM  Destination_VIRGIN ISLANDS, U.S.  \\\n0                         0                                 0   \n1                         0                                 0   \n2                         0                                 0   \n3                         0                                 0   \n4                         0                                 0   \n...                     ...                               ...   \n63321                     0                                 0   \n63322                     0                                 0   \n63323                     0                                 0   \n63324                     1                                 0   \n63325                     0                                 0   \n\n       Destination_ZAMBIA  Destination_ZIMBABWE  Gender_  Gender_F  Gender_M  \n0                       0                     0        0         1         0  \n1                       0                     0        0         1         0  \n2                       0                     0        1         0         0  \n3                       0                     0        1         0         0  \n4                       0                     0        1         0         0  \n...                   ...                   ...      ...       ...       ...  \n63321                   0                     0        0         0         1  \n63322                   0                     0        0         1         0  \n63323                   0                     0        0         0         1  \n63324                   0                     0        0         0         1  \n63325                   0                     0        0         1         0  \n\n[62076 rows x 203 columns]",
      "text/html": "<div>\n<style scoped>\n    .dataframe tbody tr th:only-of-type {\n        vertical-align: middle;\n    }\n\n    .dataframe tbody tr th {\n        vertical-align: top;\n    }\n\n    .dataframe thead th {\n        text-align: right;\n    }\n</style>\n<table border=\"1\" class=\"dataframe\">\n  <thead>\n    <tr style=\"text-align: right;\">\n      <th></th>\n      <th>Duration</th>\n      <th>Net Sales</th>\n      <th>Commision (in value)</th>\n      <th>Age</th>\n      <th>Claim</th>\n      <th>Agency_ADM</th>\n      <th>Agency_ART</th>\n      <th>Agency_C2B</th>\n      <th>Agency_CBH</th>\n      <th>Agency_CCR</th>\n      <th>...</th>\n      <th>Destination_UZBEKISTAN</th>\n      <th>Destination_VANUATU</th>\n      <th>Destination_VENEZUELA</th>\n      <th>Destination_VIET NAM</th>\n      <th>Destination_VIRGIN ISLANDS, U.S.</th>\n      <th>Destination_ZAMBIA</th>\n      <th>Destination_ZIMBABWE</th>\n      <th>Gender_</th>\n      <th>Gender_F</th>\n      <th>Gender_M</th>\n    </tr>\n  </thead>\n  <tbody>\n    <tr>\n      <th>0</th>\n      <td>0.463659</td>\n      <td>0.300250</td>\n      <td>0.033757</td>\n      <td>0.910256</td>\n      <td>0</td>\n      <td>0</td>\n      <td>0</td>\n      <td>0</td>\n      <td>1</td>\n      <td>0</td>\n      <td>...</td>\n      <td>0</td>\n      <td>0</td>\n      <td>0</td>\n      <td>0</td>\n      <td>0</td>\n      <td>0</td>\n      <td>0</td>\n      <td>0</td>\n      <td>1</td>\n      <td>0</td>\n    </tr>\n    <tr>\n      <th>1</th>\n      <td>0.463659</td>\n      <td>0.300250</td>\n      <td>0.033757</td>\n      <td>0.782051</td>\n      <td>0</td>\n      <td>0</td>\n      <td>0</td>\n      <td>0</td>\n      <td>1</td>\n      <td>0</td>\n      <td>...</td>\n      <td>0</td>\n      <td>0</td>\n      <td>0</td>\n      <td>0</td>\n      <td>0</td>\n      <td>0</td>\n      <td>0</td>\n      <td>0</td>\n      <td>1</td>\n      <td>0</td>\n    </tr>\n    <tr>\n      <th>2</th>\n      <td>0.160401</td>\n      <td>0.283153</td>\n      <td>0.104762</td>\n      <td>0.282051</td>\n      <td>0</td>\n      <td>0</td>\n      <td>0</td>\n      <td>0</td>\n      <td>0</td>\n      <td>0</td>\n      <td>...</td>\n      <td>0</td>\n      <td>0</td>\n      <td>0</td>\n      <td>0</td>\n      <td>0</td>\n      <td>0</td>\n      <td>0</td>\n      <td>1</td>\n      <td>0</td>\n      <td>0</td>\n    </tr>\n    <tr>\n      <th>3</th>\n      <td>0.147870</td>\n      <td>0.291410</td>\n      <td>0.083810</td>\n      <td>0.282051</td>\n      <td>0</td>\n      <td>0</td>\n      <td>0</td>\n      <td>0</td>\n      <td>0</td>\n      <td>0</td>\n      <td>...</td>\n      <td>0</td>\n      <td>0</td>\n      <td>0</td>\n      <td>0</td>\n      <td>0</td>\n      <td>0</td>\n      <td>0</td>\n      <td>1</td>\n      <td>0</td>\n      <td>0</td>\n    </tr>\n    <tr>\n      <th>4</th>\n      <td>0.195489</td>\n      <td>0.307923</td>\n      <td>0.041905</td>\n      <td>0.397436</td>\n      <td>0</td>\n      <td>0</td>\n      <td>0</td>\n      <td>0</td>\n      <td>0</td>\n      <td>0</td>\n      <td>...</td>\n      <td>0</td>\n      <td>0</td>\n      <td>0</td>\n      <td>0</td>\n      <td>0</td>\n      <td>0</td>\n      <td>0</td>\n      <td>1</td>\n      <td>0</td>\n      <td>0</td>\n    </tr>\n    <tr>\n      <th>...</th>\n      <td>...</td>\n      <td>...</td>\n      <td>...</td>\n      <td>...</td>\n      <td>...</td>\n      <td>...</td>\n      <td>...</td>\n      <td>...</td>\n      <td>...</td>\n      <td>...</td>\n      <td>...</td>\n      <td>...</td>\n      <td>...</td>\n      <td>...</td>\n      <td>...</td>\n      <td>...</td>\n      <td>...</td>\n      <td>...</td>\n      <td>...</td>\n      <td>...</td>\n      <td>...</td>\n    </tr>\n    <tr>\n      <th>63321</th>\n      <td>0.275689</td>\n      <td>0.353628</td>\n      <td>0.043210</td>\n      <td>0.269231</td>\n      <td>0</td>\n      <td>0</td>\n      <td>0</td>\n      <td>0</td>\n      <td>0</td>\n      <td>0</td>\n      <td>...</td>\n      <td>0</td>\n      <td>0</td>\n      <td>0</td>\n      <td>0</td>\n      <td>0</td>\n      <td>0</td>\n      <td>0</td>\n      <td>0</td>\n      <td>0</td>\n      <td>1</td>\n    </tr>\n    <tr>\n      <th>63322</th>\n      <td>0.142857</td>\n      <td>0.357798</td>\n      <td>0.049383</td>\n      <td>0.384615</td>\n      <td>0</td>\n      <td>0</td>\n      <td>0</td>\n      <td>0</td>\n      <td>0</td>\n      <td>0</td>\n      <td>...</td>\n      <td>0</td>\n      <td>0</td>\n      <td>0</td>\n      <td>0</td>\n      <td>0</td>\n      <td>0</td>\n      <td>0</td>\n      <td>0</td>\n      <td>1</td>\n      <td>0</td>\n    </tr>\n    <tr>\n      <th>63323</th>\n      <td>0.002506</td>\n      <td>0.339450</td>\n      <td>0.022222</td>\n      <td>0.602564</td>\n      <td>0</td>\n      <td>0</td>\n      <td>0</td>\n      <td>0</td>\n      <td>0</td>\n      <td>0</td>\n      <td>...</td>\n      <td>0</td>\n      <td>0</td>\n      <td>0</td>\n      <td>0</td>\n      <td>0</td>\n      <td>0</td>\n      <td>0</td>\n      <td>0</td>\n      <td>0</td>\n      <td>1</td>\n    </tr>\n    <tr>\n      <th>63324</th>\n      <td>0.005013</td>\n      <td>0.339450</td>\n      <td>0.022222</td>\n      <td>0.679487</td>\n      <td>0</td>\n      <td>0</td>\n      <td>0</td>\n      <td>0</td>\n      <td>0</td>\n      <td>0</td>\n      <td>...</td>\n      <td>0</td>\n      <td>0</td>\n      <td>0</td>\n      <td>1</td>\n      <td>0</td>\n      <td>0</td>\n      <td>0</td>\n      <td>0</td>\n      <td>0</td>\n      <td>1</td>\n    </tr>\n    <tr>\n      <th>63325</th>\n      <td>0.052632</td>\n      <td>0.346122</td>\n      <td>0.032099</td>\n      <td>0.320513</td>\n      <td>0</td>\n      <td>0</td>\n      <td>0</td>\n      <td>0</td>\n      <td>0</td>\n      <td>0</td>\n      <td>...</td>\n      <td>0</td>\n      <td>0</td>\n      <td>0</td>\n      <td>0</td>\n      <td>0</td>\n      <td>0</td>\n      <td>0</td>\n      <td>0</td>\n      <td>1</td>\n      <td>0</td>\n    </tr>\n  </tbody>\n</table>\n<p>62076 rows × 203 columns</p>\n</div>"
     },
     "execution_count": 25,
     "metadata": {},
     "output_type": "execute_result"
    }
   ],
   "source": [
    "# # Now we can normalize age and duration data\n",
    "scaled_matrix = minmax_scale(df_final[['Duration', 'Age']].values)\n",
    "# Use .loc for assignment\n",
    "df_final.loc[:, ['Duration', 'Age']] = scaled_matrix\n",
    "df_final"
   ],
   "metadata": {
    "collapsed": false,
    "ExecuteTime": {
     "end_time": "2023-10-25T15:51:08.271255Z",
     "start_time": "2023-10-25T15:51:08.178530Z"
    }
   }
  },
  {
   "cell_type": "code",
   "execution_count": 26,
   "outputs": [
    {
     "data": {
      "text/plain": "[('Duration',),\n ('Net Sales',),\n ('Commision (in value)',),\n ('Age',),\n ('Duration', 'Net Sales'),\n ('Duration', 'Commision (in value)'),\n ('Duration', 'Age'),\n ('Net Sales', 'Commision (in value)'),\n ('Net Sales', 'Age'),\n ('Commision (in value)', 'Age'),\n ('Duration', 'Net Sales', 'Commision (in value)'),\n ('Duration', 'Net Sales', 'Age'),\n ('Duration', 'Commision (in value)', 'Age'),\n ('Net Sales', 'Commision (in value)', 'Age'),\n ('Duration', 'Net Sales', 'Commision (in value)', 'Age')]"
     },
     "execution_count": 26,
     "metadata": {},
     "output_type": "execute_result"
    }
   ],
   "source": [
    "import itertools\n",
    "# here I will find all possible combinations of numerical features\n",
    "features=df_final.drop('Claim',axis=1).iloc[:, :4].columns.tolist()\n",
    "all_combinations = []\n",
    "for r in range(1,len(features) + 1):\n",
    "    subsets = list(itertools.combinations(features, r))\n",
    "    all_combinations.extend(subsets)\n",
    "all_combinations"
   ],
   "metadata": {
    "collapsed": false,
    "ExecuteTime": {
     "end_time": "2023-10-25T15:51:08.274607Z",
     "start_time": "2023-10-25T15:51:08.217530Z"
    }
   }
  },
  {
   "cell_type": "code",
   "execution_count": 27,
   "outputs": [],
   "source": [
    "class CustomModel:\n",
    "    def __init__(self, x_train, y_train,x_test):\n",
    "        self.x_train = x_train\n",
    "        self.y_train = y_train\n",
    "        self.y_test=[]\n",
    "        self.x_test=x_test\n",
    "        self.w = []\n",
    "        self.w_regularized = []\n",
    "\n",
    "    def get_analytical_weights(self):\n",
    "        self.w = np.dot(np.dot(np.linalg.inv(np.dot(self.x_train.T, self.x_train)), self.x_train.T), self.y_train)\n",
    "        return self.w\n",
    "\n",
    "    def get_regularized_weights(self):\n",
    "        lamb_=1\n",
    "        e_ = np.eye(self.x_train.shape[1])\n",
    "        self.w_regularized = np.dot(\n",
    "            np.dot(np.linalg.inv(np.dot(self.x_train.T, self.x_train) + np.dot(e_, np.square(lamb_))), self.x_train.T), self.y_train)\n",
    "        return self.w_regularized\n",
    "        \n",
    "    def get_predicted_ans(self,weights_type=0):\n",
    "        if weights_type==0:\n",
    "            self.y_test=np.dot(self.x_test,self.w)\n",
    "        if weights_type==1:\n",
    "            self.y_test=np.dot(self.x_test,self.w_regularized)  \n",
    "        return self.y_test\n",
    "            \n",
    "    def count_MSE(self, y_true):\n",
    "        return np.mean(np.square(y_true - self.y_test))\n",
    "\n",
    "    def count_RMSE(self, y_true):\n",
    "        return np.sqrt(self.count_MSE(y_true))"
   ],
   "metadata": {
    "collapsed": false,
    "ExecuteTime": {
     "end_time": "2023-10-25T15:51:08.286243Z",
     "start_time": "2023-10-25T15:51:08.247844Z"
    }
   }
  },
  {
   "cell_type": "code",
   "execution_count": 28,
   "outputs": [],
   "source": [
    "X_train, X_test, y_ans_train, y_ans_test = train_test_split(df_final.iloc[:,:4], y, train_size=0.8,random_state=1)"
   ],
   "metadata": {
    "collapsed": false,
    "ExecuteTime": {
     "end_time": "2023-10-25T15:51:08.320799Z",
     "start_time": "2023-10-25T15:51:08.265198Z"
    }
   }
  },
  {
   "cell_type": "code",
   "execution_count": 29,
   "outputs": [
    {
     "name": "stdout",
     "output_type": "stream",
     "text": [
      "Current feature combination: Duration\n",
      "weights : [0.08654705]\n",
      "MSE: 0.013300180584963503\n",
      "RMSE: 0.11532640887916133\n",
      "\n",
      "Current feature combination: Net Sales\n",
      "weights : [0.04619692]\n",
      "MSE: 0.013453013690026133\n",
      "RMSE: 0.11598712725999438\n",
      "\n",
      "Current feature combination: Commision (in value)\n",
      "weights : [0.23103111]\n",
      "MSE: 0.013403685825818665\n",
      "RMSE: 0.11577428827601863\n",
      "\n",
      "Current feature combination: Age\n",
      "weights : [0.03503706]\n",
      "MSE: 0.0135432768840445\n",
      "RMSE: 0.11637558542943834\n",
      "\n",
      "Current feature combination: Duration and Net Sales\n",
      "weights : [0.06211366 0.02418788]\n",
      "MSE: 0.013284980984229052\n",
      "RMSE: 0.11526049186182163\n",
      "\n",
      "Current feature combination: Duration and Commision (in value)\n",
      "weights : [0.05833272 0.13471699]\n",
      "MSE: 0.013262150441221478\n",
      "RMSE: 0.11516141038221735\n",
      "\n",
      "Current feature combination: Duration and Age\n",
      "weights : [0.07294134 0.01423505]\n",
      "MSE: 0.013301454743089516\n",
      "RMSE: 0.11533193288543081\n",
      "\n",
      "Current feature combination: Net Sales and Commision (in value)\n",
      "weights : [0.02908731 0.16197615]\n",
      "MSE: 0.013339522220429917\n",
      "RMSE: 0.11549684939611954\n",
      "\n",
      "Current feature combination: Net Sales and Age\n",
      "weights : [ 0.08912816 -0.04216178]\n",
      "MSE: 0.013409502358061027\n",
      "RMSE: 0.11579940568958473\n",
      "\n",
      "Current feature combination: Commision (in value) and Age\n",
      "weights : [0.18811493 0.01867964]\n",
      "MSE: 0.013379072916954345\n",
      "RMSE: 0.11566794247739667\n",
      "\n",
      "Current feature combination: Duration and Net Sales and Commision (in value)\n",
      "weights : [0.04376727 0.01857661 0.11466431]\n",
      "MSE: 0.013255853875965923\n",
      "RMSE: 0.11513406913666312\n",
      "\n",
      "Current feature combination: Duration and Net Sales and Age\n",
      "weights : [ 0.05855511  0.05740818 -0.03138657]\n",
      "MSE: 0.013261248662569041\n",
      "RMSE: 0.11515749503427487\n",
      "\n",
      "Current feature combination: Duration and Commision (in value) and Age\n",
      "weights : [0.05137713 0.12417462 0.00958738]\n",
      "MSE: 0.013266085361102789\n",
      "RMSE: 0.11517849348338773\n",
      "\n",
      "Current feature combination: Net Sales and Commision (in value) and Age\n",
      "weights : [ 0.06651541  0.15618984 -0.03615702]\n",
      "MSE: 0.013304711248401347\n",
      "RMSE: 0.11534604999045849\n",
      "\n",
      "Current feature combination: Duration and Net Sales and Commision (in value) and Age\n",
      "weights : [ 0.0405468   0.05076175  0.1132894  -0.03034499]\n",
      "MSE: 0.013232486992303134\n",
      "RMSE: 0.11503254753461359\n"
     ]
    }
   ],
   "source": [
    "# Here I will try a model without using regularization\n",
    "# WEIGHTS_TYPE = 0 : weights without regularization\n",
    "# create a Dataframe without categorical features\n",
    "df_num_features=df_final.drop('Claim',axis=1).iloc[:, :4]\n",
    "for column_combinations in all_combinations:\n",
    "    print(f'Current feature combination: {\" and \".join(column_combinations)}')\n",
    "    # create a new dataset with current columns\n",
    "    df_combination=df_num_features\n",
    "    # dropping other columns\n",
    "    X_for_training=X_train[[i for i in column_combinations]]\n",
    "    X_for_testing=X_test[[i for i in column_combinations]]\n",
    "    my_model=CustomModel(X_for_training,y_ans_train,X_for_testing)\n",
    "    analytical_weights=my_model.get_analytical_weights()\n",
    "    print(f'weights : {analytical_weights}')\n",
    "    my_model.get_predicted_ans(weights_type=0)\n",
    "    print(f'MSE: {my_model.count_MSE(y_ans_test)}')\n",
    "    print(f'RMSE: {my_model.count_RMSE(y_ans_test)}')\n",
    "    print()"
   ],
   "metadata": {
    "collapsed": false,
    "ExecuteTime": {
     "end_time": "2023-10-25T15:51:08.470823Z",
     "start_time": "2023-10-25T15:51:08.280762Z"
    }
   }
  },
  {
   "cell_type": "markdown",
   "metadata": {},
   "source": [
    "### Вывод (1 балла)"
   ]
  },
  {
   "cell_type": "markdown",
   "metadata": {},
   "source": [
    "Напишите краткий вывод по заданию (достаточно пары предложений). Расскажите, какие способы предобработки данных вы выбрали и почему. Насколько хороша ваша модель?"
   ]
  },
  {
   "cell_type": "raw",
   "source": [
    "Вывод: \n",
    "Метод линейной регресси не очень хорошо подходит для задач бинарной регресии, так как : \n",
    "А) Диапазон предсказанных значений для бинарной классификации это числа от 0 до 1, который в последствии округления чаще всего сводился к 0 в моей модели. Диапазон обычной задачи линейной регрессии это числа от -inf до +inf.\n",
    "Б) При использовании MinMaxScaler, MSE и RMSE почти одиннаковый для разных наборов фич (предсказывается 0 почти всегда), поэтому сложно оценить эффективность модели для такой задачи.\n",
    "В) Данный датасет содержит больше 62к нулей в колонке claim. Так как общий размер данных 63к, то модель не может научиться различать единицы.\n",
    "С) Линейная регрессия очень чувствительна к выбросам, поэтому определение класса чаще всего неточна.\n",
    "Д) Вместо линейной регрессии лучше использовать логистическую регрессию.\n",
    "\n",
    "Краткое ревью моего кода:\n",
    "Скачал датасет по ссылке и вывел инфо\n",
    "Проработал пустые значения(категории заменил на пустую строку, числовые на средние)\n",
    "Сравнил написанные мной функции minmaxscale, obehotencoding с оригинальными \n",
    "Начертил пару графиков и выявил выбросы\n",
    "Написал функции по нахождению весов с регуляризацией и без (я решил выбросить все категорийные значения)\n",
    "Написал класс для удобства обучения, который содержит всю нужную функциональность \n",
    "проверил комбинации различных фичей влияют на МСЕ и веса (все возможные комбинации)\n",
    "запустил программу (решил не проверять действие на регуляризированных весах)\n",
    "\n",
    "!!! Важно \n",
    "Данный код я попробовал на датасете, предоставленном в семинаре 3. В нем надо было предсказать цену. Данная модель хорошо справилась с задачей линейной регрессии, тоесть она является гибкой. \n",
    "Спасибо за внимание!!!"
   ],
   "metadata": {
    "collapsed": false
   }
  },
  {
   "cell_type": "raw",
   "source": [
    "Работа над ошибками : downsapling \n",
    "Как описано выше, в датасете отношение 0 к 1: 62:1\n",
    "поэтому я попробую downsampling (сокращу колличество 0 в записи от одного класса, отношение станет примерно 20:1)"
   ],
   "metadata": {
    "collapsed": false
   }
  },
  {
   "cell_type": "code",
   "execution_count": 30,
   "outputs": [
    {
     "data": {
      "text/plain": "       Duration  Net Sales  Commision (in value)   Age  Claim  Agency_ADM  \\\n0         186.0   0.300250              0.033757  81.0      0           0   \n1         186.0   0.300250              0.033757  71.0      0           0   \n2          65.0   0.283153              0.104762  32.0      0           0   \n3          60.0   0.291410              0.083810  32.0      0           0   \n4          79.0   0.307923              0.041905  41.0      0           0   \n...         ...        ...                   ...   ...    ...         ...   \n63321     111.0   0.353628              0.043210  31.0      0           0   \n63322      58.0   0.357798              0.049383  40.0      0           0   \n63323       2.0   0.339450              0.022222  57.0      0           0   \n63324       3.0   0.339450              0.022222  63.0      0           0   \n63325      22.0   0.346122              0.032099  35.0      0           0   \n\n       Agency_ART  Agency_C2B  Agency_CBH  Agency_CCR  ...  \\\n0               0           0           1           0  ...   \n1               0           0           1           0  ...   \n2               0           0           0           0  ...   \n3               0           0           0           0  ...   \n4               0           0           0           0  ...   \n...           ...         ...         ...         ...  ...   \n63321           0           0           0           0  ...   \n63322           0           0           0           0  ...   \n63323           0           0           0           0  ...   \n63324           0           0           0           0  ...   \n63325           0           0           0           0  ...   \n\n       Destination_UZBEKISTAN  Destination_VANUATU  Destination_VENEZUELA  \\\n0                           0                    0                      0   \n1                           0                    0                      0   \n2                           0                    0                      0   \n3                           0                    0                      0   \n4                           0                    0                      0   \n...                       ...                  ...                    ...   \n63321                       0                    0                      0   \n63322                       0                    0                      0   \n63323                       0                    0                      0   \n63324                       0                    0                      0   \n63325                       0                    0                      0   \n\n       Destination_VIET NAM  Destination_VIRGIN ISLANDS, U.S.  \\\n0                         0                                 0   \n1                         0                                 0   \n2                         0                                 0   \n3                         0                                 0   \n4                         0                                 0   \n...                     ...                               ...   \n63321                     0                                 0   \n63322                     0                                 0   \n63323                     0                                 0   \n63324                     1                                 0   \n63325                     0                                 0   \n\n       Destination_ZAMBIA  Destination_ZIMBABWE  Gender_  Gender_F  Gender_M  \n0                       0                     0        0         1         0  \n1                       0                     0        0         1         0  \n2                       0                     0        1         0         0  \n3                       0                     0        1         0         0  \n4                       0                     0        1         0         0  \n...                   ...                   ...      ...       ...       ...  \n63321                   0                     0        0         0         1  \n63322                   0                     0        0         1         0  \n63323                   0                     0        0         0         1  \n63324                   0                     0        0         0         1  \n63325                   0                     0        0         1         0  \n\n[63326 rows x 203 columns]",
      "text/html": "<div>\n<style scoped>\n    .dataframe tbody tr th:only-of-type {\n        vertical-align: middle;\n    }\n\n    .dataframe tbody tr th {\n        vertical-align: top;\n    }\n\n    .dataframe thead th {\n        text-align: right;\n    }\n</style>\n<table border=\"1\" class=\"dataframe\">\n  <thead>\n    <tr style=\"text-align: right;\">\n      <th></th>\n      <th>Duration</th>\n      <th>Net Sales</th>\n      <th>Commision (in value)</th>\n      <th>Age</th>\n      <th>Claim</th>\n      <th>Agency_ADM</th>\n      <th>Agency_ART</th>\n      <th>Agency_C2B</th>\n      <th>Agency_CBH</th>\n      <th>Agency_CCR</th>\n      <th>...</th>\n      <th>Destination_UZBEKISTAN</th>\n      <th>Destination_VANUATU</th>\n      <th>Destination_VENEZUELA</th>\n      <th>Destination_VIET NAM</th>\n      <th>Destination_VIRGIN ISLANDS, U.S.</th>\n      <th>Destination_ZAMBIA</th>\n      <th>Destination_ZIMBABWE</th>\n      <th>Gender_</th>\n      <th>Gender_F</th>\n      <th>Gender_M</th>\n    </tr>\n  </thead>\n  <tbody>\n    <tr>\n      <th>0</th>\n      <td>186.0</td>\n      <td>0.300250</td>\n      <td>0.033757</td>\n      <td>81.0</td>\n      <td>0</td>\n      <td>0</td>\n      <td>0</td>\n      <td>0</td>\n      <td>1</td>\n      <td>0</td>\n      <td>...</td>\n      <td>0</td>\n      <td>0</td>\n      <td>0</td>\n      <td>0</td>\n      <td>0</td>\n      <td>0</td>\n      <td>0</td>\n      <td>0</td>\n      <td>1</td>\n      <td>0</td>\n    </tr>\n    <tr>\n      <th>1</th>\n      <td>186.0</td>\n      <td>0.300250</td>\n      <td>0.033757</td>\n      <td>71.0</td>\n      <td>0</td>\n      <td>0</td>\n      <td>0</td>\n      <td>0</td>\n      <td>1</td>\n      <td>0</td>\n      <td>...</td>\n      <td>0</td>\n      <td>0</td>\n      <td>0</td>\n      <td>0</td>\n      <td>0</td>\n      <td>0</td>\n      <td>0</td>\n      <td>0</td>\n      <td>1</td>\n      <td>0</td>\n    </tr>\n    <tr>\n      <th>2</th>\n      <td>65.0</td>\n      <td>0.283153</td>\n      <td>0.104762</td>\n      <td>32.0</td>\n      <td>0</td>\n      <td>0</td>\n      <td>0</td>\n      <td>0</td>\n      <td>0</td>\n      <td>0</td>\n      <td>...</td>\n      <td>0</td>\n      <td>0</td>\n      <td>0</td>\n      <td>0</td>\n      <td>0</td>\n      <td>0</td>\n      <td>0</td>\n      <td>1</td>\n      <td>0</td>\n      <td>0</td>\n    </tr>\n    <tr>\n      <th>3</th>\n      <td>60.0</td>\n      <td>0.291410</td>\n      <td>0.083810</td>\n      <td>32.0</td>\n      <td>0</td>\n      <td>0</td>\n      <td>0</td>\n      <td>0</td>\n      <td>0</td>\n      <td>0</td>\n      <td>...</td>\n      <td>0</td>\n      <td>0</td>\n      <td>0</td>\n      <td>0</td>\n      <td>0</td>\n      <td>0</td>\n      <td>0</td>\n      <td>1</td>\n      <td>0</td>\n      <td>0</td>\n    </tr>\n    <tr>\n      <th>4</th>\n      <td>79.0</td>\n      <td>0.307923</td>\n      <td>0.041905</td>\n      <td>41.0</td>\n      <td>0</td>\n      <td>0</td>\n      <td>0</td>\n      <td>0</td>\n      <td>0</td>\n      <td>0</td>\n      <td>...</td>\n      <td>0</td>\n      <td>0</td>\n      <td>0</td>\n      <td>0</td>\n      <td>0</td>\n      <td>0</td>\n      <td>0</td>\n      <td>1</td>\n      <td>0</td>\n      <td>0</td>\n    </tr>\n    <tr>\n      <th>...</th>\n      <td>...</td>\n      <td>...</td>\n      <td>...</td>\n      <td>...</td>\n      <td>...</td>\n      <td>...</td>\n      <td>...</td>\n      <td>...</td>\n      <td>...</td>\n      <td>...</td>\n      <td>...</td>\n      <td>...</td>\n      <td>...</td>\n      <td>...</td>\n      <td>...</td>\n      <td>...</td>\n      <td>...</td>\n      <td>...</td>\n      <td>...</td>\n      <td>...</td>\n      <td>...</td>\n    </tr>\n    <tr>\n      <th>63321</th>\n      <td>111.0</td>\n      <td>0.353628</td>\n      <td>0.043210</td>\n      <td>31.0</td>\n      <td>0</td>\n      <td>0</td>\n      <td>0</td>\n      <td>0</td>\n      <td>0</td>\n      <td>0</td>\n      <td>...</td>\n      <td>0</td>\n      <td>0</td>\n      <td>0</td>\n      <td>0</td>\n      <td>0</td>\n      <td>0</td>\n      <td>0</td>\n      <td>0</td>\n      <td>0</td>\n      <td>1</td>\n    </tr>\n    <tr>\n      <th>63322</th>\n      <td>58.0</td>\n      <td>0.357798</td>\n      <td>0.049383</td>\n      <td>40.0</td>\n      <td>0</td>\n      <td>0</td>\n      <td>0</td>\n      <td>0</td>\n      <td>0</td>\n      <td>0</td>\n      <td>...</td>\n      <td>0</td>\n      <td>0</td>\n      <td>0</td>\n      <td>0</td>\n      <td>0</td>\n      <td>0</td>\n      <td>0</td>\n      <td>0</td>\n      <td>1</td>\n      <td>0</td>\n    </tr>\n    <tr>\n      <th>63323</th>\n      <td>2.0</td>\n      <td>0.339450</td>\n      <td>0.022222</td>\n      <td>57.0</td>\n      <td>0</td>\n      <td>0</td>\n      <td>0</td>\n      <td>0</td>\n      <td>0</td>\n      <td>0</td>\n      <td>...</td>\n      <td>0</td>\n      <td>0</td>\n      <td>0</td>\n      <td>0</td>\n      <td>0</td>\n      <td>0</td>\n      <td>0</td>\n      <td>0</td>\n      <td>0</td>\n      <td>1</td>\n    </tr>\n    <tr>\n      <th>63324</th>\n      <td>3.0</td>\n      <td>0.339450</td>\n      <td>0.022222</td>\n      <td>63.0</td>\n      <td>0</td>\n      <td>0</td>\n      <td>0</td>\n      <td>0</td>\n      <td>0</td>\n      <td>0</td>\n      <td>...</td>\n      <td>0</td>\n      <td>0</td>\n      <td>0</td>\n      <td>1</td>\n      <td>0</td>\n      <td>0</td>\n      <td>0</td>\n      <td>0</td>\n      <td>0</td>\n      <td>1</td>\n    </tr>\n    <tr>\n      <th>63325</th>\n      <td>22.0</td>\n      <td>0.346122</td>\n      <td>0.032099</td>\n      <td>35.0</td>\n      <td>0</td>\n      <td>0</td>\n      <td>0</td>\n      <td>0</td>\n      <td>0</td>\n      <td>0</td>\n      <td>...</td>\n      <td>0</td>\n      <td>0</td>\n      <td>0</td>\n      <td>0</td>\n      <td>0</td>\n      <td>0</td>\n      <td>0</td>\n      <td>0</td>\n      <td>1</td>\n      <td>0</td>\n    </tr>\n  </tbody>\n</table>\n<p>63326 rows × 203 columns</p>\n</div>"
     },
     "execution_count": 30,
     "metadata": {},
     "output_type": "execute_result"
    }
   ],
   "source": [
    "df_downsampling\n",
    "# it is just copied df_final"
   ],
   "metadata": {
    "collapsed": false,
    "ExecuteTime": {
     "end_time": "2023-10-25T15:51:08.476156Z",
     "start_time": "2023-10-25T15:51:08.383561Z"
    }
   }
  },
  {
   "cell_type": "code",
   "execution_count": 31,
   "outputs": [
    {
     "name": "stdout",
     "output_type": "stream",
     "text": [
      "Agency ['ADM', 'ART', 'C2B', 'CBH']\n",
      "Agency Type ['Airlines', 'Travel Agency']\n",
      "Distribution Channel ['Offline', 'Online']\n",
      "Product Name ['1 way Comprehensive Plan', '2 way Comprehensive Plan', '24 Protect', 'Annual Gold Plan']\n",
      "Destination ['ALBANIA', 'ANGOLA', 'ARGENTINA', 'ARMENIA']\n",
      "Gender ['', 'F', 'M']\n"
     ]
    }
   ],
   "source": [
    "# dictionary of categorical values\n",
    "# Example:\n",
    "for i in dict_for_downsampling.keys():\n",
    "    print(i,dict_for_downsampling[i][:4],sep=\" \")"
   ],
   "metadata": {
    "collapsed": false,
    "ExecuteTime": {
     "end_time": "2023-10-25T15:51:08.493003Z",
     "start_time": "2023-10-25T15:51:08.417519Z"
    }
   }
  },
  {
   "cell_type": "code",
   "execution_count": 32,
   "outputs": [
    {
     "name": "stdout",
     "output_type": "stream",
     "text": [
      "927\n",
      "9270\n"
     ]
    }
   ],
   "source": [
    "# To begin with, let's downsaple the Agency type column\n",
    "df_agency_downsapled = pd.DataFrame()\n",
    "# create a list with needed column names\n",
    "desired_features = ['Duration', 'Net Sales', 'Commision (in value)', 'Age', 'Claim']\n",
    "for j in dict_for_downsampling['Agency Type']:\n",
    "    desired_features.append(f'Agency Type_{j}')\n",
    "\n",
    "# Number of columns of claim==0, to match the proportion 10/1\n",
    "\n",
    "Number_of_claim_0=int((df_downsampling['Claim']==1).sum()*10/(len(desired_features)-5))\n",
    "\n",
    "# Now all needed columns are in a list, so we drop remained\n",
    "for columns in df_downsampling.columns:\n",
    "    if columns not in desired_features:\n",
    "        df_downsampling = df_downsampling.drop(columns, axis=1)\n",
    "for i in dict_for_downsampling['Agency Type']:\n",
    "    # Agency Type_ name of the one hot encoded column\n",
    "    name = f'Agency Type_{i}'\n",
    "    # we will take all columns where 'Claim' == 1, and only Number_of_claim_0 columns where 'Claim' == 0\n",
    "    new_column_claim1 = df_downsampling.loc[(df_downsampling[name] == 1) & (df_downsampling['Claim'] == 1)]\n",
    "    df_agency_downsapled = pd.concat([df_agency_downsapled, new_column_claim1])\n",
    "    # now shuffle remaining data with Claim == 0, and take only 10 + 10 values\n",
    "    new_column_claim0 = df_downsampling.loc[(df_downsampling[name] == 1) & (df_downsampling['Claim'] == 0)]\n",
    "    # if column contains less than 10 features\n",
    "    if len(new_column_claim0) <= 10:\n",
    "        df_agency_downsapled = pd.concat([df_agency_downsapled, new_column_claim0])\n",
    "    else:\n",
    "        df_agency_downsapled = pd.concat([df_agency_downsapled, new_column_claim0.sample(frac=1, axis=0).iloc[:Number_of_claim_0]])\n",
    "print((df_agency_downsapled['Claim']==1).sum())\n",
    "print((df_agency_downsapled['Claim']==0).sum())\n",
    "# as you can see, the proportion is 1/10"
   ],
   "metadata": {
    "collapsed": false,
    "ExecuteTime": {
     "end_time": "2023-10-25T15:51:09.631032Z",
     "start_time": "2023-10-25T15:51:08.426597Z"
    }
   }
  },
  {
   "cell_type": "code",
   "execution_count": 33,
   "outputs": [
    {
     "data": {
      "text/plain": "[('Duration',),\n ('Net Sales',),\n ('Commision (in value)',),\n ('Age',),\n ('Duration', 'Net Sales'),\n ('Duration', 'Commision (in value)'),\n ('Duration', 'Age'),\n ('Net Sales', 'Commision (in value)'),\n ('Net Sales', 'Age'),\n ('Commision (in value)', 'Age'),\n ('Duration', 'Net Sales', 'Commision (in value)'),\n ('Duration', 'Net Sales', 'Age'),\n ('Duration', 'Commision (in value)', 'Age'),\n ('Net Sales', 'Commision (in value)', 'Age'),\n ('Duration', 'Net Sales', 'Commision (in value)', 'Age')]"
     },
     "execution_count": 33,
     "metadata": {},
     "output_type": "execute_result"
    }
   ],
   "source": [
    "import itertools\n",
    "# here I will find all possible combinations of numerical features\n",
    "features=df_agency_downsapled.drop('Claim',axis=1).iloc[:, :4].columns.tolist()\n",
    "all_combinations = []\n",
    "for r in range(1,len(features) + 1):\n",
    "    subsets = list(itertools.combinations(features, r))\n",
    "    all_combinations.extend(subsets)\n",
    "all_combinations"
   ],
   "metadata": {
    "collapsed": false,
    "ExecuteTime": {
     "end_time": "2023-10-25T15:51:09.631333Z",
     "start_time": "2023-10-25T15:51:09.624817Z"
    }
   }
  },
  {
   "cell_type": "code",
   "execution_count": 34,
   "outputs": [],
   "source": [
    "df_agency_downsapled=df_agency_downsapled.sample(frac=1)\n",
    "# out dataset is shuffled, just copy code and see how MSE changes "
   ],
   "metadata": {
    "collapsed": false,
    "ExecuteTime": {
     "end_time": "2023-10-25T15:51:09.631724Z",
     "start_time": "2023-10-25T15:51:09.627978Z"
    }
   }
  },
  {
   "cell_type": "code",
   "execution_count": 35,
   "outputs": [
    {
     "name": "stdout",
     "output_type": "stream",
     "text": [
      "Current feature combination: Duration\n",
      "weights : [0.00043803]\n",
      "MSE: 0.08524257311823828\n",
      "RMSE: 0.291963307828635\n",
      "\n",
      "Current feature combination: Net Sales\n",
      "weights : [0.27170394]\n",
      "MSE: 0.08008957440828453\n",
      "RMSE: 0.2830010148538067\n",
      "\n",
      "Current feature combination: Commision (in value)\n",
      "weights : [1.10992473]\n",
      "MSE: 0.08094576960775997\n",
      "RMSE: 0.2845097003755056\n",
      "\n",
      "Current feature combination: Age\n",
      "weights : [0.00174628]\n",
      "MSE: 0.0834355886115142\n",
      "RMSE: 0.2888521916335658\n",
      "\n",
      "Current feature combination: Duration and Net Sales\n",
      "weights : [1.80354741e-04 2.38432080e-01]\n",
      "MSE: 0.07949776875054741\n",
      "RMSE: 0.2819534868565158\n",
      "\n",
      "Current feature combination: Duration and Commision (in value)\n",
      "weights : [1.55504044e-04 9.71020025e-01]\n",
      "MSE: 0.08053749859874322\n",
      "RMSE: 0.28379129408553605\n",
      "\n",
      "Current feature combination: Duration and Age\n",
      "weights : [0.00029094 0.00139273]\n",
      "MSE: 0.08177546615883365\n",
      "RMSE: 0.28596409942304585\n",
      "\n",
      "Current feature combination: Net Sales and Commision (in value)\n",
      "weights : [0.17903418 0.65292942]\n",
      "MSE: 0.0782413904531373\n",
      "RMSE: 0.27971662527125074\n",
      "\n",
      "Current feature combination: Net Sales and Age\n",
      "weights : [ 0.48448499 -0.00190374]\n",
      "MSE: 0.07935695826621987\n",
      "RMSE: 0.281703671020134\n",
      "\n",
      "Current feature combination: Commision (in value) and Age\n",
      "weights : [0.87847276 0.00089157]\n",
      "MSE: 0.07954646214234559\n",
      "RMSE: 0.2820398236815957\n",
      "\n",
      "Current feature combination: Duration and Net Sales and Commision (in value)\n",
      "weights : [7.69125804e-05 1.72075075e-01 6.01990435e-01]\n",
      "MSE: 0.07814869302220066\n",
      "RMSE: 0.2795508773411392\n",
      "\n",
      "Current feature combination: Duration and Net Sales and Age\n",
      "weights : [ 1.47350883e-04  4.39090193e-01 -1.74080356e-03]\n",
      "MSE: 0.0789642199632633\n",
      "RMSE: 0.2810057294135892\n",
      "\n",
      "Current feature combination: Duration and Commision (in value) and Age\n",
      "weights : [1.21557033e-04 7.84503433e-01 8.35278771e-04]\n",
      "MSE: 0.07931489576432955\n",
      "RMSE: 0.28162900376972816\n",
      "\n",
      "Current feature combination: Net Sales and Commision (in value) and Age\n",
      "weights : [ 0.36038175  0.5907312  -0.00154353]\n",
      "MSE: 0.07788318132617063\n",
      "RMSE: 0.2790755835363793\n",
      "\n",
      "Current feature combination: Duration and Net Sales and Commision (in value) and Age\n",
      "weights : [ 5.65033076e-05  3.50492174e-01  5.54947668e-01 -1.50286571e-03]\n",
      "MSE: 0.07782939748955298\n",
      "RMSE: 0.27897920619564637\n"
     ]
    }
   ],
   "source": [
    "# Here I will try a model without using regularization\n",
    "# WEIGHTS_TYPE = 0 : weights without regularization\n",
    "# create a Dataframe without categorical features\n",
    "df_num_features=df_agency_downsapled.drop('Claim',axis=1).iloc[:, :4]\n",
    "y=df_agency_downsapled['Claim']\n",
    "for column_combinations in all_combinations:\n",
    "    print(f'Current feature combination: {\" and \".join(column_combinations)}')\n",
    "    # create a new dataset with current columns\n",
    "    df_combination=df_num_features\n",
    "    # dropping other columns\n",
    "    for column_names in df_combination.columns:\n",
    "        if column_names not in list(column_combinations):\n",
    "            df_combination=df_combination.drop(column_names,axis=1)\n",
    "    X=df_combination\n",
    "    X_train, X_test, y_ans_train, y_ans_test = train_test_split(X, y, train_size=0.8,random_state=1)\n",
    "    my_model=CustomModel(X_train,y_ans_train,X_test)\n",
    "    analytical_weights=my_model.get_analytical_weights()\n",
    "    print(f'weights : {analytical_weights}')\n",
    "    my_model.get_predicted_ans(weights_type=0)\n",
    "    print(f'MSE: {my_model.count_MSE(y_ans_test)}')\n",
    "    print(f'RMSE: {my_model.count_RMSE(y_ans_test)}')\n",
    "    print()"
   ],
   "metadata": {
    "collapsed": false,
    "ExecuteTime": {
     "end_time": "2023-10-25T15:51:09.715036Z",
     "start_time": "2023-10-25T15:51:09.634398Z"
    }
   }
  },
  {
   "cell_type": "raw",
   "source": [
    "Вывод\n",
    "Техника downsampling помогла моей модели реально предсказывать классы в рамках задания бинарной классификации.\n",
    "MSE и RMSE менялись в зависимости от предоставленной комбинации классов\n",
    "Мы уменьшили колличество примеров где Claim == 0, поэтому модель лучше распознавала и отличала классы где Claim == 1 (не происходило переобучение на превосходящем в колличестве классе)\n",
    "Эту модель можно попробовать на разных комбинациях downsampled категорийных признаков."
   ],
   "metadata": {
    "collapsed": false
   }
  }
 ],
 "metadata": {
  "colab": {
   "name": "Untitled9.ipynb",
   "provenance": []
  },
  "kernelspec": {
   "display_name": "Python 3",
   "language": "python",
   "name": "python3"
  },
  "language_info": {
   "codemirror_mode": {
    "name": "ipython",
    "version": 3
   },
   "file_extension": ".py",
   "mimetype": "text/x-python",
   "name": "python",
   "nbconvert_exporter": "python",
   "pygments_lexer": "ipython3",
   "version": "3.8.5"
  }
 },
 "nbformat": 4,
 "nbformat_minor": 1
}
