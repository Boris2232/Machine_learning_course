{
 "cells": [
  {
   "cell_type": "code",
   "execution_count": 77,
   "id": "initial_id",
   "metadata": {
    "collapsed": true,
    "ExecuteTime": {
     "end_time": "2023-10-08T18:03:04.294092Z",
     "start_time": "2023-10-08T18:03:04.289791Z"
    }
   },
   "outputs": [],
   "source": [
    "import pandas \n",
    "from sklearn.model_selection import train_test_split\n",
    "from sklearn.neighbors import KNeighborsClassifier\n",
    "import sklearn.metrics as metrics\n",
    "# dataset's link : https://github.com/mwaskom/seaborn-data/blob/master/penguins.csv"
   ]
  },
  {
   "cell_type": "code",
   "execution_count": 78,
   "outputs": [
    {
     "data": {
      "text/plain": "species               0\nisland                0\nbill_length_mm        2\nbill_depth_mm         2\nflipper_length_mm     2\nbody_mass_g           2\nsex                  11\ndtype: int64"
     },
     "execution_count": 78,
     "metadata": {},
     "output_type": "execute_result"
    }
   ],
   "source": [
    "# check if there are null values in our dataset.\n",
    "dataset=pandas.read_csv('penguins.csv')\n",
    "dataset.isnull().sum()"
   ],
   "metadata": {
    "collapsed": false,
    "ExecuteTime": {
     "end_time": "2023-10-08T18:03:04.826540Z",
     "start_time": "2023-10-08T18:03:04.820225Z"
    }
   },
   "id": "e305188424e0bdf6"
  },
  {
   "cell_type": "code",
   "execution_count": 79,
   "outputs": [
    {
     "data": {
      "text/plain": "species              0\nisland               0\nbill_length_mm       0\nbill_depth_mm        0\nflipper_length_mm    0\nbody_mass_g          0\nsex                  0\ndtype: int64"
     },
     "execution_count": 79,
     "metadata": {},
     "output_type": "execute_result"
    }
   ],
   "source": [
    "# use dropna() function to delete rows with null values.\n",
    "dataset=dataset.dropna()\n",
    "dataset.isnull().sum()"
   ],
   "metadata": {
    "collapsed": false,
    "ExecuteTime": {
     "end_time": "2023-10-08T18:03:05.608482Z",
     "start_time": "2023-10-08T18:03:05.603060Z"
    }
   },
   "id": "47b9a1d35e1dde20"
  },
  {
   "cell_type": "code",
   "execution_count": 80,
   "outputs": [],
   "source": [
    "# choose labels and features\n",
    "labels=dataset['species']\n",
    "features=dataset[['bill_length_mm','bill_depth_mm']]"
   ],
   "metadata": {
    "collapsed": false,
    "ExecuteTime": {
     "end_time": "2023-10-08T18:03:06.466615Z",
     "start_time": "2023-10-08T18:03:06.458009Z"
    }
   },
   "id": "e177efcd40b9b6e6"
  },
  {
   "cell_type": "code",
   "execution_count": 81,
   "outputs": [],
   "source": [
    "train_features, test_features, train_labels, test_labels = train_test_split( \n",
    "            features, labels, test_size=0.2, random_state=123)"
   ],
   "metadata": {
    "collapsed": false,
    "ExecuteTime": {
     "end_time": "2023-10-08T18:03:07.880373Z",
     "start_time": "2023-10-08T18:03:07.876758Z"
    }
   },
   "id": "74ae6a5c5f399721"
  },
  {
   "cell_type": "code",
   "execution_count": 82,
   "outputs": [],
   "source": [
    "# now let's train our model with neighbors count 1-10\n",
    "# create array which will contain worst and best accuracy\n",
    "accuracy_array=[]\n",
    "for neighbors  in range(1,11):\n",
    "    for weight_type in ['uniform','distance']:\n",
    "        knn_penguins=KNeighborsClassifier(n_neighbors=neighbors,weights=weight_type)\n",
    "        knn_penguins.fit(train_features,train_labels)\n",
    "        predicted_labels=knn_penguins.predict(test_features)\n",
    "        accuracy_array.append(metrics.accuracy_score(test_labels,predicted_labels))"
   ],
   "metadata": {
    "collapsed": false,
    "ExecuteTime": {
     "end_time": "2023-10-08T18:03:08.713475Z",
     "start_time": "2023-10-08T18:03:08.663101Z"
    }
   },
   "id": "cbe20b79739c0b5b"
  },
  {
   "cell_type": "code",
   "execution_count": 83,
   "outputs": [
    {
     "name": "stdout",
     "output_type": "stream",
     "text": [
      "Best accuracy: 0.940299\n",
      "Worst accuracy: 0.895522\n"
     ]
    }
   ],
   "source": [
    "# print best and worst accuracy\n",
    "print('Best accuracy: {:.6f}'.format(max(accuracy_array))) \n",
    "print('Worst accuracy: {:.6f}'.format(min(accuracy_array)))"
   ],
   "metadata": {
    "collapsed": false,
    "ExecuteTime": {
     "end_time": "2023-10-08T18:03:09.579574Z",
     "start_time": "2023-10-08T18:03:09.575183Z"
    }
   },
   "id": "6cbe91fa131c91a1"
  }
 ],
 "metadata": {
  "kernelspec": {
   "display_name": "Python 3",
   "language": "python",
   "name": "python3"
  },
  "language_info": {
   "codemirror_mode": {
    "name": "ipython",
    "version": 2
   },
   "file_extension": ".py",
   "mimetype": "text/x-python",
   "name": "python",
   "nbconvert_exporter": "python",
   "pygments_lexer": "ipython2",
   "version": "2.7.6"
  }
 },
 "nbformat": 4,
 "nbformat_minor": 5
}
