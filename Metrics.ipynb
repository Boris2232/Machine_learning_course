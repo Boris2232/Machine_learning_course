{
 "cells": [
  {
   "cell_type": "code",
   "execution_count": 28,
   "id": "a452a251",
   "metadata": {},
   "outputs": [],
   "source": [
    "from matplotlib import pyplot as plt\n",
    "import numpy as np"
   ]
  },
  {
   "cell_type": "code",
   "execution_count": 66,
   "id": "089d1732",
   "metadata": {},
   "outputs": [],
   "source": [
    "# input two strings \n",
    "# First string containts real data \n",
    "# Second string contains predicted data \n",
    "# Compute the main regression metrics \n",
    "\n",
    "Y1=\"1 5 2 9 2 3\"\n",
    "Y2=\"1.5 5.2 2.3 8.7 2.8 3.3\""
   ]
  },
  {
   "cell_type": "code",
   "execution_count": 78,
   "id": "6377c00d",
   "metadata": {},
   "outputs": [],
   "source": [
    "def count_MSE(y_true,y_pred):\n",
    "    return np.mean(np.square(y_true-y_pred))\n",
    "def count_MAE(y_true,y_pred):\n",
    "    return np.mean(np.abs(y_true - y_pred))\n",
    "def count_RMSE(y_true,y_pred):\n",
    "    return np.sqrt(count_MSE(y_true,y_pred))"
   ]
  },
  {
   "cell_type": "code",
   "execution_count": 79,
   "id": "0ceac7f5",
   "metadata": {},
   "outputs": [
    {
     "name": "stdout",
     "output_type": "stream",
     "text": [
      "MSE: 0.20\n",
      "MAE: 0.40\n",
      "RMSE: 0.45\n"
     ]
    }
   ],
   "source": [
    "y_true=np.array([float(i) for i in Y1.split()])\n",
    "y_pred=np.array([float(i) for i in Y2.split()])\n",
    "MSE=count_MSE(y_true,y_pred)\n",
    "MAE=count_MAE(y_true,y_pred)\n",
    "RMSE=count_RMSE(y_true,y_pred)\n",
    "print(f\"MSE: {'{:.2f}'.format(MSE)}\",f\"MAE: {'{:.2f}'.format(MAE)}\",f\"RMSE: {'{:.2f}'.format(RMSE)}\",sep='\\n')"
   ]
  },
  {
   "cell_type": "code",
   "execution_count": 83,
   "id": "bda964d3",
   "metadata": {},
   "outputs": [
    {
     "name": "stdout",
     "output_type": "stream",
     "text": [
      "R2: 0.97\n"
     ]
    }
   ],
   "source": [
    "y_hat=np.mean(y_true)\n",
    "R_square=1-(count_MSE(y_true,y_pred)/count_MSE(y_hat,y_true))\n",
    "print(f\"R2: {'%.2f' % R_square}\")"
   ]
  },
  {
   "cell_type": "code",
   "execution_count": null,
   "id": "9cac7e36",
   "metadata": {},
   "outputs": [],
   "source": []
  }
 ],
 "metadata": {
  "kernelspec": {
   "display_name": "Python 3 (ipykernel)",
   "language": "python",
   "name": "python3"
  },
  "language_info": {
   "codemirror_mode": {
    "name": "ipython",
    "version": 3
   },
   "file_extension": ".py",
   "mimetype": "text/x-python",
   "name": "python",
   "nbconvert_exporter": "python",
   "pygments_lexer": "ipython3",
   "version": "3.11.5"
  }
 },
 "nbformat": 4,
 "nbformat_minor": 5
}
