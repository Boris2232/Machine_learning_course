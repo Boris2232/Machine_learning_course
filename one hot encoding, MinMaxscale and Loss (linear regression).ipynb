{
 "cells": [
  {
   "cell_type": "code",
   "execution_count": 72,
   "id": "initial_id",
   "metadata": {
    "collapsed": true,
    "ExecuteTime": {
     "end_time": "2023-10-21T15:01:25.393851Z",
     "start_time": "2023-10-21T15:01:25.001279Z"
    }
   },
   "outputs": [],
   "source": [
    "import pandas as pd\n",
    "import numpy as np\n",
    "from sklearn.preprocessing import MinMaxScaler"
   ]
  },
  {
   "cell_type": "code",
   "execution_count": 2,
   "outputs": [],
   "source": [
    "# One hot encoding in python without using pandas and sklearn\n",
    "def onehot_encoding(x):\n",
    "    classes_set = sorted(list(set(x)))\n",
    "    classes_dict = dict()\n",
    "    classes = 0\n",
    "    for i in classes_set:\n",
    "        if i not in classes_dict.keys():\n",
    "            classes_dict[i] = classes\n",
    "            classes += 1\n",
    "    one_hot = np.zeros(shape=(len(x), classes))\n",
    "    for i in range(len(x)):\n",
    "        one_hot[i][classes_dict[x[i]]] = 1\n",
    "    return one_hot.astype('int')\n"
   ],
   "metadata": {
    "collapsed": false,
    "ExecuteTime": {
     "end_time": "2023-10-20T14:51:16.115318Z",
     "start_time": "2023-10-20T14:51:16.106992Z"
    }
   },
   "id": "2b52c05862296393"
  },
  {
   "cell_type": "code",
   "execution_count": 3,
   "outputs": [],
   "source": [
    "def compute_Loss(y_arg,x_arg,function,matrix=False,weights=None):\n",
    "    # if the given data is not a matrix\n",
    "    if matrix is False:\n",
    "        loss=np.sum(np.square(y_arg-function(x_arg)))\n",
    "    else:\n",
    "        loss=np.sum(np.square(y_arg-function(x_arg,weights)))\n",
    "    return loss"
   ],
   "metadata": {
    "collapsed": false,
    "ExecuteTime": {
     "end_time": "2023-10-20T14:51:16.704957Z",
     "start_time": "2023-10-20T14:51:16.697076Z"
    }
   },
   "id": "e8ffada450eacd85"
  },
  {
   "cell_type": "code",
   "execution_count": 4,
   "outputs": [
    {
     "data": {
      "text/plain": "19"
     },
     "execution_count": 4,
     "metadata": {},
     "output_type": "execute_result"
    }
   ],
   "source": [
    "data=[(2,2),(2,1),(5,9),(-3,-10),(0,-5),(3,3)]\n",
    "all_x=np.array(list(map(lambda l:l[0],data)))\n",
    "all_y=np.array(list(map(lambda l:l[1],data)))\n",
    "# now let's count the MSE of this given data, function is y = 3x − 5\n",
    "my_function=lambda x:x * 3 - 5\n",
    "Loss=compute_Loss(all_y,all_x,my_function)\n",
    "Loss"
   ],
   "metadata": {
    "collapsed": false,
    "ExecuteTime": {
     "end_time": "2023-10-20T14:51:17.233677Z",
     "start_time": "2023-10-20T14:51:17.222971Z"
    }
   },
   "id": "ab1a6bcaff57e4e4"
  },
  {
   "cell_type": "code",
   "execution_count": 5,
   "outputs": [
    {
     "name": "stdout",
     "output_type": "stream",
     "text": [
      "[[1. 2. 0. 2. 2.]\n",
      " [1. 5. 3. 3. 5.]\n",
      " [1. 0. 3. 1. 2.]\n",
      " [1. 2. 8. 7. 6.]\n",
      " [1. 7. 1. 3. 2.]]\n"
     ]
    },
    {
     "data": {
      "text/plain": "62.0"
     },
     "execution_count": 5,
     "metadata": {},
     "output_type": "execute_result"
    }
   ],
   "source": [
    "# Now let's compute Loss Function for matrix X, weights and matrix y\n",
    "x=np.array([2,0,2,2,5,3,3,5,0,3,1,2,2,8,7,6,7,1,3,2]).reshape((5,4))\n",
    "y=np.array([1,2,3,5,8])\n",
    "# The first coordinate is w0 => we need to add ones to x vertically\n",
    "x_changed=np.hstack((np.ones((x.shape[0],1)),x))\n",
    "\n",
    "print(x_changed,end='\\n\\n')\n",
    "w=np.array([-1,1,1,-1,1])\n",
    "my_function=lambda a,b:np.dot(a,b)\n",
    "\n",
    "# count Loss\n",
    "Loss_matrix=compute_Loss(y,x_changed,my_function,matrix=True,weights=w)\n",
    "Loss_matrix"
   ],
   "metadata": {
    "collapsed": false,
    "ExecuteTime": {
     "end_time": "2023-10-20T14:51:18.361193Z",
     "start_time": "2023-10-20T14:51:18.355160Z"
    }
   },
   "id": "cc38256277ff956b"
  },
  {
   "cell_type": "code",
   "execution_count": 34,
   "outputs": [
    {
     "name": "stdout",
     "output_type": "stream",
     "text": [
      "1.53 -0.32 0.1 -0.21 0.37 "
     ]
    }
   ],
   "source": [
    "# There is a task to find analytical solution for matrix X and answers Y\n",
    "X=np.array([1,9,6,3,3,1,9,6,6,3,1,9,9,6,3,1,1,0,1,0]).reshape((5,4))\n",
    "# Our X matrix is shaped 5x4, y has a shape of 5x1 => we need to stack ones to matrix X\n",
    "X=np.hstack((np.ones((x.shape[0],1)),X))\n",
    "y=np.array([2,1,3,-1,1])\n",
    "# print(X.shape,y.shape)\n",
    "\n",
    "# Formula:  optimal weights = (X.T*X)^-1*X.Ty\n",
    "optimal_weights=np.dot(np.dot(np.linalg.inv(np.dot(X.T, X)), X.T), y)\n",
    "# round numbers to 2 decimals\n",
    "for i in optimal_weights:\n",
    "    print(round(i,2), end=' ')"
   ],
   "metadata": {
    "collapsed": false,
    "ExecuteTime": {
     "end_time": "2023-10-21T13:29:38.867147Z",
     "start_time": "2023-10-21T13:29:38.860690Z"
    }
   },
   "id": "c46297f515c5fe59"
  },
  {
   "cell_type": "code",
   "execution_count": 57,
   "outputs": [
    {
     "name": "stdout",
     "output_type": "stream",
     "text": [
      "0.66 -0.25 0.13 -0.14 0.39 "
     ]
    }
   ],
   "source": [
    "# For the same data let's add a L2 regularization with lambda = 1\n",
    "# |w|^2 = w1^2 + w2^2 + ...\n",
    "lamb=1\n",
    "# We add new parameters to our weights\n",
    "# regularized weights = (𝑋.T * 𝑋+ 𝜆^2 * 𝐸)^-1 * 𝑋.T * 𝑦\n",
    "X_shape_x,X_shape_y=X.shape\n",
    "# E is a \n",
    "E = np.eye(X_shape_y)\n",
    "regularized_weights=np.dot(np.dot(np.linalg.inv(np.dot(X.T, X)+np.dot(E,np.square(lamb))),X.T),y)\n",
    "for i in regularized_weights:\n",
    "    print(round(i,2),end=' ')"
   ],
   "metadata": {
    "collapsed": false,
    "ExecuteTime": {
     "end_time": "2023-10-21T13:52:25.539799Z",
     "start_time": "2023-10-21T13:52:25.533868Z"
    }
   },
   "id": "1ed5e293372b75da"
  },
  {
   "cell_type": "code",
   "execution_count": 69,
   "outputs": [],
   "source": [
    "# Here is a function which has the same functionality as a MinMaxScaler from sklearn library\n",
    "def minmax_scale(matrix):\n",
    "    max_values=matrix.max(axis=1,keepdims=True)\n",
    "    min_values=matrix.min(axis=1,keepdims=True)\n",
    "    matrix=(matrix-min_values)/(max_values-min_values)\n",
    "    return matrix"
   ],
   "metadata": {
    "collapsed": false,
    "ExecuteTime": {
     "end_time": "2023-10-21T14:25:26.250433Z",
     "start_time": "2023-10-21T14:25:26.242676Z"
    }
   },
   "id": "56ace935f63631ad"
  },
  {
   "cell_type": "code",
   "execution_count": 70,
   "outputs": [
    {
     "name": "stdout",
     "output_type": "stream",
     "text": [
      "[[0. 1.]\n",
      " [1. 0.]]\n"
     ]
    }
   ],
   "source": [
    "X = np.array([[1, 2], [2, 1]])\n",
    "print(minmax_scale(X))"
   ],
   "metadata": {
    "collapsed": false,
    "ExecuteTime": {
     "end_time": "2023-10-21T14:25:26.408916Z",
     "start_time": "2023-10-21T14:25:26.403085Z"
    }
   },
   "id": "5035a15ceb110836"
  },
  {
   "cell_type": "code",
   "execution_count": 82,
   "outputs": [
    {
     "name": "stdout",
     "output_type": "stream",
     "text": [
      "[[0.   1.   0.  ]\n",
      " [0.25 0.   0.  ]\n",
      " [0.5  0.   0.  ]\n",
      " [1.   0.   0.  ]]\n"
     ]
    }
   ],
   "source": [
    "data = np.array([[-1, 3, 3], [-0.5, 2, 3], [0, 2, 3], [1, 2, 3]])\n",
    "scaler = MinMaxScaler()\n",
    "scaler.fit(data)\n",
    "print(scaler.transform(data))"
   ],
   "metadata": {
    "collapsed": false,
    "ExecuteTime": {
     "end_time": "2023-10-21T16:00:38.922071Z",
     "start_time": "2023-10-21T16:00:38.915575Z"
    }
   },
   "id": "db010524cc7a8b75"
  }
 ],
 "metadata": {
  "kernelspec": {
   "display_name": "Python 3",
   "language": "python",
   "name": "python3"
  },
  "language_info": {
   "codemirror_mode": {
    "name": "ipython",
    "version": 2
   },
   "file_extension": ".py",
   "mimetype": "text/x-python",
   "name": "python",
   "nbconvert_exporter": "python",
   "pygments_lexer": "ipython2",
   "version": "2.7.6"
  }
 },
 "nbformat": 4,
 "nbformat_minor": 5
}
